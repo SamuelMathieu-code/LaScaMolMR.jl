{
 "cells": [
  {
   "attachments": {},
   "cell_type": "markdown",
   "metadata": {},
   "source": [
    "## Using QTL and GWAS struct to read files and filter for potential ivs.\n",
    "\n",
    "1) imports"
   ]
  },
  {
   "attachments": {},
   "cell_type": "markdown",
   "metadata": {},
   "source": [
    "To enable multiple threads, create a new jupiter kernel with N threads ;\n",
    "\n",
    "```julia\n",
    "using IJulia\n",
    "IJulia.installkernel(\"Julia 160 Threads\", env=Dict(\n",
    "    \"JULIA_NUM_THREADS\" => \"160\",\n",
    "))\n",
    "```\n",
    "Then close and re-open the vscode window to restart the jupyter extention. It sould then detect the new kernels. \n",
    "Select the new kernel on the top right corner of the notebook view in vscode"
   ]
  },
  {
   "cell_type": "code",
   "execution_count": 1,
   "metadata": {},
   "outputs": [],
   "source": [
    "using DLMReader\n",
    "using Chain\n",
    "using InMemoryDatasets\n",
    "using Random\n",
    "import Base.Threads.@threads\n",
    "using StatsBase\n",
    "using Distributions\n",
    "using GLM\n",
    "using Glob"
   ]
  },
  {
   "attachments": {},
   "cell_type": "markdown",
   "metadata": {},
   "source": [
    "2) Create QTl and GWAS objects"
   ]
  },
  {
   "cell_type": "code",
   "execution_count": 12,
   "metadata": {},
   "outputs": [],
   "source": [
    "include(\"../src/inputs.jl\")"
   ]
  },
  {
   "cell_type": "code",
   "execution_count": 13,
   "metadata": {},
   "outputs": [
    {
     "name": "stderr",
     "output_type": "stream",
     "text": [
      "\u001b[33m\u001b[1m┌ \u001b[22m\u001b[39m\u001b[33m\u001b[1mWarning: \u001b[22m\u001b[39mThe first element of path_pattern starts with the path separator. Paths separators are not necessary in this place. It will be removed\n",
      "\u001b[33m\u001b[1m└ \u001b[22m\u001b[39m\u001b[90m@ Main ~/miniconda3/envs/julia1.8/share/julia/dev/MrPainter.jl/src/inputs.jl:99\u001b[39m\n"
     ]
    },
    {
     "data": {
      "text/plain": [
       "QTLStudy([\"../test/data/exposureA/exposureA_chr1.txt\", \"../test/data/exposureC/exposureC_chr3.txt\"], Any[\"A\", \"C\"], [\"A\", \"C\"], [1, 3], [398576, 9874365], Dict{Int64, Any}(2 => \"etc...\", 1 => TRAIT_NAME), ' ')"
      ]
     },
     "execution_count": 13,
     "metadata": {},
     "output_type": "execute_result"
    }
   ],
   "source": [
    "file_pat = [\"/exposure\", TRAIT_NAME, \"/exposure\", TRAIT_NAME, \"_chr\", CHR, \".txt\"]\n",
    "folder = \"../test/data/\"\n",
    "trait_v = [\"A\", \"C\"]\n",
    "chr_v = [1, 3]\n",
    "tss_v = [398576, 9874365]\n",
    "columns = Dict(1=>TRAIT_NAME, 2=>\"etc...\")\n",
    "sep = ' '\n",
    "\n",
    "QTLStudy_from_pattern(folder, file_pat, trait_v, chr_v, tss_v, columns, ' ')\n"
   ]
  },
  {
   "attachments": {},
   "cell_type": "markdown",
   "metadata": {},
   "source": [
    "real data"
   ]
  },
  {
   "cell_type": "code",
   "execution_count": null,
   "metadata": {},
   "outputs": [],
   "source": [
    "GWAS_file_path = \"/mnt/r6_data/GWAS_MRsuite_hg38/input_MRsuite_BMI_Yengo_hg38\"\n",
    "QTL_prots_path = \"/home/matpa01/CrickData_matpa01/Decode_mapping_suite\"\n",
    "QTL_prots_tss_file = \"/mnt/r6_data/Patrick/Input_Decode/decode_list_hg38\"\n",
    "\n",
    "tss_df = filereader(QTL_prots_tss_file, delimiter = '_', header=[:trait, :chr, :tss], eolwarn = false)\n",
    "\n",
    "dropmissing!(tss_df)"
   ]
  },
  {
   "cell_type": "code",
   "execution_count": null,
   "metadata": {},
   "outputs": [],
   "source": [
    "Decode_pat = [TRAIT_NAME, \"/\", TRAIT_NAME, \"_chromosome_\", CHR, \".tsv\"]\n",
    "Decode_columns = Dict(1 => \"id\", 2 => CHR, 3 => POS, 4 => A_EFFECT, 5 => A_OTHER, 6 => BETA, 7 => SE, 8 => PVAL)\n",
    "sep = '\\t'\n",
    "\n",
    "Decode = QTLStudy_from_pattern(QTL_prots_path,Decode_pat, tss_df.trait, tss_df.chr, tss_df.tss, Decode_columns, sep, true)"
   ]
  }
 ],
 "metadata": {
  "kernelspec": {
   "display_name": "Julia 12 Threads 1.8.1",
   "language": "julia",
   "name": "julia-12-threads-1.8"
  },
  "language_info": {
   "file_extension": ".jl",
   "mimetype": "application/julia",
   "name": "julia",
   "version": "1.8.1"
  },
  "orig_nbformat": 4
 },
 "nbformat": 4,
 "nbformat_minor": 2
}
