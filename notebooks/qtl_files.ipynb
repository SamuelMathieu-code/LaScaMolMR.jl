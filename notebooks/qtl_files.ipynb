{
 "cells": [
  {
   "attachments": {},
   "cell_type": "markdown",
   "metadata": {},
   "source": [
    "## Using QTL and GWAS struct to read files and filter for potential ivs.\n",
    "\n",
    "1) imports"
   ]
  },
  {
   "attachments": {},
   "cell_type": "markdown",
   "metadata": {},
   "source": [
    "To enable multiple threads, create a new jupiter kernel with N threads ;\n",
    "\n",
    "```julia\n",
    "using IJulia\n",
    "IJulia.installkernel(\"Julia 160 Threads\", env=Dict(\n",
    "    \"JULIA_NUM_THREADS\" => \"160\",\n",
    "))\n",
    "```\n",
    "Then close and re-open the vscode window to restart the jupyter extention. It sould then detect the new kernels. \n",
    "Select the new kernel on the top right corner of the notebook view in vscode"
   ]
  },
  {
   "cell_type": "code",
   "execution_count": 1,
   "metadata": {},
   "outputs": [],
   "source": [
    "using DLMReader\n",
    "using Chain\n",
    "using InMemoryDatasets\n",
    "using Random\n",
    "import Base.Threads.@threads\n",
    "using StatsBase\n",
    "using Distributions\n",
    "using GLM\n",
    "using Glob"
   ]
  },
  {
   "attachments": {},
   "cell_type": "markdown",
   "metadata": {},
   "source": [
    "2) Create QTl and GWAS objects"
   ]
  },
  {
   "cell_type": "code",
   "execution_count": 2,
   "metadata": {},
   "outputs": [],
   "source": [
    "include(\"../src/inputs.jl\")"
   ]
  },
  {
   "cell_type": "code",
   "execution_count": 12,
   "metadata": {},
   "outputs": [
    {
     "data": {
      "text/plain": [
       "' ': ASCII/Unicode U+0020 (category Zs: Separator, space)"
      ]
     },
     "execution_count": 12,
     "metadata": {},
     "output_type": "execute_result"
    }
   ],
   "source": [
    "file_pat = [TRAIT_NAME, \"/exposure\", TRAIT_NAME, \"_chr\", CHR, \".txt\"]\n",
    "folder = \"/home/samat33/miniconda3/envs/julia_r/share/julia/dev/MrPainter/test/data/exposure\"\n",
    "trait_v = [\"A\", \"C\"]\n",
    "chr_v = [1, 3]\n",
    "tss_v = [398576, 9874365]\n",
    "columns = Dict(1=>TRAIT_NAME, 2=>\"etc...\")\n",
    "sep = ' '"
   ]
  },
  {
   "cell_type": "code",
   "execution_count": 13,
   "metadata": {},
   "outputs": [
    {
     "data": {
      "text/plain": [
       "QTLStudy(String[], Any[], [\"A\", \"C\"], [1, 3], [398576, 9874365], Dict{Int64, Any}(2 => \"etc...\", 1 => TRAIT_NAME), ' ')"
      ]
     },
     "execution_count": 13,
     "metadata": {},
     "output_type": "execute_result"
    }
   ],
   "source": [
    "QTLStudy_from_pattern(folder, file_pat, trait_v, chr_v, tss_v, columns, ' ')"
   ]
  },
  {
   "attachments": {},
   "cell_type": "markdown",
   "metadata": {},
   "source": [
    "real data"
   ]
  },
  {
   "cell_type": "code",
   "execution_count": 5,
   "metadata": {},
   "outputs": [
    {
     "name": "stderr",
     "output_type": "stream",
     "text": [
      "\u001b[33m\u001b[1m┌ \u001b[22m\u001b[39m\u001b[33m\u001b[1mWarning: \u001b[22m\u001b[39mThere are problems with parsing the input file at line 723 (observation 723) : \n",
      "\u001b[33m\u001b[1m│ \u001b[22m\u001b[39mColumn 2 : chr::Int64 : Read from buffer (\"Y\")\n",
      "\u001b[33m\u001b[1m│ \u001b[22m\u001b[39m the values are set as missing.\n",
      "\u001b[33m\u001b[1m│ \u001b[22m\u001b[39mMORE DETAILS: \n",
      "\u001b[33m\u001b[1m│ \u001b[22m\u001b[39mtrait::String = CDY1.7097.8, chr::Int64 = missing, tss::Int64 = 25622162\n",
      "\u001b[33m\u001b[1m│ \u001b[22m\u001b[39mCDY1.7097.8_Y_25622162\n",
      "\u001b[33m\u001b[1m└ \u001b[22m\u001b[39m\u001b[90m@ DLMReader ~/.julia/packages/DLMReader/N5BLJ/src/util.jl:952\u001b[39m\n",
      "\u001b[33m\u001b[1m┌ \u001b[22m\u001b[39m\u001b[33m\u001b[1mWarning: \u001b[22m\u001b[39mThere are problems with parsing the input file at line 1295 (observation 1295) : \n",
      "\u001b[33m\u001b[1m│ \u001b[22m\u001b[39mColumn 2 : chr::Int64 : Read from buffer (\"Y\")\n",
      "\u001b[33m\u001b[1m│ \u001b[22m\u001b[39m the values are set as missing.\n",
      "\u001b[33m\u001b[1m│ \u001b[22m\u001b[39mMORE DETAILS: \n",
      "\u001b[33m\u001b[1m│ \u001b[22m\u001b[39mtrait::String = EIF1AY.19224.5, chr::Int64 = missing, tss::Int64 = 20575776\n",
      "\u001b[33m\u001b[1m│ \u001b[22m\u001b[39mEIF1AY.19224.5_Y_20575776\n",
      "\u001b[33m\u001b[1m└ \u001b[22m\u001b[39m\u001b[90m@ DLMReader ~/.julia/packages/DLMReader/N5BLJ/src/util.jl:952\u001b[39m\n"
     ]
    },
    {
     "data": {
      "text/html": [
       "<table class=\"data-set\"><thead><tr><th></th><th>trait</th><th>chr</th><th>tss</th></tr><tr><th></th><th>identity</th><th>identity</th><th>identity</th></tr><tr><th></th><th title=\"Union{Missing, String}\">String?</th><th title=\"Union{Missing, Int64}\">Int64?</th><th title=\"Union{Missing, Int64}\">Int64?</th></tr></thead><tbody><p>4,483 rows × 3 columns</p><tr><th>1</th><td>A1BG.16561.9</td><td>19</td><td>58353492</td></tr><tr><th>2</th><td>A1CF.12423.38</td><td>10</td><td>50885675</td></tr><tr><th>3</th><td>A2ML1.15482.12</td><td>12</td><td>8822621</td></tr><tr><th>4</th><td>A2M.3708.62</td><td>12</td><td>9116229</td></tr><tr><th>5</th><td>A4GALT.8759.29</td><td>22</td><td>42721298</td></tr><tr><th>6</th><td>A4GNT.10835.25</td><td>3</td><td>138132390</td></tr><tr><th>7</th><td>AAGAB.11926.23</td><td>15</td><td>67255195</td></tr><tr><th>8</th><td>AASDHPPT.17320.19</td><td>11</td><td>106075501</td></tr><tr><th>9</th><td>ABCC6.8935.22</td><td>16</td><td>16223522</td></tr><tr><th>10</th><td>ABHD10.17370.186</td><td>3</td><td>111979010</td></tr><tr><th>11</th><td>ABHD12.7825.7</td><td>20</td><td>25390835</td></tr><tr><th>12</th><td>ABHD14B.19325.21</td><td>3</td><td>51983409</td></tr><tr><th>13</th><td>ABL1.3341.33</td><td>9</td><td>130713016</td></tr><tr><th>14</th><td>ABL2.3342.76</td><td>1</td><td>179229684</td></tr><tr><th>15</th><td>ABL2.5261.13</td><td>1</td><td>179229684</td></tr><tr><th>16</th><td>ABLIM3.13578.98</td><td>5</td><td>149141483</td></tr><tr><th>17</th><td>ABO.9253.52</td><td>9</td><td>133276024</td></tr><tr><th>18</th><td>ACAA1.17782.23</td><td>3</td><td>38137242</td></tr><tr><th>19</th><td>ACAD8.11406.82</td><td>11</td><td>134253548</td></tr><tr><th>20</th><td>ACADL.17857.6</td><td>2</td><td>210225447</td></tr><tr><th>21</th><td>ACADM.17333.20</td><td>1</td><td>75724431</td></tr><tr><th>22</th><td>ACADSB.17403.14</td><td>10</td><td>123008979</td></tr><tr><th>23</th><td>ACADS.17393.13</td><td>12</td><td>120725774</td></tr><tr><th>24</th><td>ACADVL.19262.219</td><td>17</td><td>7217125</td></tr><tr><th>25</th><td>ACAN.3280.49</td><td>15</td><td>88803436</td></tr><tr><th>26</th><td>ACAP2.12343.14</td><td>3</td><td>195443044</td></tr><tr><th>27</th><td>ACAT1.19197.95</td><td>11</td><td>108116695</td></tr><tr><th>28</th><td>ACAT2.17341.89</td><td>6</td><td>159762045</td></tr><tr><th>29</th><td>ACBD6.10075.75</td><td>1</td><td>180502954</td></tr><tr><th>30</th><td>ACBD6.19341.36</td><td>1</td><td>180502954</td></tr><tr><th>&vellip;</th><td>&vellip;</td><td>&vellip;</td><td>&vellip;</td></tr></tbody></table>"
      ],
      "text/latex": [
       "\\begin{tabular}{r|ccc}\n",
       "\t& trait & chr & tss\\\\\n",
       "\t\\hline\n",
       "\t& identity & identity & identity\\\\\n",
       "\t\\hline\n",
       "\t& String? & Int64? & Int64?\\\\\n",
       "\t\\hline\n",
       "\t1 & A1BG.16561.9 & 19 & 58353492 \\\\\n",
       "\t2 & A1CF.12423.38 & 10 & 50885675 \\\\\n",
       "\t3 & A2ML1.15482.12 & 12 & 8822621 \\\\\n",
       "\t4 & A2M.3708.62 & 12 & 9116229 \\\\\n",
       "\t5 & A4GALT.8759.29 & 22 & 42721298 \\\\\n",
       "\t6 & A4GNT.10835.25 & 3 & 138132390 \\\\\n",
       "\t7 & AAGAB.11926.23 & 15 & 67255195 \\\\\n",
       "\t8 & AASDHPPT.17320.19 & 11 & 106075501 \\\\\n",
       "\t9 & ABCC6.8935.22 & 16 & 16223522 \\\\\n",
       "\t10 & ABHD10.17370.186 & 3 & 111979010 \\\\\n",
       "\t11 & ABHD12.7825.7 & 20 & 25390835 \\\\\n",
       "\t12 & ABHD14B.19325.21 & 3 & 51983409 \\\\\n",
       "\t13 & ABL1.3341.33 & 9 & 130713016 \\\\\n",
       "\t14 & ABL2.3342.76 & 1 & 179229684 \\\\\n",
       "\t15 & ABL2.5261.13 & 1 & 179229684 \\\\\n",
       "\t16 & ABLIM3.13578.98 & 5 & 149141483 \\\\\n",
       "\t17 & ABO.9253.52 & 9 & 133276024 \\\\\n",
       "\t18 & ACAA1.17782.23 & 3 & 38137242 \\\\\n",
       "\t19 & ACAD8.11406.82 & 11 & 134253548 \\\\\n",
       "\t20 & ACADL.17857.6 & 2 & 210225447 \\\\\n",
       "\t21 & ACADM.17333.20 & 1 & 75724431 \\\\\n",
       "\t22 & ACADSB.17403.14 & 10 & 123008979 \\\\\n",
       "\t23 & ACADS.17393.13 & 12 & 120725774 \\\\\n",
       "\t24 & ACADVL.19262.219 & 17 & 7217125 \\\\\n",
       "\t25 & ACAN.3280.49 & 15 & 88803436 \\\\\n",
       "\t26 & ACAP2.12343.14 & 3 & 195443044 \\\\\n",
       "\t27 & ACAT1.19197.95 & 11 & 108116695 \\\\\n",
       "\t28 & ACAT2.17341.89 & 6 & 159762045 \\\\\n",
       "\t29 & ACBD6.10075.75 & 1 & 180502954 \\\\\n",
       "\t30 & ACBD6.19341.36 & 1 & 180502954 \\\\\n",
       "\t$\\dots$ & $\\dots$ & $\\dots$ & $\\dots$ \\\\\n",
       "\\end{tabular}\n"
      ],
      "text/plain": [
       "\u001b[1m4483×3 Dataset\u001b[0m\n",
       "\u001b[1m  Row \u001b[0m│\u001b[1m trait             \u001b[0m\u001b[1m chr      \u001b[0m\u001b[1m tss       \u001b[0m\n",
       "      │\u001b[90m identity          \u001b[0m\u001b[90m identity \u001b[0m\u001b[90m identity  \u001b[0m\n",
       "      │\u001b[90m String?           \u001b[0m\u001b[90m Int64?   \u001b[0m\u001b[90m Int64?    \u001b[0m\n",
       "──────┼────────────────────────────────────────\n",
       "    1 │ A1BG.16561.9             19   58353492\n",
       "    2 │ A1CF.12423.38            10   50885675\n",
       "    3 │ A2ML1.15482.12           12    8822621\n",
       "    4 │ A2M.3708.62              12    9116229\n",
       "    5 │ A4GALT.8759.29           22   42721298\n",
       "    6 │ A4GNT.10835.25            3  138132390\n",
       "    7 │ AAGAB.11926.23           15   67255195\n",
       "    8 │ AASDHPPT.17320.19        11  106075501\n",
       "    9 │ ABCC6.8935.22            16   16223522\n",
       "   10 │ ABHD10.17370.186          3  111979010\n",
       "  ⋮   │         ⋮             ⋮          ⋮\n",
       " 4474 │ ZNF843.8321.27           16   31443160\n",
       " 4475 │ ZNRF3.10390.21           22   28883572\n",
       " 4476 │ ZNRF3.14122.132          22   28883572\n",
       " 4477 │ ZP4.7766.25               1  237890922\n",
       " 4478 │ ZPBP2.10710.23           17   39868202\n",
       " 4479 │ ZPBP.8635.283             7   50121329\n",
       " 4480 │ ZPLD1.5590.11             3  102099244\n",
       " 4481 │ ZWILCH.18302.204         15   66504959\n",
       " 4482 │ ZWINT.18286.3            10   56361273\n",
       " 4483 │ ZYX.13632.10              7  143381295\n",
       "\u001b[36m                              4463 rows omitted\u001b[0m"
      ]
     },
     "execution_count": 5,
     "metadata": {},
     "output_type": "execute_result"
    }
   ],
   "source": [
    "GWAS_file_path = \"/mnt/r6_data/GWAS_MRsuite_hg38/input_MRsuite_BMI_Yengo_hg38\"\n",
    "QTL_prots_path = \"/home/matpa01/CrickData_matpa01/Decode_mapping_suite\"\n",
    "QTL_prots_tss_file = \"/mnt/r6_data/Patrick/Input_Decode/decode_list_hg38\"\n",
    "\n",
    "tss_df = filereader(QTL_prots_tss_file, delimiter = '_', header=[:trait, :chr, :tss], eolwarn = false)\n",
    "\n",
    "dropmissing!(tss_df)"
   ]
  },
  {
   "cell_type": "code",
   "execution_count": 14,
   "metadata": {},
   "outputs": [
    {
     "data": {
      "text/plain": [
       "QTLStudy([\"/home/matpa01/CrickData_matpa01/Decode_mapping_suite/A1BG.16561.9/A1BG.16561.9_chromosome_19.tsv\", \"/home/matpa01/CrickData_matpa01/Decode_mapping_suite/A1CF.12423.38/A1CF.12423.38_chromosome_10.tsv\", \"/home/matpa01/CrickData_matpa01/Decode_mapping_suite/A2M.3708.62/A2M.3708.62_chromosome_12.tsv\", \"/home/matpa01/CrickData_matpa01/Decode_mapping_suite/A2ML1.15482.12/A2ML1.15482.12_chromosome_12.tsv\", \"/home/matpa01/CrickData_matpa01/Decode_mapping_suite/A4GALT.8759.29/A4GALT.8759.29_chromosome_22.tsv\", \"/home/matpa01/CrickData_matpa01/Decode_mapping_suite/A4GNT.10835.25/A4GNT.10835.25_chromosome_3.tsv\", \"/home/matpa01/CrickData_matpa01/Decode_mapping_suite/AAGAB.11926.23/AAGAB.11926.23_chromosome_15.tsv\", \"/home/matpa01/CrickData_matpa01/Decode_mapping_suite/AASDHPPT.17320.19/AASDHPPT.17320.19_chromosome_11.tsv\", \"/home/matpa01/CrickData_matpa01/Decode_mapping_suite/ABCC6.8935.22/ABCC6.8935.22_chromosome_16.tsv\", \"/home/matpa01/CrickData_matpa01/Decode_mapping_suite/ABHD10.17370.186/ABHD10.17370.186_chromosome_3.tsv\"  …  \"/home/matpa01/CrickData_matpa01/Decode_mapping_suite/ZNF843.8321.27/ZNF843.8321.27_chromosome_16.tsv\", \"/home/matpa01/CrickData_matpa01/Decode_mapping_suite/ZNRF3.10390.21/ZNRF3.10390.21_chromosome_22.tsv\", \"/home/matpa01/CrickData_matpa01/Decode_mapping_suite/ZNRF3.14122.132/ZNRF3.14122.132_chromosome_22.tsv\", \"/home/matpa01/CrickData_matpa01/Decode_mapping_suite/ZP4.7766.25/ZP4.7766.25_chromosome_1.tsv\", \"/home/matpa01/CrickData_matpa01/Decode_mapping_suite/ZPBP.8635.283/ZPBP.8635.283_chromosome_7.tsv\", \"/home/matpa01/CrickData_matpa01/Decode_mapping_suite/ZPBP2.10710.23/ZPBP2.10710.23_chromosome_17.tsv\", \"/home/matpa01/CrickData_matpa01/Decode_mapping_suite/ZPLD1.5590.11/ZPLD1.5590.11_chromosome_3.tsv\", \"/home/matpa01/CrickData_matpa01/Decode_mapping_suite/ZWILCH.18302.204/ZWILCH.18302.204_chromosome_15.tsv\", \"/home/matpa01/CrickData_matpa01/Decode_mapping_suite/ZWINT.18286.3/ZWINT.18286.3_chromosome_10.tsv\", \"/home/matpa01/CrickData_matpa01/Decode_mapping_suite/ZYX.13632.10/ZYX.13632.10_chromosome_7.tsv\"], Any[\"A1BG.16561.9\", \"A1CF.12423.38\", \"A2M.3708.62\", \"A2ML1.15482.12\", \"A4GALT.8759.29\", \"A4GNT.10835.25\", \"AAGAB.11926.23\", \"AASDHPPT.17320.19\", \"ABCC6.8935.22\", \"ABHD10.17370.186\"  …  \"ZNF843.8321.27\", \"ZNRF3.10390.21\", \"ZNRF3.14122.132\", \"ZP4.7766.25\", \"ZPBP.8635.283\", \"ZPBP2.10710.23\", \"ZPLD1.5590.11\", \"ZWILCH.18302.204\", \"ZWINT.18286.3\", \"ZYX.13632.10\"], DatasetColumn{Dataset, Vector{Union{Missing, String}}}(1, \u001b[1m4483×3 Dataset\u001b[0m\n",
       "\u001b[1m  Row \u001b[0m│\u001b[1m trait             \u001b[0m\u001b[1m chr      \u001b[0m\u001b[1m tss       \u001b[0m\n",
       "      │\u001b[90m identity          \u001b[0m\u001b[90m identity \u001b[0m\u001b[90m identity  \u001b[0m\n",
       "      │\u001b[90m String?           \u001b[0m\u001b[90m Int64?   \u001b[0m\u001b[90m Int64?    \u001b[0m\n",
       "──────┼────────────────────────────────────────\n",
       "    1 │ A1BG.16561.9             19   58353492\n",
       "    2 │ A1CF.12423.38            10   50885675\n",
       "    3 │ A2ML1.15482.12           12    8822621\n",
       "    4 │ A2M.3708.62              12    9116229\n",
       "    5 │ A4GALT.8759.29           22   42721298\n",
       "    6 │ A4GNT.10835.25            3  138132390\n",
       "    7 │ AAGAB.11926.23           15   67255195\n",
       "    8 │ AASDHPPT.17320.19        11  106075501\n",
       "    9 │ ABCC6.8935.22            16   16223522\n",
       "   10 │ ABHD10.17370.186          3  111979010\n",
       "  ⋮   │         ⋮             ⋮          ⋮\n",
       " 4474 │ ZNF843.8321.27           16   31443160\n",
       " 4475 │ ZNRF3.10390.21           22   28883572\n",
       " 4476 │ ZNRF3.14122.132          22   28883572\n",
       " 4477 │ ZP4.7766.25               1  237890922\n",
       " 4478 │ ZPBP2.10710.23           17   39868202\n",
       " 4479 │ ZPBP.8635.283             7   50121329\n",
       " 4480 │ ZPLD1.5590.11             3  102099244\n",
       " 4481 │ ZWILCH.18302.204         15   66504959\n",
       " 4482 │ ZWINT.18286.3            10   56361273\n",
       " 4483 │ ZYX.13632.10              7  143381295\n",
       "\u001b[36m                              4463 rows omitted\u001b[0m, Union{Missing, String}[\"A1BG.16561.9\", \"A1CF.12423.38\", \"A2ML1.15482.12\", \"A2M.3708.62\", \"A4GALT.8759.29\", \"A4GNT.10835.25\", \"AAGAB.11926.23\", \"AASDHPPT.17320.19\", \"ABCC6.8935.22\", \"ABHD10.17370.186\"  …  \"ZNF843.8321.27\", \"ZNRF3.10390.21\", \"ZNRF3.14122.132\", \"ZP4.7766.25\", \"ZPBP2.10710.23\", \"ZPBP.8635.283\", \"ZPLD1.5590.11\", \"ZWILCH.18302.204\", \"ZWINT.18286.3\", \"ZYX.13632.10\"]), DatasetColumn{Dataset, Vector{Union{Missing, Int64}}}(2, \u001b[1m4483×3 Dataset\u001b[0m\n",
       "\u001b[1m  Row \u001b[0m│\u001b[1m trait             \u001b[0m\u001b[1m chr      \u001b[0m\u001b[1m tss       \u001b[0m\n",
       "      │\u001b[90m identity          \u001b[0m\u001b[90m identity \u001b[0m\u001b[90m identity  \u001b[0m\n",
       "      │\u001b[90m String?           \u001b[0m\u001b[90m Int64?   \u001b[0m\u001b[90m Int64?    \u001b[0m\n",
       "──────┼────────────────────────────────────────\n",
       "    1 │ A1BG.16561.9             19   58353492\n",
       "    2 │ A1CF.12423.38            10   50885675\n",
       "    3 │ A2ML1.15482.12           12    8822621\n",
       "    4 │ A2M.3708.62              12    9116229\n",
       "    5 │ A4GALT.8759.29           22   42721298\n",
       "    6 │ A4GNT.10835.25            3  138132390\n",
       "    7 │ AAGAB.11926.23           15   67255195\n",
       "    8 │ AASDHPPT.17320.19        11  106075501\n",
       "    9 │ ABCC6.8935.22            16   16223522\n",
       "   10 │ ABHD10.17370.186          3  111979010\n",
       "  ⋮   │         ⋮             ⋮          ⋮\n",
       " 4474 │ ZNF843.8321.27           16   31443160\n",
       " 4475 │ ZNRF3.10390.21           22   28883572\n",
       " 4476 │ ZNRF3.14122.132          22   28883572\n",
       " 4477 │ ZP4.7766.25               1  237890922\n",
       " 4478 │ ZPBP2.10710.23           17   39868202\n",
       " 4479 │ ZPBP.8635.283             7   50121329\n",
       " 4480 │ ZPLD1.5590.11             3  102099244\n",
       " 4481 │ ZWILCH.18302.204         15   66504959\n",
       " 4482 │ ZWINT.18286.3            10   56361273\n",
       " 4483 │ ZYX.13632.10              7  143381295\n",
       "\u001b[36m                              4463 rows omitted\u001b[0m, Union{Missing, Int64}[19, 10, 12, 12, 22, 3, 15, 11, 16, 3  …  16, 22, 22, 1, 17, 7, 3, 15, 10, 7]), DatasetColumn{Dataset, Vector{Union{Missing, Int64}}}(3, \u001b[1m4483×3 Dataset\u001b[0m\n",
       "\u001b[1m  Row \u001b[0m│\u001b[1m trait             \u001b[0m\u001b[1m chr      \u001b[0m\u001b[1m tss       \u001b[0m\n",
       "      │\u001b[90m identity          \u001b[0m\u001b[90m identity \u001b[0m\u001b[90m identity  \u001b[0m\n",
       "      │\u001b[90m String?           \u001b[0m\u001b[90m Int64?   \u001b[0m\u001b[90m Int64?    \u001b[0m\n",
       "──────┼────────────────────────────────────────\n",
       "    1 │ A1BG.16561.9             19   58353492\n",
       "    2 │ A1CF.12423.38            10   50885675\n",
       "    3 │ A2ML1.15482.12           12    8822621\n",
       "    4 │ A2M.3708.62              12    9116229\n",
       "    5 │ A4GALT.8759.29           22   42721298\n",
       "    6 │ A4GNT.10835.25            3  138132390\n",
       "    7 │ AAGAB.11926.23           15   67255195\n",
       "    8 │ AASDHPPT.17320.19        11  106075501\n",
       "    9 │ ABCC6.8935.22            16   16223522\n",
       "   10 │ ABHD10.17370.186          3  111979010\n",
       "  ⋮   │         ⋮             ⋮          ⋮\n",
       " 4474 │ ZNF843.8321.27           16   31443160\n",
       " 4475 │ ZNRF3.10390.21           22   28883572\n",
       " 4476 │ ZNRF3.14122.132          22   28883572\n",
       " 4477 │ ZP4.7766.25               1  237890922\n",
       " 4478 │ ZPBP2.10710.23           17   39868202\n",
       " 4479 │ ZPBP.8635.283             7   50121329\n",
       " 4480 │ ZPLD1.5590.11             3  102099244\n",
       " 4481 │ ZWILCH.18302.204         15   66504959\n",
       " 4482 │ ZWINT.18286.3            10   56361273\n",
       " 4483 │ ZYX.13632.10              7  143381295\n",
       "\u001b[36m                              4463 rows omitted\u001b[0m, Union{Missing, Int64}[58353492, 50885675, 8822621, 9116229, 42721298, 138132390, 67255195, 106075501, 16223522, 111979010  …  31443160, 28883572, 28883572, 237890922, 39868202, 50121329, 102099244, 66504959, 56361273, 143381295]), Dict{Int64, Any}(5 => A_OTHER, 4 => A_EFFECT, 6 => BETA, 7 => SE, 2 => CHR, 8 => PVAL, 3 => POS, 1 => \"id\"), '\\t')"
      ]
     },
     "execution_count": 14,
     "metadata": {},
     "output_type": "execute_result"
    }
   ],
   "source": [
    "Decode_pat = [TRAIT_NAME, \"/\", TRAIT_NAME, \"_chromosome_\", CHR, \".tsv\"]\n",
    "Decode_columns = Dict(1 => \"id\", 2 => CHR, 3 => POS, 4 => A_EFFECT, 5 => A_OTHER, 6 => BETA, 7 => SE, 8 => PVAL)\n",
    "sep = '\\t'\n",
    "\n",
    "Decode = QTLStudy_from_pattern(QTL_prots_path,Decode_pat, tss_df.trait, tss_df.chr, tss_df.tss, Decode_columns, sep, true)"
   ]
  },
  {
   "cell_type": "code",
   "execution_count": 17,
   "metadata": {},
   "outputs": [
    {
     "data": {
      "text/plain": [
       "4483-element Vector{Union{Missing, Int64}}:\n",
       "  58353492\n",
       "  50885675\n",
       "   8822621\n",
       "   9116229\n",
       "  42721298\n",
       " 138132390\n",
       "  67255195\n",
       " 106075501\n",
       "  16223522\n",
       " 111979010\n",
       "  25390835\n",
       "  51983409\n",
       " 130713016\n",
       "         ⋮\n",
       "  36489902\n",
       "  90352284\n",
       "  31443160\n",
       "  28883572\n",
       "  28883572\n",
       " 237890922\n",
       "  39868202\n",
       "  50121329\n",
       " 102099244\n",
       "  66504959\n",
       "  56361273\n",
       " 143381295"
      ]
     },
     "execution_count": 17,
     "metadata": {},
     "output_type": "execute_result"
    }
   ],
   "source": [
    "Decode.tss_v"
   ]
  },
  {
   "cell_type": "code",
   "execution_count": null,
   "metadata": {},
   "outputs": [],
   "source": []
  }
 ],
 "metadata": {
  "kernelspec": {
   "display_name": "Julia 160 Threads 1.8.5",
   "language": "julia",
   "name": "julia-160-threads-1.8"
  },
  "language_info": {
   "file_extension": ".jl",
   "mimetype": "application/julia",
   "name": "julia",
   "version": "1.8.5"
  },
  "orig_nbformat": 4
 },
 "nbformat": 4,
 "nbformat_minor": 2
}
