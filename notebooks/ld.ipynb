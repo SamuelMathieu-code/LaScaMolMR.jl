{
 "cells": [
  {
   "attachments": {},
   "cell_type": "markdown",
   "metadata": {},
   "source": [
    "# Test LD module"
   ]
  },
  {
   "cell_type": "code",
   "execution_count": 1,
   "metadata": {},
   "outputs": [],
   "source": [
    "import Base.Threads.@threads\n",
    "\n",
    "using Chain\n",
    "using DLMReader\n",
    "using Distributions\n",
    "using GLM\n",
    "using Glob\n",
    "using InMemoryDatasets\n",
    "using IterTools\n",
    "using Random\n",
    "using StatsBase\n",
    "using SnpArrays"
   ]
  },
  {
   "cell_type": "code",
   "execution_count": 2,
   "metadata": {},
   "outputs": [
    {
     "data": {
      "text/plain": [
       "clump"
      ]
     },
     "execution_count": 2,
     "metadata": {},
     "output_type": "execute_result"
    }
   ],
   "source": [
    "include(\"../src/ld.jl\")"
   ]
  },
  {
   "attachments": {},
   "cell_type": "markdown",
   "metadata": {},
   "source": [
    "### 1) get all snps around il7"
   ]
  },
  {
   "cell_type": "code",
   "execution_count": 3,
   "metadata": {},
   "outputs": [
    {
     "data": {
      "text/html": [
       "<table class=\"data-set\"><thead><tr><th></th><th>chr</th><th>pos</th><th>a_effect_out</th><th>a_other_out</th><th>β_out</th><th>se_out</th><th>pval_out</th></tr><tr><th></th><th>identity</th><th>identity</th><th>identity</th><th>identity</th><th>identity</th><th>identity</th><th>identity</th></tr><tr><th></th><th title=\"Union{Missing, Int8}\">Int8?</th><th title=\"Union{Missing, Int32}\">Int32?</th><th title=\"Union{Missing, String}\">String?</th><th title=\"Union{Missing, String}\">String?</th><th title=\"Union{Missing, Float64}\">Float64?</th><th title=\"Union{Missing, Float64}\">Float64?</th><th title=\"Union{Missing, Float64}\">Float64?</th></tr></thead><tbody><p>10,684,737 rows × 7 columns</p><tr><th>1</th><td>1</td><td>565987</td><td>T</td><td>C</td><td>-0.159782</td><td>0.089708</td><td>0.07489</td></tr><tr><th>2</th><td>1</td><td>566139</td><td>A</td><td>C</td><td>0.155926</td><td>0.132123</td><td>0.2379</td></tr><tr><th>3</th><td>1</td><td>568665</td><td>A</td><td>G</td><td>-0.054151</td><td>0.057159</td><td>0.3434</td></tr><tr><th>4</th><td>1</td><td>592368</td><td>A</td><td>G</td><td>-0.061272</td><td>0.063967</td><td>0.3381</td></tr><tr><th>5</th><td>1</td><td>662531</td><td>A</td><td>G</td><td>0.04487</td><td>0.054755</td><td>0.4125</td></tr><tr><th>6</th><td>1</td><td>662613</td><td>A</td><td>G</td><td>-0.03076</td><td>0.038043</td><td>0.4188</td></tr><tr><th>7</th><td>1</td><td>662622</td><td>A</td><td>G</td><td>-0.005365</td><td>0.012785</td><td>0.6748</td></tr><tr><th>8</th><td>1</td><td>666249</td><td>T</td><td>C</td><td>0.155111</td><td>0.124543</td><td>0.213</td></tr><tr><th>9</th><td>1</td><td>674498</td><td>A</td><td>T</td><td>-0.000142</td><td>0.046751</td><td>0.9976</td></tr><tr><th>10</th><td>1</td><td>676118</td><td>T</td><td>C</td><td>0.045893</td><td>0.021506</td><td>0.03285</td></tr><tr><th>11</th><td>1</td><td>676127</td><td>T</td><td>C</td><td>0.062663</td><td>0.043044</td><td>0.1454</td></tr><tr><th>12</th><td>1</td><td>693625</td><td>T</td><td>C</td><td>-0.060816</td><td>0.029299</td><td>0.03792</td></tr><tr><th>13</th><td>1</td><td>693731</td><td>A</td><td>G</td><td>0.003772</td><td>0.012129</td><td>0.7558</td></tr><tr><th>14</th><td>1</td><td>693823</td><td>C</td><td>G</td><td>-0.005411</td><td>0.012618</td><td>0.668</td></tr><tr><th>15</th><td>1</td><td>693920</td><td>T</td><td>C</td><td>-0.005493</td><td>0.09063</td><td>0.9517</td></tr><tr><th>16</th><td>1</td><td>704637</td><td>A</td><td>G</td><td>0.00539</td><td>0.020397</td><td>0.7916</td></tr><tr><th>17</th><td>1</td><td>705882</td><td>A</td><td>G</td><td>0.013461</td><td>0.020753</td><td>0.5166</td></tr><tr><th>18</th><td>1</td><td>705942</td><td>A</td><td>T</td><td>-0.087603</td><td>0.079842</td><td>0.2726</td></tr><tr><th>19</th><td>1</td><td>706368</td><td>A</td><td>G</td><td>-0.002123</td><td>0.009259</td><td>0.8187</td></tr><tr><th>20</th><td>1</td><td>706778</td><td>A</td><td>G</td><td>-0.001826</td><td>0.010167</td><td>0.8575</td></tr><tr><th>21</th><td>1</td><td>709135</td><td>T</td><td>C</td><td>0.083992</td><td>0.033013</td><td>0.01095</td></tr><tr><th>22</th><td>1</td><td>713337</td><td>A</td><td>G</td><td>0.032134</td><td>0.044263</td><td>0.4678</td></tr><tr><th>23</th><td>1</td><td>714277</td><td>A</td><td>C</td><td>-0.009959</td><td>0.072903</td><td>0.8913</td></tr><tr><th>24</th><td>1</td><td>717587</td><td>A</td><td>G</td><td>-0.018759</td><td>0.039986</td><td>0.639</td></tr><tr><th>25</th><td>1</td><td>718336</td><td>T</td><td>C</td><td>0.070996</td><td>0.094303</td><td>0.4515</td></tr><tr><th>26</th><td>1</td><td>718505</td><td>A</td><td>G</td><td>0.011871</td><td>0.032234</td><td>0.7127</td></tr><tr><th>27</th><td>1</td><td>719604</td><td>T</td><td>C</td><td>0.088167</td><td>0.1287</td><td>0.4933</td></tr><tr><th>28</th><td>1</td><td>721290</td><td>C</td><td>G</td><td>-0.010189</td><td>0.025403</td><td>0.6884</td></tr><tr><th>29</th><td>1</td><td>722670</td><td>T</td><td>C</td><td>-0.002005</td><td>0.01573</td><td>0.8986</td></tr><tr><th>30</th><td>1</td><td>723819</td><td>A</td><td>T</td><td>0.004998</td><td>0.02671</td><td>0.8516</td></tr><tr><th>&vellip;</th><td>&vellip;</td><td>&vellip;</td><td>&vellip;</td><td>&vellip;</td><td>&vellip;</td><td>&vellip;</td><td>&vellip;</td></tr></tbody></table>"
      ],
      "text/latex": [
       "\\begin{tabular}{r|ccccccc}\n",
       "\t& chr & pos & a\\_effect\\_out & a\\_other\\_out & β\\_out & se\\_out & pval\\_out\\\\\n",
       "\t\\hline\n",
       "\t& identity & identity & identity & identity & identity & identity & identity\\\\\n",
       "\t\\hline\n",
       "\t& Int8? & Int32? & String? & String? & Float64? & Float64? & Float64?\\\\\n",
       "\t\\hline\n",
       "\t1 & 1 & 565987 & T & C & -0.159782 & 0.089708 & 0.07489 \\\\\n",
       "\t2 & 1 & 566139 & A & C & 0.155926 & 0.132123 & 0.2379 \\\\\n",
       "\t3 & 1 & 568665 & A & G & -0.054151 & 0.057159 & 0.3434 \\\\\n",
       "\t4 & 1 & 592368 & A & G & -0.061272 & 0.063967 & 0.3381 \\\\\n",
       "\t5 & 1 & 662531 & A & G & 0.04487 & 0.054755 & 0.4125 \\\\\n",
       "\t6 & 1 & 662613 & A & G & -0.03076 & 0.038043 & 0.4188 \\\\\n",
       "\t7 & 1 & 662622 & A & G & -0.005365 & 0.012785 & 0.6748 \\\\\n",
       "\t8 & 1 & 666249 & T & C & 0.155111 & 0.124543 & 0.213 \\\\\n",
       "\t9 & 1 & 674498 & A & T & -0.000142 & 0.046751 & 0.9976 \\\\\n",
       "\t10 & 1 & 676118 & T & C & 0.045893 & 0.021506 & 0.03285 \\\\\n",
       "\t11 & 1 & 676127 & T & C & 0.062663 & 0.043044 & 0.1454 \\\\\n",
       "\t12 & 1 & 693625 & T & C & -0.060816 & 0.029299 & 0.03792 \\\\\n",
       "\t13 & 1 & 693731 & A & G & 0.003772 & 0.012129 & 0.7558 \\\\\n",
       "\t14 & 1 & 693823 & C & G & -0.005411 & 0.012618 & 0.668 \\\\\n",
       "\t15 & 1 & 693920 & T & C & -0.005493 & 0.09063 & 0.9517 \\\\\n",
       "\t16 & 1 & 704637 & A & G & 0.00539 & 0.020397 & 0.7916 \\\\\n",
       "\t17 & 1 & 705882 & A & G & 0.013461 & 0.020753 & 0.5166 \\\\\n",
       "\t18 & 1 & 705942 & A & T & -0.087603 & 0.079842 & 0.2726 \\\\\n",
       "\t19 & 1 & 706368 & A & G & -0.002123 & 0.009259 & 0.8187 \\\\\n",
       "\t20 & 1 & 706778 & A & G & -0.001826 & 0.010167 & 0.8575 \\\\\n",
       "\t21 & 1 & 709135 & T & C & 0.083992 & 0.033013 & 0.01095 \\\\\n",
       "\t22 & 1 & 713337 & A & G & 0.032134 & 0.044263 & 0.4678 \\\\\n",
       "\t23 & 1 & 714277 & A & C & -0.009959 & 0.072903 & 0.8913 \\\\\n",
       "\t24 & 1 & 717587 & A & G & -0.018759 & 0.039986 & 0.639 \\\\\n",
       "\t25 & 1 & 718336 & T & C & 0.070996 & 0.094303 & 0.4515 \\\\\n",
       "\t26 & 1 & 718505 & A & G & 0.011871 & 0.032234 & 0.7127 \\\\\n",
       "\t27 & 1 & 719604 & T & C & 0.088167 & 0.1287 & 0.4933 \\\\\n",
       "\t28 & 1 & 721290 & C & G & -0.010189 & 0.025403 & 0.6884 \\\\\n",
       "\t29 & 1 & 722670 & T & C & -0.002005 & 0.01573 & 0.8986 \\\\\n",
       "\t30 & 1 & 723819 & A & T & 0.004998 & 0.02671 & 0.8516 \\\\\n",
       "\t$\\dots$ & $\\dots$ & $\\dots$ & $\\dots$ & $\\dots$ & $\\dots$ & $\\dots$ & $\\dots$ \\\\\n",
       "\\end{tabular}\n"
      ],
      "text/plain": [
       "\u001b[1m10684737×7 Dataset\u001b[0m\n",
       "\u001b[1m      Row \u001b[0m│\u001b[1m chr      \u001b[0m\u001b[1m pos      \u001b[0m\u001b[1m a_effect_out \u001b[0m\u001b[1m a_other_out \u001b[0m\u001b[1m β_out     \u001b[0m\u001b[1m se_out  \u001b[0m ⋯\n",
       "          │\u001b[90m identity \u001b[0m\u001b[90m identity \u001b[0m\u001b[90m identity     \u001b[0m\u001b[90m identity    \u001b[0m\u001b[90m identity  \u001b[0m\u001b[90m identity\u001b[0m ⋯\n",
       "          │\u001b[90m Int8?    \u001b[0m\u001b[90m Int32?   \u001b[0m\u001b[90m String?      \u001b[0m\u001b[90m String?     \u001b[0m\u001b[90m Float64?  \u001b[0m\u001b[90m Float64?\u001b[0m ⋯\n",
       "──────────┼─────────────────────────────────────────────────────────────────────\n",
       "        1 │        1    565987  T             C            -0.159782  0.089708 ⋯\n",
       "        2 │        1    566139  A             C             0.155926  0.132123\n",
       "        3 │        1    568665  A             G            -0.054151  0.057159\n",
       "        4 │        1    592368  A             G            -0.061272  0.063967\n",
       "        5 │        1    662531  A             G             0.04487   0.054755 ⋯\n",
       "        6 │        1    662613  A             G            -0.03076   0.038043\n",
       "        7 │        1    662622  A             G            -0.005365  0.012785\n",
       "        8 │        1    666249  T             C             0.155111  0.124543\n",
       "        9 │        1    674498  A             T            -0.000142  0.046751 ⋯\n",
       "       10 │        1    676118  T             C             0.045893  0.021506\n",
       "    ⋮     │    ⋮         ⋮           ⋮             ⋮           ⋮         ⋮     ⋱\n",
       " 10684728 │       22  51232581  T             C            -0.017078  0.00917\n",
       " 10684729 │       22  51233666  T             C             0.024379  0.038789\n",
       " 10684730 │       22  51234343  T             G             0.020267  0.038647 ⋯\n",
       " 10684731 │       22  51235959  T             C            -0.006728  0.012337\n",
       " 10684732 │       22  51235979  A             G            -0.018272  0.011713\n",
       " 10684733 │       22  51236137  T             C            -0.070147  0.091477\n",
       " 10684734 │       22  51237063  T             C            -0.020469  0.008985 ⋯\n",
       " 10684735 │       22  51238318  A             T             0.076644  0.086707\n",
       " 10684736 │       22  51238328  A             C            -0.174874  0.101815\n",
       " 10684737 │       22  51239586  T             G             0.058239  0.066504\n",
       "\u001b[36m                                              1 column and 10684717 rows omitted\u001b[0m"
      ]
     },
     "execution_count": 3,
     "metadata": {},
     "output_type": "execute_result"
    }
   ],
   "source": [
    "gwas_file = \"/mnt/r6_data/GWAS_MRsuite/input_MRsuite_hypoT4_SM\"\n",
    "chr = 5\n",
    "tss = 35852695\n",
    "\n",
    "gwas_data = filereader(gwas_file, \n",
    "                       header = [:chr, :pos, :a_effect_out, :a_other_out, :β_out, :se_out, :pval_out],\n",
    "                       types = Dict( 1=>Int8, 2=>Int32, 3=>String, 4=>String, \n",
    "                                     5=>Float64, 6=>Float64, 7=>Float64),\n",
    "                       delimiter = '\\t', skipto = 2)"
   ]
  },
  {
   "cell_type": "code",
   "execution_count": 4,
   "metadata": {},
   "outputs": [
    {
     "data": {
      "text/html": [
       "<table class=\"data-set\"><thead><tr><th></th><th>chr</th><th>pos</th><th>a_effect_out</th><th>a_other_out</th><th>β_out</th><th>se_out</th><th>pval_out</th></tr><tr><th></th><th>identity</th><th>identity</th><th>identity</th><th>identity</th><th>identity</th><th>identity</th><th>identity</th></tr><tr><th></th><th title=\"Union{Missing, Int8}\">Int8?</th><th title=\"Union{Missing, Int32}\">Int32?</th><th title=\"Union{Missing, String}\">String?</th><th title=\"Union{Missing, String}\">String?</th><th title=\"Union{Missing, Float64}\">Float64?</th><th title=\"Union{Missing, Float64}\">Float64?</th><th title=\"Union{Missing, Float64}\">Float64?</th></tr></thead><tbody><p>40 rows × 7 columns</p><p><b> Sorted Dataset </p><p> Sorted by: pval_out </p><tr><th>1</th><td>5</td><td>35846815</td><td>T</td><td>G</td><td>-0.059365</td><td>0.008319</td><td>9.621e-13</td></tr><tr><th>2</th><td>5</td><td>35837234</td><td>A</td><td>G</td><td>-0.059342</td><td>0.00832</td><td>9.856e-13</td></tr><tr><th>3</th><td>5</td><td>35841449</td><td>A</td><td>G</td><td>0.059324</td><td>0.00832</td><td>1.005e-12</td></tr><tr><th>4</th><td>5</td><td>35844125</td><td>A</td><td>G</td><td>-0.059285</td><td>0.00832</td><td>1.036e-12</td></tr><tr><th>5</th><td>5</td><td>35843832</td><td>C</td><td>G</td><td>0.059281</td><td>0.00832</td><td>1.038e-12</td></tr><tr><th>6</th><td>5</td><td>35833268</td><td>T</td><td>C</td><td>0.055793</td><td>0.00806</td><td>4.454e-12</td></tr><tr><th>7</th><td>5</td><td>35803577</td><td>T</td><td>C</td><td>-0.056192</td><td>0.008344</td><td>1.642e-11</td></tr><tr><th>8</th><td>5</td><td>35833717</td><td>A</td><td>G</td><td>0.054111</td><td>0.008138</td><td>2.941e-11</td></tr><tr><th>9</th><td>5</td><td>35805208</td><td>A</td><td>G</td><td>0.05374</td><td>0.008181</td><td>5.079e-11</td></tr><tr><th>10</th><td>5</td><td>35806110</td><td>A</td><td>C</td><td>0.053658</td><td>0.008182</td><td>5.439e-11</td></tr><tr><th>11</th><td>5</td><td>35866218</td><td>A</td><td>G</td><td>-0.052394</td><td>0.00812</td><td>1.099e-10</td></tr><tr><th>12</th><td>5</td><td>35807455</td><td>T</td><td>G</td><td>-0.052732</td><td>0.00818</td><td>1.147e-10</td></tr><tr><th>13</th><td>5</td><td>35814105</td><td>T</td><td>C</td><td>-0.052535</td><td>0.008172</td><td>1.288e-10</td></tr><tr><th>14</th><td>5</td><td>35812414</td><td>T</td><td>C</td><td>-0.052458</td><td>0.008172</td><td>1.371e-10</td></tr><tr><th>15</th><td>5</td><td>35827665</td><td>C</td><td>G</td><td>0.052631</td><td>0.008206</td><td>1.417e-10</td></tr><tr><th>16</th><td>5</td><td>35827646</td><td>C</td><td>G</td><td>0.052617</td><td>0.008206</td><td>1.433e-10</td></tr><tr><th>17</th><td>5</td><td>35811768</td><td>T</td><td>C</td><td>-0.052326</td><td>0.008171</td><td>1.511e-10</td></tr><tr><th>18</th><td>5</td><td>35825573</td><td>A</td><td>G</td><td>0.051882</td><td>0.008133</td><td>1.778e-10</td></tr><tr><th>19</th><td>5</td><td>35825173</td><td>T</td><td>C</td><td>-0.051882</td><td>0.008133</td><td>1.779e-10</td></tr><tr><th>20</th><td>5</td><td>35810268</td><td>A</td><td>G</td><td>0.052043</td><td>0.008172</td><td>1.914e-10</td></tr><tr><th>21</th><td>5</td><td>35811973</td><td>A</td><td>G</td><td>-0.051221</td><td>0.008172</td><td>3.658e-10</td></tr><tr><th>22</th><td>5</td><td>35883251</td><td>C</td><td>G</td><td>-0.049459</td><td>0.00813</td><td>1.177e-9</td></tr><tr><th>23</th><td>5</td><td>35883757</td><td>A</td><td>C</td><td>0.049467</td><td>0.008132</td><td>1.177e-9</td></tr><tr><th>24</th><td>5</td><td>35883176</td><td>T</td><td>G</td><td>-0.049409</td><td>0.00813</td><td>1.222e-9</td></tr><tr><th>25</th><td>5</td><td>35883804</td><td>T</td><td>C</td><td>-0.049361</td><td>0.008132</td><td>1.277e-9</td></tr><tr><th>26</th><td>5</td><td>35879156</td><td>T</td><td>G</td><td>-0.053067</td><td>0.008756</td><td>1.357e-9</td></tr><tr><th>27</th><td>5</td><td>35874575</td><td>T</td><td>C</td><td>-0.052823</td><td>0.008757</td><td>1.622e-9</td></tr><tr><th>28</th><td>5</td><td>35881443</td><td>A</td><td>G</td><td>-0.052605</td><td>0.008762</td><td>1.924e-9</td></tr><tr><th>29</th><td>5</td><td>35857850</td><td>A</td><td>C</td><td>0.05248</td><td>0.008757</td><td>2.066e-9</td></tr><tr><th>30</th><td>5</td><td>35879095</td><td>T</td><td>C</td><td>-0.052448</td><td>0.008756</td><td>2.101e-9</td></tr><tr><th>&vellip;</th><td>&vellip;</td><td>&vellip;</td><td>&vellip;</td><td>&vellip;</td><td>&vellip;</td><td>&vellip;</td><td>&vellip;</td></tr></tbody></table>"
      ],
      "text/latex": [
       "\\begin{tabular}{r|ccccccc}\n",
       "\t& chr & pos & a\\_effect\\_out & a\\_other\\_out & β\\_out & se\\_out & pval\\_out\\\\\n",
       "\t\\hline\n",
       "\t& identity & identity & identity & identity & identity & identity & identity\\\\\n",
       "\t\\hline\n",
       "\t& Int8? & Int32? & String? & String? & Float64? & Float64? & Float64?\\\\\n",
       "\t\\hline\n",
       "\t1 & 5 & 35846815 & T & G & -0.059365 & 0.008319 & 9.621e-13 \\\\\n",
       "\t2 & 5 & 35837234 & A & G & -0.059342 & 0.00832 & 9.856e-13 \\\\\n",
       "\t3 & 5 & 35841449 & A & G & 0.059324 & 0.00832 & 1.005e-12 \\\\\n",
       "\t4 & 5 & 35844125 & A & G & -0.059285 & 0.00832 & 1.036e-12 \\\\\n",
       "\t5 & 5 & 35843832 & C & G & 0.059281 & 0.00832 & 1.038e-12 \\\\\n",
       "\t6 & 5 & 35833268 & T & C & 0.055793 & 0.00806 & 4.454e-12 \\\\\n",
       "\t7 & 5 & 35803577 & T & C & -0.056192 & 0.008344 & 1.642e-11 \\\\\n",
       "\t8 & 5 & 35833717 & A & G & 0.054111 & 0.008138 & 2.941e-11 \\\\\n",
       "\t9 & 5 & 35805208 & A & G & 0.05374 & 0.008181 & 5.079e-11 \\\\\n",
       "\t10 & 5 & 35806110 & A & C & 0.053658 & 0.008182 & 5.439e-11 \\\\\n",
       "\t11 & 5 & 35866218 & A & G & -0.052394 & 0.00812 & 1.099e-10 \\\\\n",
       "\t12 & 5 & 35807455 & T & G & -0.052732 & 0.00818 & 1.147e-10 \\\\\n",
       "\t13 & 5 & 35814105 & T & C & -0.052535 & 0.008172 & 1.288e-10 \\\\\n",
       "\t14 & 5 & 35812414 & T & C & -0.052458 & 0.008172 & 1.371e-10 \\\\\n",
       "\t15 & 5 & 35827665 & C & G & 0.052631 & 0.008206 & 1.417e-10 \\\\\n",
       "\t16 & 5 & 35827646 & C & G & 0.052617 & 0.008206 & 1.433e-10 \\\\\n",
       "\t17 & 5 & 35811768 & T & C & -0.052326 & 0.008171 & 1.511e-10 \\\\\n",
       "\t18 & 5 & 35825573 & A & G & 0.051882 & 0.008133 & 1.778e-10 \\\\\n",
       "\t19 & 5 & 35825173 & T & C & -0.051882 & 0.008133 & 1.779e-10 \\\\\n",
       "\t20 & 5 & 35810268 & A & G & 0.052043 & 0.008172 & 1.914e-10 \\\\\n",
       "\t21 & 5 & 35811973 & A & G & -0.051221 & 0.008172 & 3.658e-10 \\\\\n",
       "\t22 & 5 & 35883251 & C & G & -0.049459 & 0.00813 & 1.177e-9 \\\\\n",
       "\t23 & 5 & 35883757 & A & C & 0.049467 & 0.008132 & 1.177e-9 \\\\\n",
       "\t24 & 5 & 35883176 & T & G & -0.049409 & 0.00813 & 1.222e-9 \\\\\n",
       "\t25 & 5 & 35883804 & T & C & -0.049361 & 0.008132 & 1.277e-9 \\\\\n",
       "\t26 & 5 & 35879156 & T & G & -0.053067 & 0.008756 & 1.357e-9 \\\\\n",
       "\t27 & 5 & 35874575 & T & C & -0.052823 & 0.008757 & 1.622e-9 \\\\\n",
       "\t28 & 5 & 35881443 & A & G & -0.052605 & 0.008762 & 1.924e-9 \\\\\n",
       "\t29 & 5 & 35857850 & A & C & 0.05248 & 0.008757 & 2.066e-9 \\\\\n",
       "\t30 & 5 & 35879095 & T & C & -0.052448 & 0.008756 & 2.101e-9 \\\\\n",
       "\t$\\dots$ & $\\dots$ & $\\dots$ & $\\dots$ & $\\dots$ & $\\dots$ & $\\dots$ & $\\dots$ \\\\\n",
       "\\end{tabular}\n"
      ],
      "text/plain": [
       "\u001b[1m40×7 Sorted Dataset\u001b[0m\n",
       "\u001b[1m Sorted by: pval_out\u001b[0m\n",
       "\u001b[1m Row \u001b[0m│\u001b[1m chr      \u001b[0m\u001b[1m pos      \u001b[0m\u001b[1m a_effect_out \u001b[0m\u001b[1m a_other_out \u001b[0m\u001b[1m β_out     \u001b[0m\u001b[1m se_out   \u001b[0m\u001b[1m pva\u001b[0m ⋯\n",
       "     │\u001b[90m identity \u001b[0m\u001b[90m identity \u001b[0m\u001b[90m identity     \u001b[0m\u001b[90m identity    \u001b[0m\u001b[90m identity  \u001b[0m\u001b[90m identity \u001b[0m\u001b[90m ide\u001b[0m ⋯\n",
       "     │\u001b[90m Int8?    \u001b[0m\u001b[90m Int32?   \u001b[0m\u001b[90m String?      \u001b[0m\u001b[90m String?     \u001b[0m\u001b[90m Float64?  \u001b[0m\u001b[90m Float64? \u001b[0m\u001b[90m Flo\u001b[0m ⋯\n",
       "─────┼──────────────────────────────────────────────────────────────────────────\n",
       "   1 │        5  35846815  T             G            -0.059365  0.008319  9.6 ⋯\n",
       "   2 │        5  35837234  A             G            -0.059342  0.00832   9.8\n",
       "   3 │        5  35841449  A             G             0.059324  0.00832   1.0\n",
       "   4 │        5  35844125  A             G            -0.059285  0.00832   1.0\n",
       "   5 │        5  35843832  C             G             0.059281  0.00832   1.0 ⋯\n",
       "   6 │        5  35833268  T             C             0.055793  0.00806   4.4\n",
       "   7 │        5  35803577  T             C            -0.056192  0.008344  1.6\n",
       "   8 │        5  35833717  A             G             0.054111  0.008138  2.9\n",
       "   9 │        5  35805208  A             G             0.05374   0.008181  5.0 ⋯\n",
       "  10 │        5  35806110  A             C             0.053658  0.008182  5.4\n",
       "  ⋮  │    ⋮         ⋮           ⋮             ⋮           ⋮         ⋮          ⋱\n",
       "  32 │        5  35857704  A             G             0.052426  0.008758  2.1\n",
       "  33 │        5  35881376  T             G            -0.052282  0.008759  2.3\n",
       "  34 │        5  35862841  T             C            -0.052263  0.008758  2.4 ⋯\n",
       "  35 │        5  35850149  T             C            -0.051842  0.008739  2.9\n",
       "  36 │        5  35853319  T             G            -0.051377  0.008716  3.7\n",
       "  37 │        5  35852311  A             G            -0.050941  0.008712  5.0\n",
       "  38 │        5  35810561  T             C             0.048989  0.008411  5.7 ⋯\n",
       "  39 │        5  35811282  T             C             0.048703  0.008423  7.3\n",
       "  40 │        5  35851831  T             C            -0.050229  0.008725  8.5\n",
       "\u001b[36m                                                    1 column and 21 rows omitted\u001b[0m"
      ]
     },
     "execution_count": 4,
     "metadata": {},
     "output_type": "execute_result"
    }
   ],
   "source": [
    "in_window(s::SubArray) = (s[1] == chr && abs(s[2]-tss)≤500000 && s[3]<1e-8)\n",
    "\n",
    "filter!(gwas_data, [:chr, :pos, :pval_out], type = in_window)\n",
    "sort!(gwas_data, :pval_out)"
   ]
  },
  {
   "attachments": {},
   "cell_type": "markdown",
   "metadata": {},
   "source": [
    "### 2) get ld matrix"
   ]
  },
  {
   "cell_type": "code",
   "execution_count": 5,
   "metadata": {},
   "outputs": [
    {
     "data": {
      "text/plain": [
       "40-element Vector{Tuple{Any, Any}}:\n",
       " (5, 35846815)\n",
       " (5, 35837234)\n",
       " (5, 35841449)\n",
       " (5, 35844125)\n",
       " (5, 35843832)\n",
       " (5, 35833268)\n",
       " (5, 35803577)\n",
       " (5, 35833717)\n",
       " (5, 35805208)\n",
       " (5, 35806110)\n",
       " (5, 35866218)\n",
       " (5, 35807455)\n",
       " (5, 35814105)\n",
       " ⋮\n",
       " (5, 35857850)\n",
       " (5, 35879095)\n",
       " (5, 35861152)\n",
       " (5, 35857704)\n",
       " (5, 35881376)\n",
       " (5, 35862841)\n",
       " (5, 35850149)\n",
       " (5, 35853319)\n",
       " (5, 35852311)\n",
       " (5, 35810561)\n",
       " (5, 35811282)\n",
       " (5, 35851831)"
      ]
     },
     "execution_count": 5,
     "metadata": {},
     "output_type": "execute_result"
    }
   ],
   "source": [
    "chr_pos = collect(zip(gwas_data.chr, gwas_data.pos))"
   ]
  },
  {
   "cell_type": "code",
   "execution_count": 6,
   "metadata": {},
   "outputs": [],
   "source": [
    "files = [\"/home/samat33/CrickData_samat33/PLINK/EUR_biallelic/chr$(i)_CEU.BIALL\" for i in 1:22]\n",
    "\n",
    "GenotypesArr = [SnpData(SnpArrays.datadir(file)) for file in files]\n",
    "\n",
    "@threads for i in 1:lastindex(GenotypesArr)\n",
    "    GenotypesArr[i].snp_info.idx = collect(1:size(GenotypesArr[i].snp_info, 1))\n",
    "    GenotypesArr[i].snp_info.chr_pos = collect(\n",
    "        zip(parse.(Int8, GenotypesArr[i].snp_info.chromosome), \n",
    "        GenotypesArr[i].snp_info.position)\n",
    "    )\n",
    "    sort!(GenotypesArr[i].snp_info, :chr_pos)\n",
    "end"
   ]
  },
  {
   "cell_type": "code",
   "execution_count": null,
   "metadata": {},
   "outputs": [],
   "source": [
    "R2_mat, found_v_b = getLDmat(GenotypesArr[5], chr_pos)"
   ]
  },
  {
   "cell_type": "code",
   "execution_count": null,
   "metadata": {},
   "outputs": [],
   "source": [
    "R2_mat"
   ]
  },
  {
   "attachments": {},
   "cell_type": "markdown",
   "metadata": {},
   "source": [
    "### 3) Clumping"
   ]
  },
  {
   "cell_type": "code",
   "execution_count": 7,
   "metadata": {},
   "outputs": [
    {
     "ename": "LoadError",
     "evalue": "MethodError: no method matching clump(::SnpData, ::Vector{Tuple{Any, Any}})\n\u001b[0mClosest candidates are:\n\u001b[0m  clump(::SnpData, \u001b[91m::AbstractArray{Tuple{T1, T2}, 1}\u001b[39m) where {T1, T2<:Integer} at ~/miniconda3/envs/julia_r/share/julia/dev/MrPainter/src/ld.jl:133\n\u001b[0m  clump(::SnpData, \u001b[91m::AbstractArray{Tuple{T1, T2}, 1}\u001b[39m, \u001b[91m::Float64\u001b[39m) where {T1, T2<:Integer} at ~/miniconda3/envs/julia_r/share/julia/dev/MrPainter/src/ld.jl:133",
     "output_type": "error",
     "traceback": [
      "MethodError: no method matching clump(::SnpData, ::Vector{Tuple{Any, Any}})\n\u001b[0mClosest candidates are:\n\u001b[0m  clump(::SnpData, \u001b[91m::AbstractArray{Tuple{T1, T2}, 1}\u001b[39m) where {T1, T2<:Integer} at ~/miniconda3/envs/julia_r/share/julia/dev/MrPainter/src/ld.jl:133\n\u001b[0m  clump(::SnpData, \u001b[91m::AbstractArray{Tuple{T1, T2}, 1}\u001b[39m, \u001b[91m::Float64\u001b[39m) where {T1, T2<:Integer} at ~/miniconda3/envs/julia_r/share/julia/dev/MrPainter/src/ld.jl:133",
      "",
      "Stacktrace:",
      " [1] top-level scope",
      "   @ In[7]:1"
     ]
    }
   ],
   "source": [
    "kept_v_b = clump(GenotypesArr[5], chr_pos)"
   ]
  },
  {
   "cell_type": "code",
   "execution_count": null,
   "metadata": {},
   "outputs": [],
   "source": [
    "sum(kept_v_b)"
   ]
  },
  {
   "cell_type": "code",
   "execution_count": null,
   "metadata": {},
   "outputs": [],
   "source": [
    "sum(R2_mat .< 0.1)"
   ]
  },
  {
   "cell_type": "code",
   "execution_count": null,
   "metadata": {},
   "outputs": [],
   "source": [
    "typeof(chr_pos)"
   ]
  },
  {
   "cell_type": "code",
   "execution_count": null,
   "metadata": {},
   "outputs": [],
   "source": [
    "v::Vector{Tuple{Int, Int}} = chr_pos"
   ]
  },
  {
   "cell_type": "code",
   "execution_count": null,
   "metadata": {},
   "outputs": [],
   "source": [
    "typeof(v)"
   ]
  }
 ],
 "metadata": {
  "kernelspec": {
   "display_name": "Julia 12 Threads 1.8.5",
   "language": "julia",
   "name": "julia-12-threads-1.8"
  },
  "language_info": {
   "file_extension": ".jl",
   "mimetype": "application/julia",
   "name": "julia",
   "version": "1.8.5"
  },
  "orig_nbformat": 4
 },
 "nbformat": 4,
 "nbformat_minor": 2
}
