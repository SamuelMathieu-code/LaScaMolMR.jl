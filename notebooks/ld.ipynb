{
 "cells": [
  {
   "attachments": {},
   "cell_type": "markdown",
   "metadata": {},
   "source": [
    "# Test LD module"
   ]
  },
  {
   "cell_type": "code",
   "execution_count": 1,
   "metadata": {},
   "outputs": [],
   "source": [
    "import Base.Threads.@threads\n",
    "\n",
    "using Chain\n",
    "using DLMReader\n",
    "using Distributions\n",
    "using GLM\n",
    "using Glob\n",
    "using InMemoryDatasets\n",
    "using IterTools\n",
    "using Random\n",
    "using StatsBase\n",
    "using SnpArrays"
   ]
  },
  {
   "cell_type": "code",
   "execution_count": 2,
   "metadata": {},
   "outputs": [
    {
     "data": {
      "text/plain": [
       "formatSnpData!"
      ]
     },
     "execution_count": 2,
     "metadata": {},
     "output_type": "execute_result"
    }
   ],
   "source": [
    "include(\"../src/ld.jl\")"
   ]
  },
  {
   "attachments": {},
   "cell_type": "markdown",
   "metadata": {},
   "source": [
    "### 1) get all snps around il7"
   ]
  },
  {
   "cell_type": "code",
   "execution_count": 4,
   "metadata": {},
   "outputs": [
    {
     "data": {
      "text/html": [
       "<table class=\"data-set\"><thead><tr><th></th><th>chr</th><th>pos</th><th>a_effect_out</th><th>a_other_out</th><th>β_out</th><th>se_out</th><th>pval_out</th></tr><tr><th></th><th>identity</th><th>identity</th><th>identity</th><th>identity</th><th>identity</th><th>identity</th><th>identity</th></tr><tr><th></th><th title=\"Union{Missing, Int8}\">Int8?</th><th title=\"Union{Missing, Int32}\">Int32?</th><th title=\"Union{Missing, String}\">String?</th><th title=\"Union{Missing, String}\">String?</th><th title=\"Union{Missing, Float64}\">Float64?</th><th title=\"Union{Missing, Float64}\">Float64?</th><th title=\"Union{Missing, Float64}\">Float64?</th></tr></thead><tbody><p>10,684,737 rows × 7 columns</p><tr><th>1</th><td>1</td><td>565987</td><td>T</td><td>C</td><td>-0.159782</td><td>0.089708</td><td>0.07489</td></tr><tr><th>2</th><td>1</td><td>566139</td><td>A</td><td>C</td><td>0.155926</td><td>0.132123</td><td>0.2379</td></tr><tr><th>3</th><td>1</td><td>568665</td><td>A</td><td>G</td><td>-0.054151</td><td>0.057159</td><td>0.3434</td></tr><tr><th>4</th><td>1</td><td>592368</td><td>A</td><td>G</td><td>-0.061272</td><td>0.063967</td><td>0.3381</td></tr><tr><th>5</th><td>1</td><td>662531</td><td>A</td><td>G</td><td>0.04487</td><td>0.054755</td><td>0.4125</td></tr><tr><th>6</th><td>1</td><td>662613</td><td>A</td><td>G</td><td>-0.03076</td><td>0.038043</td><td>0.4188</td></tr><tr><th>7</th><td>1</td><td>662622</td><td>A</td><td>G</td><td>-0.005365</td><td>0.012785</td><td>0.6748</td></tr><tr><th>8</th><td>1</td><td>666249</td><td>T</td><td>C</td><td>0.155111</td><td>0.124543</td><td>0.213</td></tr><tr><th>9</th><td>1</td><td>674498</td><td>A</td><td>T</td><td>-0.000142</td><td>0.046751</td><td>0.9976</td></tr><tr><th>10</th><td>1</td><td>676118</td><td>T</td><td>C</td><td>0.045893</td><td>0.021506</td><td>0.03285</td></tr><tr><th>11</th><td>1</td><td>676127</td><td>T</td><td>C</td><td>0.062663</td><td>0.043044</td><td>0.1454</td></tr><tr><th>12</th><td>1</td><td>693625</td><td>T</td><td>C</td><td>-0.060816</td><td>0.029299</td><td>0.03792</td></tr><tr><th>13</th><td>1</td><td>693731</td><td>A</td><td>G</td><td>0.003772</td><td>0.012129</td><td>0.7558</td></tr><tr><th>14</th><td>1</td><td>693823</td><td>C</td><td>G</td><td>-0.005411</td><td>0.012618</td><td>0.668</td></tr><tr><th>15</th><td>1</td><td>693920</td><td>T</td><td>C</td><td>-0.005493</td><td>0.09063</td><td>0.9517</td></tr><tr><th>16</th><td>1</td><td>704637</td><td>A</td><td>G</td><td>0.00539</td><td>0.020397</td><td>0.7916</td></tr><tr><th>17</th><td>1</td><td>705882</td><td>A</td><td>G</td><td>0.013461</td><td>0.020753</td><td>0.5166</td></tr><tr><th>18</th><td>1</td><td>705942</td><td>A</td><td>T</td><td>-0.087603</td><td>0.079842</td><td>0.2726</td></tr><tr><th>19</th><td>1</td><td>706368</td><td>A</td><td>G</td><td>-0.002123</td><td>0.009259</td><td>0.8187</td></tr><tr><th>20</th><td>1</td><td>706778</td><td>A</td><td>G</td><td>-0.001826</td><td>0.010167</td><td>0.8575</td></tr><tr><th>21</th><td>1</td><td>709135</td><td>T</td><td>C</td><td>0.083992</td><td>0.033013</td><td>0.01095</td></tr><tr><th>22</th><td>1</td><td>713337</td><td>A</td><td>G</td><td>0.032134</td><td>0.044263</td><td>0.4678</td></tr><tr><th>23</th><td>1</td><td>714277</td><td>A</td><td>C</td><td>-0.009959</td><td>0.072903</td><td>0.8913</td></tr><tr><th>24</th><td>1</td><td>717587</td><td>A</td><td>G</td><td>-0.018759</td><td>0.039986</td><td>0.639</td></tr><tr><th>25</th><td>1</td><td>718336</td><td>T</td><td>C</td><td>0.070996</td><td>0.094303</td><td>0.4515</td></tr><tr><th>26</th><td>1</td><td>718505</td><td>A</td><td>G</td><td>0.011871</td><td>0.032234</td><td>0.7127</td></tr><tr><th>27</th><td>1</td><td>719604</td><td>T</td><td>C</td><td>0.088167</td><td>0.1287</td><td>0.4933</td></tr><tr><th>28</th><td>1</td><td>721290</td><td>C</td><td>G</td><td>-0.010189</td><td>0.025403</td><td>0.6884</td></tr><tr><th>29</th><td>1</td><td>722670</td><td>T</td><td>C</td><td>-0.002005</td><td>0.01573</td><td>0.8986</td></tr><tr><th>30</th><td>1</td><td>723819</td><td>A</td><td>T</td><td>0.004998</td><td>0.02671</td><td>0.8516</td></tr><tr><th>&vellip;</th><td>&vellip;</td><td>&vellip;</td><td>&vellip;</td><td>&vellip;</td><td>&vellip;</td><td>&vellip;</td><td>&vellip;</td></tr></tbody></table>"
      ],
      "text/latex": [
       "\\begin{tabular}{r|ccccccc}\n",
       "\t& chr & pos & a\\_effect\\_out & a\\_other\\_out & β\\_out & se\\_out & pval\\_out\\\\\n",
       "\t\\hline\n",
       "\t& identity & identity & identity & identity & identity & identity & identity\\\\\n",
       "\t\\hline\n",
       "\t& Int8? & Int32? & String? & String? & Float64? & Float64? & Float64?\\\\\n",
       "\t\\hline\n",
       "\t1 & 1 & 565987 & T & C & -0.159782 & 0.089708 & 0.07489 \\\\\n",
       "\t2 & 1 & 566139 & A & C & 0.155926 & 0.132123 & 0.2379 \\\\\n",
       "\t3 & 1 & 568665 & A & G & -0.054151 & 0.057159 & 0.3434 \\\\\n",
       "\t4 & 1 & 592368 & A & G & -0.061272 & 0.063967 & 0.3381 \\\\\n",
       "\t5 & 1 & 662531 & A & G & 0.04487 & 0.054755 & 0.4125 \\\\\n",
       "\t6 & 1 & 662613 & A & G & -0.03076 & 0.038043 & 0.4188 \\\\\n",
       "\t7 & 1 & 662622 & A & G & -0.005365 & 0.012785 & 0.6748 \\\\\n",
       "\t8 & 1 & 666249 & T & C & 0.155111 & 0.124543 & 0.213 \\\\\n",
       "\t9 & 1 & 674498 & A & T & -0.000142 & 0.046751 & 0.9976 \\\\\n",
       "\t10 & 1 & 676118 & T & C & 0.045893 & 0.021506 & 0.03285 \\\\\n",
       "\t11 & 1 & 676127 & T & C & 0.062663 & 0.043044 & 0.1454 \\\\\n",
       "\t12 & 1 & 693625 & T & C & -0.060816 & 0.029299 & 0.03792 \\\\\n",
       "\t13 & 1 & 693731 & A & G & 0.003772 & 0.012129 & 0.7558 \\\\\n",
       "\t14 & 1 & 693823 & C & G & -0.005411 & 0.012618 & 0.668 \\\\\n",
       "\t15 & 1 & 693920 & T & C & -0.005493 & 0.09063 & 0.9517 \\\\\n",
       "\t16 & 1 & 704637 & A & G & 0.00539 & 0.020397 & 0.7916 \\\\\n",
       "\t17 & 1 & 705882 & A & G & 0.013461 & 0.020753 & 0.5166 \\\\\n",
       "\t18 & 1 & 705942 & A & T & -0.087603 & 0.079842 & 0.2726 \\\\\n",
       "\t19 & 1 & 706368 & A & G & -0.002123 & 0.009259 & 0.8187 \\\\\n",
       "\t20 & 1 & 706778 & A & G & -0.001826 & 0.010167 & 0.8575 \\\\\n",
       "\t21 & 1 & 709135 & T & C & 0.083992 & 0.033013 & 0.01095 \\\\\n",
       "\t22 & 1 & 713337 & A & G & 0.032134 & 0.044263 & 0.4678 \\\\\n",
       "\t23 & 1 & 714277 & A & C & -0.009959 & 0.072903 & 0.8913 \\\\\n",
       "\t24 & 1 & 717587 & A & G & -0.018759 & 0.039986 & 0.639 \\\\\n",
       "\t25 & 1 & 718336 & T & C & 0.070996 & 0.094303 & 0.4515 \\\\\n",
       "\t26 & 1 & 718505 & A & G & 0.011871 & 0.032234 & 0.7127 \\\\\n",
       "\t27 & 1 & 719604 & T & C & 0.088167 & 0.1287 & 0.4933 \\\\\n",
       "\t28 & 1 & 721290 & C & G & -0.010189 & 0.025403 & 0.6884 \\\\\n",
       "\t29 & 1 & 722670 & T & C & -0.002005 & 0.01573 & 0.8986 \\\\\n",
       "\t30 & 1 & 723819 & A & T & 0.004998 & 0.02671 & 0.8516 \\\\\n",
       "\t$\\dots$ & $\\dots$ & $\\dots$ & $\\dots$ & $\\dots$ & $\\dots$ & $\\dots$ & $\\dots$ \\\\\n",
       "\\end{tabular}\n"
      ],
      "text/plain": [
       "\u001b[1m10684737×7 Dataset\u001b[0m\n",
       "\u001b[1m      Row \u001b[0m│\u001b[1m chr      \u001b[0m\u001b[1m pos      \u001b[0m\u001b[1m a_effect_out \u001b[0m\u001b[1m a_other_out \u001b[0m\u001b[1m β_out     \u001b[0m\u001b[1m se_out  \u001b[0m ⋯\n",
       "          │\u001b[90m identity \u001b[0m\u001b[90m identity \u001b[0m\u001b[90m identity     \u001b[0m\u001b[90m identity    \u001b[0m\u001b[90m identity  \u001b[0m\u001b[90m identity\u001b[0m ⋯\n",
       "          │\u001b[90m Int8?    \u001b[0m\u001b[90m Int32?   \u001b[0m\u001b[90m String?      \u001b[0m\u001b[90m String?     \u001b[0m\u001b[90m Float64?  \u001b[0m\u001b[90m Float64?\u001b[0m ⋯\n",
       "──────────┼─────────────────────────────────────────────────────────────────────\n",
       "        1 │        1    565987  T             C            -0.159782  0.089708 ⋯\n",
       "        2 │        1    566139  A             C             0.155926  0.132123\n",
       "        3 │        1    568665  A             G            -0.054151  0.057159\n",
       "        4 │        1    592368  A             G            -0.061272  0.063967\n",
       "        5 │        1    662531  A             G             0.04487   0.054755 ⋯\n",
       "        6 │        1    662613  A             G            -0.03076   0.038043\n",
       "        7 │        1    662622  A             G            -0.005365  0.012785\n",
       "        8 │        1    666249  T             C             0.155111  0.124543\n",
       "        9 │        1    674498  A             T            -0.000142  0.046751 ⋯\n",
       "       10 │        1    676118  T             C             0.045893  0.021506\n",
       "    ⋮     │    ⋮         ⋮           ⋮             ⋮           ⋮         ⋮     ⋱\n",
       " 10684728 │       22  51232581  T             C            -0.017078  0.00917\n",
       " 10684729 │       22  51233666  T             C             0.024379  0.038789\n",
       " 10684730 │       22  51234343  T             G             0.020267  0.038647 ⋯\n",
       " 10684731 │       22  51235959  T             C            -0.006728  0.012337\n",
       " 10684732 │       22  51235979  A             G            -0.018272  0.011713\n",
       " 10684733 │       22  51236137  T             C            -0.070147  0.091477\n",
       " 10684734 │       22  51237063  T             C            -0.020469  0.008985 ⋯\n",
       " 10684735 │       22  51238318  A             T             0.076644  0.086707\n",
       " 10684736 │       22  51238328  A             C            -0.174874  0.101815\n",
       " 10684737 │       22  51239586  T             G             0.058239  0.066504\n",
       "\u001b[36m                                              1 column and 10684717 rows omitted\u001b[0m"
      ]
     },
     "execution_count": 4,
     "metadata": {},
     "output_type": "execute_result"
    }
   ],
   "source": [
    "gwas_file = \"/mnt/r6_data/GWAS_MRsuite/input_MRsuite_hypoT4_SM\"\n",
    "chr = 5\n",
    "tss = 35852695\n",
    "\n",
    "gwas_data = filereader(gwas_file, \n",
    "                       header = [:chr, :pos, :a_effect_out, :a_other_out, :β_out, :se_out, :pval_out],\n",
    "                       types = Dict( 1=>Int8, 2=>Int32, 3=>String, 4=>String, \n",
    "                                     5=>Float64, 6=>Float64, 7=>Float64),\n",
    "                       delimiter = '\\t', skipto = 2)"
   ]
  },
  {
   "cell_type": "code",
   "execution_count": 6,
   "metadata": {},
   "outputs": [
    {
     "data": {
      "text/html": [
       "<table class=\"data-set\"><thead><tr><th></th><th>chr</th><th>pos</th><th>a_effect_out</th><th>a_other_out</th><th>β_out</th><th>se_out</th><th>pval_out</th></tr><tr><th></th><th>identity</th><th>identity</th><th>identity</th><th>identity</th><th>identity</th><th>identity</th><th>identity</th></tr><tr><th></th><th title=\"Union{Missing, Int8}\">Int8?</th><th title=\"Union{Missing, Int32}\">Int32?</th><th title=\"Union{Missing, String}\">String?</th><th title=\"Union{Missing, String}\">String?</th><th title=\"Union{Missing, Float64}\">Float64?</th><th title=\"Union{Missing, Float64}\">Float64?</th><th title=\"Union{Missing, Float64}\">Float64?</th></tr></thead><tbody><p>415 rows × 7 columns</p><p><b> Sorted Dataset </p><p> Sorted by: pval_out </p><tr><th>1</th><td>5</td><td>35846815</td><td>T</td><td>G</td><td>-0.059365</td><td>0.008319</td><td>9.621e-13</td></tr><tr><th>2</th><td>5</td><td>35837234</td><td>A</td><td>G</td><td>-0.059342</td><td>0.00832</td><td>9.856e-13</td></tr><tr><th>3</th><td>5</td><td>35841449</td><td>A</td><td>G</td><td>0.059324</td><td>0.00832</td><td>1.005e-12</td></tr><tr><th>4</th><td>5</td><td>35844125</td><td>A</td><td>G</td><td>-0.059285</td><td>0.00832</td><td>1.036e-12</td></tr><tr><th>5</th><td>5</td><td>35843832</td><td>C</td><td>G</td><td>0.059281</td><td>0.00832</td><td>1.038e-12</td></tr><tr><th>6</th><td>5</td><td>35833268</td><td>T</td><td>C</td><td>0.055793</td><td>0.00806</td><td>4.454e-12</td></tr><tr><th>7</th><td>5</td><td>35803577</td><td>T</td><td>C</td><td>-0.056192</td><td>0.008344</td><td>1.642e-11</td></tr><tr><th>8</th><td>5</td><td>35833717</td><td>A</td><td>G</td><td>0.054111</td><td>0.008138</td><td>2.941e-11</td></tr><tr><th>9</th><td>5</td><td>35805208</td><td>A</td><td>G</td><td>0.05374</td><td>0.008181</td><td>5.079e-11</td></tr><tr><th>10</th><td>5</td><td>35806110</td><td>A</td><td>C</td><td>0.053658</td><td>0.008182</td><td>5.439e-11</td></tr><tr><th>11</th><td>5</td><td>35866218</td><td>A</td><td>G</td><td>-0.052394</td><td>0.00812</td><td>1.099e-10</td></tr><tr><th>12</th><td>5</td><td>35807455</td><td>T</td><td>G</td><td>-0.052732</td><td>0.00818</td><td>1.147e-10</td></tr><tr><th>13</th><td>5</td><td>35814105</td><td>T</td><td>C</td><td>-0.052535</td><td>0.008172</td><td>1.288e-10</td></tr><tr><th>14</th><td>5</td><td>35812414</td><td>T</td><td>C</td><td>-0.052458</td><td>0.008172</td><td>1.371e-10</td></tr><tr><th>15</th><td>5</td><td>35827665</td><td>C</td><td>G</td><td>0.052631</td><td>0.008206</td><td>1.417e-10</td></tr><tr><th>16</th><td>5</td><td>35827646</td><td>C</td><td>G</td><td>0.052617</td><td>0.008206</td><td>1.433e-10</td></tr><tr><th>17</th><td>5</td><td>35811768</td><td>T</td><td>C</td><td>-0.052326</td><td>0.008171</td><td>1.511e-10</td></tr><tr><th>18</th><td>5</td><td>35825573</td><td>A</td><td>G</td><td>0.051882</td><td>0.008133</td><td>1.778e-10</td></tr><tr><th>19</th><td>5</td><td>35825173</td><td>T</td><td>C</td><td>-0.051882</td><td>0.008133</td><td>1.779e-10</td></tr><tr><th>20</th><td>5</td><td>35810268</td><td>A</td><td>G</td><td>0.052043</td><td>0.008172</td><td>1.914e-10</td></tr><tr><th>21</th><td>5</td><td>35811973</td><td>A</td><td>G</td><td>-0.051221</td><td>0.008172</td><td>3.658e-10</td></tr><tr><th>22</th><td>5</td><td>35883251</td><td>C</td><td>G</td><td>-0.049459</td><td>0.00813</td><td>1.177e-9</td></tr><tr><th>23</th><td>5</td><td>35883757</td><td>A</td><td>C</td><td>0.049467</td><td>0.008132</td><td>1.177e-9</td></tr><tr><th>24</th><td>5</td><td>35883176</td><td>T</td><td>G</td><td>-0.049409</td><td>0.00813</td><td>1.222e-9</td></tr><tr><th>25</th><td>5</td><td>35883804</td><td>T</td><td>C</td><td>-0.049361</td><td>0.008132</td><td>1.277e-9</td></tr><tr><th>26</th><td>5</td><td>35879156</td><td>T</td><td>G</td><td>-0.053067</td><td>0.008756</td><td>1.357e-9</td></tr><tr><th>27</th><td>5</td><td>35874575</td><td>T</td><td>C</td><td>-0.052823</td><td>0.008757</td><td>1.622e-9</td></tr><tr><th>28</th><td>5</td><td>35881443</td><td>A</td><td>G</td><td>-0.052605</td><td>0.008762</td><td>1.924e-9</td></tr><tr><th>29</th><td>5</td><td>35857850</td><td>A</td><td>C</td><td>0.05248</td><td>0.008757</td><td>2.066e-9</td></tr><tr><th>30</th><td>5</td><td>35879095</td><td>T</td><td>C</td><td>-0.052448</td><td>0.008756</td><td>2.101e-9</td></tr><tr><th>&vellip;</th><td>&vellip;</td><td>&vellip;</td><td>&vellip;</td><td>&vellip;</td><td>&vellip;</td><td>&vellip;</td><td>&vellip;</td></tr></tbody></table>"
      ],
      "text/latex": [
       "\\begin{tabular}{r|ccccccc}\n",
       "\t& chr & pos & a\\_effect\\_out & a\\_other\\_out & β\\_out & se\\_out & pval\\_out\\\\\n",
       "\t\\hline\n",
       "\t& identity & identity & identity & identity & identity & identity & identity\\\\\n",
       "\t\\hline\n",
       "\t& Int8? & Int32? & String? & String? & Float64? & Float64? & Float64?\\\\\n",
       "\t\\hline\n",
       "\t1 & 5 & 35846815 & T & G & -0.059365 & 0.008319 & 9.621e-13 \\\\\n",
       "\t2 & 5 & 35837234 & A & G & -0.059342 & 0.00832 & 9.856e-13 \\\\\n",
       "\t3 & 5 & 35841449 & A & G & 0.059324 & 0.00832 & 1.005e-12 \\\\\n",
       "\t4 & 5 & 35844125 & A & G & -0.059285 & 0.00832 & 1.036e-12 \\\\\n",
       "\t5 & 5 & 35843832 & C & G & 0.059281 & 0.00832 & 1.038e-12 \\\\\n",
       "\t6 & 5 & 35833268 & T & C & 0.055793 & 0.00806 & 4.454e-12 \\\\\n",
       "\t7 & 5 & 35803577 & T & C & -0.056192 & 0.008344 & 1.642e-11 \\\\\n",
       "\t8 & 5 & 35833717 & A & G & 0.054111 & 0.008138 & 2.941e-11 \\\\\n",
       "\t9 & 5 & 35805208 & A & G & 0.05374 & 0.008181 & 5.079e-11 \\\\\n",
       "\t10 & 5 & 35806110 & A & C & 0.053658 & 0.008182 & 5.439e-11 \\\\\n",
       "\t11 & 5 & 35866218 & A & G & -0.052394 & 0.00812 & 1.099e-10 \\\\\n",
       "\t12 & 5 & 35807455 & T & G & -0.052732 & 0.00818 & 1.147e-10 \\\\\n",
       "\t13 & 5 & 35814105 & T & C & -0.052535 & 0.008172 & 1.288e-10 \\\\\n",
       "\t14 & 5 & 35812414 & T & C & -0.052458 & 0.008172 & 1.371e-10 \\\\\n",
       "\t15 & 5 & 35827665 & C & G & 0.052631 & 0.008206 & 1.417e-10 \\\\\n",
       "\t16 & 5 & 35827646 & C & G & 0.052617 & 0.008206 & 1.433e-10 \\\\\n",
       "\t17 & 5 & 35811768 & T & C & -0.052326 & 0.008171 & 1.511e-10 \\\\\n",
       "\t18 & 5 & 35825573 & A & G & 0.051882 & 0.008133 & 1.778e-10 \\\\\n",
       "\t19 & 5 & 35825173 & T & C & -0.051882 & 0.008133 & 1.779e-10 \\\\\n",
       "\t20 & 5 & 35810268 & A & G & 0.052043 & 0.008172 & 1.914e-10 \\\\\n",
       "\t21 & 5 & 35811973 & A & G & -0.051221 & 0.008172 & 3.658e-10 \\\\\n",
       "\t22 & 5 & 35883251 & C & G & -0.049459 & 0.00813 & 1.177e-9 \\\\\n",
       "\t23 & 5 & 35883757 & A & C & 0.049467 & 0.008132 & 1.177e-9 \\\\\n",
       "\t24 & 5 & 35883176 & T & G & -0.049409 & 0.00813 & 1.222e-9 \\\\\n",
       "\t25 & 5 & 35883804 & T & C & -0.049361 & 0.008132 & 1.277e-9 \\\\\n",
       "\t26 & 5 & 35879156 & T & G & -0.053067 & 0.008756 & 1.357e-9 \\\\\n",
       "\t27 & 5 & 35874575 & T & C & -0.052823 & 0.008757 & 1.622e-9 \\\\\n",
       "\t28 & 5 & 35881443 & A & G & -0.052605 & 0.008762 & 1.924e-9 \\\\\n",
       "\t29 & 5 & 35857850 & A & C & 0.05248 & 0.008757 & 2.066e-9 \\\\\n",
       "\t30 & 5 & 35879095 & T & C & -0.052448 & 0.008756 & 2.101e-9 \\\\\n",
       "\t$\\dots$ & $\\dots$ & $\\dots$ & $\\dots$ & $\\dots$ & $\\dots$ & $\\dots$ & $\\dots$ \\\\\n",
       "\\end{tabular}\n"
      ],
      "text/plain": [
       "\u001b[1m415×7 Sorted Dataset\u001b[0m\n",
       "\u001b[1m Sorted by: pval_out\u001b[0m\n",
       "\u001b[1m Row \u001b[0m│\u001b[1m chr      \u001b[0m\u001b[1m pos      \u001b[0m\u001b[1m a_effect_out \u001b[0m\u001b[1m a_other_out \u001b[0m\u001b[1m β_out     \u001b[0m\u001b[1m se_out   \u001b[0m\u001b[1m pva\u001b[0m ⋯\n",
       "     │\u001b[90m identity \u001b[0m\u001b[90m identity \u001b[0m\u001b[90m identity     \u001b[0m\u001b[90m identity    \u001b[0m\u001b[90m identity  \u001b[0m\u001b[90m identity \u001b[0m\u001b[90m ide\u001b[0m ⋯\n",
       "     │\u001b[90m Int8?    \u001b[0m\u001b[90m Int32?   \u001b[0m\u001b[90m String?      \u001b[0m\u001b[90m String?     \u001b[0m\u001b[90m Float64?  \u001b[0m\u001b[90m Float64? \u001b[0m\u001b[90m Flo\u001b[0m ⋯\n",
       "─────┼──────────────────────────────────────────────────────────────────────────\n",
       "   1 │        5  35846815  T             G            -0.059365  0.008319  9.6 ⋯\n",
       "   2 │        5  35837234  A             G            -0.059342  0.00832   9.8\n",
       "   3 │        5  35841449  A             G             0.059324  0.00832   1.0\n",
       "   4 │        5  35844125  A             G            -0.059285  0.00832   1.0\n",
       "   5 │        5  35843832  C             G             0.059281  0.00832   1.0 ⋯\n",
       "   6 │        5  35833268  T             C             0.055793  0.00806   4.4\n",
       "   7 │        5  35803577  T             C            -0.056192  0.008344  1.6\n",
       "   8 │        5  35833717  A             G             0.054111  0.008138  2.9\n",
       "   9 │        5  35805208  A             G             0.05374   0.008181  5.0 ⋯\n",
       "  10 │        5  35806110  A             C             0.053658  0.008182  5.4\n",
       "  ⋮  │    ⋮         ⋮           ⋮             ⋮           ⋮         ⋮          ⋱\n",
       " 407 │        5  35933355  A             T             0.02303   0.008071  0.0\n",
       " 408 │        5  35955536  C             G            -0.035569  0.012474  0.0\n",
       " 409 │        5  35955133  A             G            -0.296052  0.104106  0.0 ⋯\n",
       " 410 │        5  35962873  T             C             0.035502  0.012495  0.0\n",
       " 411 │        5  35917778  T             C             0.111815  0.039424  0.0\n",
       " 412 │        5  35987551  A             G             0.032837  0.011633  0.0\n",
       " 413 │        5  35990683  A             C             0.030047  0.010651  0.0 ⋯\n",
       " 414 │        5  35954614  T             C             0.291382  0.103597  0.0\n",
       " 415 │        5  35916563  C             G            -0.025531  0.009082  0.0\n",
       "\u001b[36m                                                   1 column and 396 rows omitted\u001b[0m"
      ]
     },
     "execution_count": 6,
     "metadata": {},
     "output_type": "execute_result"
    }
   ],
   "source": [
    "in_window(s::SubArray) = (s[1] == chr && abs(s[2]-tss)≤500000 && s[3]<5e-3)\n",
    "\n",
    "filter!(gwas_data, [:chr, :pos, :pval_out], type = in_window)\n",
    "sort!(gwas_data, :pval_out)"
   ]
  },
  {
   "attachments": {},
   "cell_type": "markdown",
   "metadata": {},
   "source": [
    "### 2) get ld matrix"
   ]
  },
  {
   "cell_type": "code",
   "execution_count": 5,
   "metadata": {},
   "outputs": [
    {
     "data": {
      "text/plain": [
       "40-element Vector{Tuple{Any, Any}}:\n",
       " (5, 35846815)\n",
       " (5, 35837234)\n",
       " (5, 35841449)\n",
       " (5, 35844125)\n",
       " (5, 35843832)\n",
       " (5, 35833268)\n",
       " (5, 35803577)\n",
       " (5, 35833717)\n",
       " (5, 35805208)\n",
       " (5, 35806110)\n",
       " (5, 35866218)\n",
       " (5, 35807455)\n",
       " (5, 35814105)\n",
       " ⋮\n",
       " (5, 35857850)\n",
       " (5, 35879095)\n",
       " (5, 35861152)\n",
       " (5, 35857704)\n",
       " (5, 35881376)\n",
       " (5, 35862841)\n",
       " (5, 35850149)\n",
       " (5, 35853319)\n",
       " (5, 35852311)\n",
       " (5, 35810561)\n",
       " (5, 35811282)\n",
       " (5, 35851831)"
      ]
     },
     "execution_count": 5,
     "metadata": {},
     "output_type": "execute_result"
    }
   ],
   "source": [
    "chr_pos = collect(zip(gwas_data.chr, gwas_data.pos))"
   ]
  },
  {
   "cell_type": "code",
   "execution_count": 12,
   "metadata": {},
   "outputs": [],
   "source": [
    "files = [\"/home/samat33/CrickData_samat33/PLINK/EUR_biallelic/chr$(i)_CEU.BIALL\" for i in 1:22]\n",
    "\n",
    "GenotypesArr = [SnpData(SnpArrays.datadir(file)) for file in files]\n",
    "\n",
    "@threads for i in 1:lastindex(GenotypesArr)\n",
    "    GenotypesArr[i].snp_info.idx = collect(1:size(GenotypesArr[i].snp_info, 1))\n",
    "    GenotypesArr[i].snp_info.chr_pos = collect(\n",
    "        zip(parse.(Int8, GenotypesArr[i].snp_info.chromosome), \n",
    "        GenotypesArr[i].snp_info.position)\n",
    "    )\n",
    "    sort!(GenotypesArr[i].snp_info, :chr_pos)\n",
    "end"
   ]
  },
  {
   "cell_type": "code",
   "execution_count": null,
   "metadata": {},
   "outputs": [],
   "source": [
    "R2_mat, found_v_b = getLDmat(GenotypesArr[5], chr_pos)"
   ]
  },
  {
   "cell_type": "code",
   "execution_count": null,
   "metadata": {},
   "outputs": [],
   "source": [
    "R2_mat"
   ]
  },
  {
   "attachments": {},
   "cell_type": "markdown",
   "metadata": {},
   "source": [
    "### 3) Clumping"
   ]
  },
  {
   "cell_type": "code",
   "execution_count": 7,
   "metadata": {},
   "outputs": [
    {
     "ename": "LoadError",
     "evalue": "MethodError: no method matching clump(::SnpData, ::Vector{Tuple{Any, Any}})\n\u001b[0mClosest candidates are:\n\u001b[0m  clump(::SnpData, \u001b[91m::AbstractArray{Tuple{T1, T2}, 1}\u001b[39m) where {T1, T2<:Integer} at ~/miniconda3/envs/julia_r/share/julia/dev/MrPainter/src/ld.jl:133\n\u001b[0m  clump(::SnpData, \u001b[91m::AbstractArray{Tuple{T1, T2}, 1}\u001b[39m, \u001b[91m::Float64\u001b[39m) where {T1, T2<:Integer} at ~/miniconda3/envs/julia_r/share/julia/dev/MrPainter/src/ld.jl:133",
     "output_type": "error",
     "traceback": [
      "MethodError: no method matching clump(::SnpData, ::Vector{Tuple{Any, Any}})\n\u001b[0mClosest candidates are:\n\u001b[0m  clump(::SnpData, \u001b[91m::AbstractArray{Tuple{T1, T2}, 1}\u001b[39m) where {T1, T2<:Integer} at ~/miniconda3/envs/julia_r/share/julia/dev/MrPainter/src/ld.jl:133\n\u001b[0m  clump(::SnpData, \u001b[91m::AbstractArray{Tuple{T1, T2}, 1}\u001b[39m, \u001b[91m::Float64\u001b[39m) where {T1, T2<:Integer} at ~/miniconda3/envs/julia_r/share/julia/dev/MrPainter/src/ld.jl:133",
      "",
      "Stacktrace:",
      " [1] top-level scope",
      "   @ In[7]:1"
     ]
    }
   ],
   "source": [
    "kept_v_b = clump(GenotypesArr[5], chr_pos)"
   ]
  },
  {
   "attachments": {},
   "cell_type": "markdown",
   "metadata": {},
   "source": [
    "## Form Interval pQTL"
   ]
  },
  {
   "cell_type": "code",
   "execution_count": 29,
   "metadata": {},
   "outputs": [
    {
     "data": {
      "text/html": [
       "<table class=\"data-set\"><thead><tr><th></th><th>id_</th><th>chr</th><th>pos</th><th>a_effect_out</th><th>a_other_out</th><th>β_out</th><th>se_out</th><th>pval_out</th></tr><tr><th></th><th>identity</th><th>identity</th><th>identity</th><th>identity</th><th>identity</th><th>identity</th><th>identity</th><th>identity</th></tr><tr><th></th><th title=\"Union{Missing, String}\">String?</th><th title=\"Union{Missing, Int8}\">Int8?</th><th title=\"Union{Missing, Int32}\">Int32?</th><th title=\"Union{Missing, String}\">String?</th><th title=\"Union{Missing, String}\">String?</th><th title=\"Union{Missing, Float64}\">Float64?</th><th title=\"Union{Missing, Float64}\">Float64?</th><th title=\"Union{Missing, Float64}\">Float64?</th></tr></thead><tbody><p>687,387 rows × 8 columns</p><tr><th>1</th><td>5_10056_3</td><td>5</td><td>10056</td><td>a</td><td>c</td><td>-0.0005</td><td>0.0547</td><td>-0.0</td></tr><tr><th>2</th><td>5_10063_6</td><td>5</td><td>10063</td><td>a</td><td>c</td><td>0.0101</td><td>0.0376</td><td>-0.1</td></tr><tr><th>3</th><td>5_10099_10</td><td>5</td><td>10099</td><td>a</td><td>c</td><td>-0.0061</td><td>0.0385</td><td>-0.06</td></tr><tr><th>4</th><td>5_10116_13</td><td>5</td><td>10116</td><td>a</td><td>t</td><td>-0.0578</td><td>0.1479</td><td>-0.16</td></tr><tr><th>5</th><td>5_10219_14</td><td>5</td><td>10219</td><td>a</td><td>c</td><td>-0.0146</td><td>0.0471</td><td>-0.12</td></tr><tr><th>6</th><td>5_10231_15</td><td>5</td><td>10231</td><td>a</td><td>c</td><td>-0.0054</td><td>0.0737</td><td>-0.03</td></tr><tr><th>7</th><td>5_10237_17</td><td>5</td><td>10237</td><td>a</td><td>g</td><td>-0.083</td><td>0.0712</td><td>-0.61</td></tr><tr><th>8</th><td>5_10249_18</td><td>5</td><td>10249</td><td>a</td><td>c</td><td>0.0028</td><td>0.0404</td><td>-0.02</td></tr><tr><th>9</th><td>5_10255_19</td><td>5</td><td>10255</td><td>a</td><td>c</td><td>0.0255</td><td>0.046</td><td>-0.24</td></tr><tr><th>10</th><td>5_10261_22</td><td>5</td><td>10261</td><td>a</td><td>c</td><td>-0.0326</td><td>0.0685</td><td>-0.2</td></tr><tr><th>11</th><td>5_10285_23</td><td>5</td><td>10285</td><td>a</td><td>g</td><td>0.0977</td><td>0.0429</td><td>-1.64</td></tr><tr><th>12</th><td>5_10693_26</td><td>5</td><td>10693</td><td>a</td><td>c</td><td>0.0095</td><td>0.0321</td><td>-0.12</td></tr><tr><th>13</th><td>5_10722_28</td><td>5</td><td>10722</td><td>a</td><td>c</td><td>0.067</td><td>0.0448</td><td>-0.87</td></tr><tr><th>14</th><td>5_11804_30</td><td>5</td><td>11804</td><td>t</td><td>ta</td><td>0.0233</td><td>0.0291</td><td>-0.37</td></tr><tr><th>15</th><td>5_11882_31</td><td>5</td><td>11882</td><td>a</td><td>t</td><td>-0.0001</td><td>0.0285</td><td>-0.0</td></tr><tr><th>16</th><td>5_11883_32</td><td>5</td><td>11883</td><td>c</td><td>g</td><td>0.0025</td><td>0.0286</td><td>-0.03</td></tr><tr><th>17</th><td>5_11889_33</td><td>5</td><td>11889</td><td>cttatat</td><td>c</td><td>-0.001</td><td>0.0274</td><td>-0.01</td></tr><tr><th>18</th><td>5_12041_34</td><td>5</td><td>12041</td><td>a</td><td>t</td><td>-0.0058</td><td>0.0281</td><td>-0.08</td></tr><tr><th>19</th><td>5_12180_35</td><td>5</td><td>12180</td><td>t</td><td>g</td><td>0.0984</td><td>0.1026</td><td>-0.47</td></tr><tr><th>20</th><td>5_12225_36</td><td>5</td><td>12225</td><td>a</td><td>g</td><td>0.0046</td><td>0.0281</td><td>-0.06</td></tr><tr><th>21</th><td>5_12468_40</td><td>5</td><td>12468</td><td>ccg</td><td>c</td><td>-0.0045</td><td>0.1253</td><td>-0.01</td></tr><tr><th>22</th><td>5_12845_41</td><td>5</td><td>12845</td><td>c</td><td>g</td><td>-0.0355</td><td>0.0322</td><td>-0.57</td></tr><tr><th>23</th><td>5_13018_42</td><td>5</td><td>13018</td><td>a</td><td>c</td><td>-0.0019</td><td>0.0282</td><td>-0.02</td></tr><tr><th>24</th><td>5_13114_44</td><td>5</td><td>13114</td><td>c</td><td>g</td><td>-0.0008</td><td>0.0281</td><td>-0.01</td></tr><tr><th>25</th><td>5_13125_45</td><td>5</td><td>13125</td><td>t</td><td>g</td><td>-0.0035</td><td>0.0281</td><td>-0.05</td></tr><tr><th>26</th><td>5_13206_46</td><td>5</td><td>13206</td><td>c</td><td>g</td><td>-0.0265</td><td>0.0621</td><td>-0.17</td></tr><tr><th>27</th><td>5_13329_47</td><td>5</td><td>13329</td><td>c</td><td>g</td><td>0.0026</td><td>0.0284</td><td>-0.03</td></tr><tr><th>28</th><td>5_13516_48</td><td>5</td><td>13516</td><td>a</td><td>g</td><td>-0.381</td><td>0.2393</td><td>-0.95</td></tr><tr><th>29</th><td>5_13589_51</td><td>5</td><td>13589</td><td>a</td><td>t</td><td>0.0001</td><td>0.0562</td><td>-0.0</td></tr><tr><th>30</th><td>5_13739_52</td><td>5</td><td>13739</td><td>a</td><td>aatgtt</td><td>0.0014</td><td>0.0283</td><td>-0.02</td></tr><tr><th>&vellip;</th><td>&vellip;</td><td>&vellip;</td><td>&vellip;</td><td>&vellip;</td><td>&vellip;</td><td>&vellip;</td><td>&vellip;</td><td>&vellip;</td></tr></tbody></table>"
      ],
      "text/latex": [
       "\\begin{tabular}{r|cccccccc}\n",
       "\t& id\\_ & chr & pos & a\\_effect\\_out & a\\_other\\_out & β\\_out & se\\_out & pval\\_out\\\\\n",
       "\t\\hline\n",
       "\t& identity & identity & identity & identity & identity & identity & identity & identity\\\\\n",
       "\t\\hline\n",
       "\t& String? & Int8? & Int32? & String? & String? & Float64? & Float64? & Float64?\\\\\n",
       "\t\\hline\n",
       "\t1 & 5\\_10056\\_3 & 5 & 10056 & a & c & -0.0005 & 0.0547 & -0.0 \\\\\n",
       "\t2 & 5\\_10063\\_6 & 5 & 10063 & a & c & 0.0101 & 0.0376 & -0.1 \\\\\n",
       "\t3 & 5\\_10099\\_10 & 5 & 10099 & a & c & -0.0061 & 0.0385 & -0.06 \\\\\n",
       "\t4 & 5\\_10116\\_13 & 5 & 10116 & a & t & -0.0578 & 0.1479 & -0.16 \\\\\n",
       "\t5 & 5\\_10219\\_14 & 5 & 10219 & a & c & -0.0146 & 0.0471 & -0.12 \\\\\n",
       "\t6 & 5\\_10231\\_15 & 5 & 10231 & a & c & -0.0054 & 0.0737 & -0.03 \\\\\n",
       "\t7 & 5\\_10237\\_17 & 5 & 10237 & a & g & -0.083 & 0.0712 & -0.61 \\\\\n",
       "\t8 & 5\\_10249\\_18 & 5 & 10249 & a & c & 0.0028 & 0.0404 & -0.02 \\\\\n",
       "\t9 & 5\\_10255\\_19 & 5 & 10255 & a & c & 0.0255 & 0.046 & -0.24 \\\\\n",
       "\t10 & 5\\_10261\\_22 & 5 & 10261 & a & c & -0.0326 & 0.0685 & -0.2 \\\\\n",
       "\t11 & 5\\_10285\\_23 & 5 & 10285 & a & g & 0.0977 & 0.0429 & -1.64 \\\\\n",
       "\t12 & 5\\_10693\\_26 & 5 & 10693 & a & c & 0.0095 & 0.0321 & -0.12 \\\\\n",
       "\t13 & 5\\_10722\\_28 & 5 & 10722 & a & c & 0.067 & 0.0448 & -0.87 \\\\\n",
       "\t14 & 5\\_11804\\_30 & 5 & 11804 & t & ta & 0.0233 & 0.0291 & -0.37 \\\\\n",
       "\t15 & 5\\_11882\\_31 & 5 & 11882 & a & t & -0.0001 & 0.0285 & -0.0 \\\\\n",
       "\t16 & 5\\_11883\\_32 & 5 & 11883 & c & g & 0.0025 & 0.0286 & -0.03 \\\\\n",
       "\t17 & 5\\_11889\\_33 & 5 & 11889 & cttatat & c & -0.001 & 0.0274 & -0.01 \\\\\n",
       "\t18 & 5\\_12041\\_34 & 5 & 12041 & a & t & -0.0058 & 0.0281 & -0.08 \\\\\n",
       "\t19 & 5\\_12180\\_35 & 5 & 12180 & t & g & 0.0984 & 0.1026 & -0.47 \\\\\n",
       "\t20 & 5\\_12225\\_36 & 5 & 12225 & a & g & 0.0046 & 0.0281 & -0.06 \\\\\n",
       "\t21 & 5\\_12468\\_40 & 5 & 12468 & ccg & c & -0.0045 & 0.1253 & -0.01 \\\\\n",
       "\t22 & 5\\_12845\\_41 & 5 & 12845 & c & g & -0.0355 & 0.0322 & -0.57 \\\\\n",
       "\t23 & 5\\_13018\\_42 & 5 & 13018 & a & c & -0.0019 & 0.0282 & -0.02 \\\\\n",
       "\t24 & 5\\_13114\\_44 & 5 & 13114 & c & g & -0.0008 & 0.0281 & -0.01 \\\\\n",
       "\t25 & 5\\_13125\\_45 & 5 & 13125 & t & g & -0.0035 & 0.0281 & -0.05 \\\\\n",
       "\t26 & 5\\_13206\\_46 & 5 & 13206 & c & g & -0.0265 & 0.0621 & -0.17 \\\\\n",
       "\t27 & 5\\_13329\\_47 & 5 & 13329 & c & g & 0.0026 & 0.0284 & -0.03 \\\\\n",
       "\t28 & 5\\_13516\\_48 & 5 & 13516 & a & g & -0.381 & 0.2393 & -0.95 \\\\\n",
       "\t29 & 5\\_13589\\_51 & 5 & 13589 & a & t & 0.0001 & 0.0562 & -0.0 \\\\\n",
       "\t30 & 5\\_13739\\_52 & 5 & 13739 & a & aatgtt & 0.0014 & 0.0283 & -0.02 \\\\\n",
       "\t$\\dots$ & $\\dots$ & $\\dots$ & $\\dots$ & $\\dots$ & $\\dots$ & $\\dots$ & $\\dots$ & $\\dots$ \\\\\n",
       "\\end{tabular}\n"
      ],
      "text/plain": [
       "\u001b[1m687387×8 Dataset\u001b[0m\n",
       "\u001b[1m    Row \u001b[0m│\u001b[1m id_                 \u001b[0m\u001b[1m chr      \u001b[0m\u001b[1m pos       \u001b[0m\u001b[1m a_effect_out \u001b[0m\u001b[1m a_other_out \u001b[0m\u001b[1m\u001b[0m ⋯\n",
       "        │\u001b[90m identity            \u001b[0m\u001b[90m identity \u001b[0m\u001b[90m identity  \u001b[0m\u001b[90m identity     \u001b[0m\u001b[90m identity    \u001b[0m\u001b[90m\u001b[0m ⋯\n",
       "        │\u001b[90m String?             \u001b[0m\u001b[90m Int8?    \u001b[0m\u001b[90m Int32?    \u001b[0m\u001b[90m String?      \u001b[0m\u001b[90m String?     \u001b[0m\u001b[90m\u001b[0m ⋯\n",
       "────────┼───────────────────────────────────────────────────────────────────────\n",
       "      1 │ 5_10056_3                   5      10056  a             c            ⋯\n",
       "      2 │ 5_10063_6                   5      10063  a             c\n",
       "      3 │ 5_10099_10                  5      10099  a             c\n",
       "      4 │ 5_10116_13                  5      10116  a             t\n",
       "      5 │ 5_10219_14                  5      10219  a             c            ⋯\n",
       "      6 │ 5_10231_15                  5      10231  a             c\n",
       "      7 │ 5_10237_17                  5      10237  a             g\n",
       "      8 │ 5_10249_18                  5      10249  a             c\n",
       "      9 │ 5_10255_19                  5      10255  a             c            ⋯\n",
       "     10 │ 5_10261_22                  5      10261  a             c\n",
       "   ⋮    │          ⋮              ⋮          ⋮           ⋮             ⋮       ⋱\n",
       " 687378 │ 5_180789376_1036708         5  180789376  a             t\n",
       " 687379 │ 5_180790847_1036711         5  180790847  ca            c\n",
       " 687380 │ 5_180790901_1036712         5  180790901  a             c            ⋯\n",
       " 687381 │ 5_180790919_1036714         5  180790919  a             g\n",
       " 687382 │ 5_180790928_1036715         5  180790928  a             g\n",
       " 687383 │ 5_180790949_1036716         5  180790949  a             g\n",
       " 687384 │ 5_180791121_1036717         5  180791121  a             g            ⋯\n",
       " 687385 │ 5_180831164_1036720         5  180831164  a             g\n",
       " 687386 │ 5_180836598_1036721         5  180836598  t             c\n",
       " 687387 │ 5_180877085_1036726         5  180877085  t             c\n",
       "\u001b[36m                                               3 columns and 687367 rows omitted\u001b[0m"
      ]
     },
     "execution_count": 29,
     "metadata": {},
     "output_type": "execute_result"
    }
   ],
   "source": [
    "qtl_file = \"/home/samat33/CrickData_samat33/Interval/meta_filtered_final/IL7R.5089.11.3/IL7R.5089.11.3_chrom_5_meta_final_v1.tsv\"\n",
    "\n",
    "chr = 5\n",
    "tss = 35852695\n",
    "\n",
    "qtl_data = filereader(qtl_file, \n",
    "                       header = [:id_, :chr, :pos, :a_effect_out, :a_other_out, :β_out, :se_out, :pval_out],\n",
    "                       types = Dict( 2=>Int8, 3=>Int32, 4=>String, 5=>String,\n",
    "                                     6=>Float64, 7=>Float64, 8=>Float64),\n",
    "                       delimiter = '\\t', skipto = 2)"
   ]
  },
  {
   "cell_type": "code",
   "execution_count": 30,
   "metadata": {},
   "outputs": [
    {
     "data": {
      "text/plain": [
       "994-element Vector{Tuple{Any, Any}}:\n",
       " (5, 35866218)\n",
       " (5, 35883757)\n",
       " (5, 35883251)\n",
       " (5, 35883176)\n",
       " (5, 35883804)\n",
       " (5, 35812414)\n",
       " (5, 35827665)\n",
       " (5, 35814105)\n",
       " (5, 35811768)\n",
       " (5, 35827646)\n",
       " (5, 35811973)\n",
       " (5, 35810268)\n",
       " (5, 35807455)\n",
       " ⋮\n",
       " (5, 35850278)\n",
       " (5, 35876251)\n",
       " (5, 35474284)\n",
       " (5, 35497748)\n",
       " (5, 35478774)\n",
       " (5, 35696508)\n",
       " (5, 35712138)\n",
       " (5, 35529733)\n",
       " (5, 35480468)\n",
       " (5, 35656344)\n",
       " (5, 35712310)\n",
       " (5, 35713629)"
      ]
     },
     "execution_count": 30,
     "metadata": {},
     "output_type": "execute_result"
    }
   ],
   "source": [
    "\n",
    "qtl_data = @chain qtl_data begin\n",
    "    modify(:pval_out => x -> exp10.(x))\n",
    "    filter([:chr, :pos, :pval_out], type = in_window)\n",
    "    filter(:a_effect_out, type = x -> length(x) == 1)\n",
    "    filter(:a_other_out, type = x -> length(x) == 1)\n",
    "    sort(:pval_out)\n",
    "end\n",
    "\n",
    "\n",
    "chr_pos = collect(zip(qtl_data.chr, qtl_data.pos))"
   ]
  },
  {
   "cell_type": "code",
   "execution_count": 13,
   "metadata": {},
   "outputs": [
    {
     "data": {
      "text/plain": [
       "([1.0 0.9563998283455755 … 0.21129976679088458 0.21088932613679365; 0.9563998283455755 1.0 … 0.2173458237443698 0.21693374231808954; … ; 0.21129976679088458 0.2173458237443698 … 1.0 0.9954037096884791; 0.21088932613679365 0.21693374231808954 … 0.9954037096884791 1.0], Bool[0, 1, 1, 0, 1, 1, 1, 1, 1, 0  …  1, 1, 0, 1, 1, 1, 1, 1, 1, 1])"
      ]
     },
     "execution_count": 13,
     "metadata": {},
     "output_type": "execute_result"
    }
   ],
   "source": [
    "R2_mat, found_v_b = getLDmat(GenotypesArr[5], chr_pos)"
   ]
  },
  {
   "cell_type": "code",
   "execution_count": 44,
   "metadata": {},
   "outputs": [
    {
     "data": {
      "text/plain": [
       "994-element Vector{Bool}:\n",
       " 1\n",
       " 0\n",
       " 0\n",
       " 0\n",
       " 0\n",
       " 0\n",
       " 0\n",
       " 0\n",
       " 0\n",
       " 0\n",
       " 0\n",
       " 0\n",
       " 0\n",
       " ⋮\n",
       " 0\n",
       " 0\n",
       " 0\n",
       " 0\n",
       " 0\n",
       " 0\n",
       " 0\n",
       " 0\n",
       " 0\n",
       " 0\n",
       " 0\n",
       " 0"
      ]
     },
     "execution_count": 44,
     "metadata": {},
     "output_type": "execute_result"
    }
   ],
   "source": [
    "kept_v_b = clump(GenotypesArr[5], chr_pos, 0.01)"
   ]
  },
  {
   "cell_type": "code",
   "execution_count": 45,
   "metadata": {},
   "outputs": [
    {
     "data": {
      "text/plain": [
       "7"
      ]
     },
     "execution_count": 45,
     "metadata": {},
     "output_type": "execute_result"
    }
   ],
   "source": [
    "sum(kept_v_b)"
   ]
  },
  {
   "cell_type": "code",
   "execution_count": 33,
   "metadata": {},
   "outputs": [
    {
     "data": {
      "text/plain": [
       "21-element Vector{Union{Missing, Float64}}:\n",
       " 1.2882495516931322e-32\n",
       " 1.6595869074375597e-8\n",
       " 2.570395782768865e-7\n",
       " 8.317637711026709e-7\n",
       " 1.479108388168207e-6\n",
       " 3.0199517204020193e-6\n",
       " 1.0232929922807536e-5\n",
       " 2.238721138568338e-5\n",
       " 3.235936569296281e-5\n",
       " 3.715352290971728e-5\n",
       " 4.3651583224016566e-5\n",
       " 8.317637711026709e-5\n",
       " 9.332543007969905e-5\n",
       " 0.0005128613839913648\n",
       " 0.0005248074602497728\n",
       " 0.001202264434617413\n",
       " 0.001584893192461114\n",
       " 0.0026302679918953813\n",
       " 0.003090295432513592\n",
       " 0.0038018939632056127\n",
       " 0.004073802778041126"
      ]
     },
     "execution_count": 33,
     "metadata": {},
     "output_type": "execute_result"
    }
   ],
   "source": [
    "qtl_data[kept_v_b, :].pval_out"
   ]
  },
  {
   "cell_type": "code",
   "execution_count": 46,
   "metadata": {},
   "outputs": [
    {
     "data": {
      "text/html": [
       "<table class=\"data-set\"><thead><tr><th></th><th>id_</th><th>chr</th><th>pos</th><th>a_effect_out</th><th>a_other_out</th><th>β_out</th><th>se_out</th></tr><tr><th></th><th>identity</th><th>identity</th><th>identity</th><th>identity</th><th>identity</th><th>identity</th><th>identity</th></tr><tr><th></th><th title=\"Union{Missing, String}\">String?</th><th title=\"Union{Missing, Int8}\">Int8?</th><th title=\"Union{Missing, Int32}\">Int32?</th><th title=\"Union{Missing, String}\">String?</th><th title=\"Union{Missing, String}\">String?</th><th title=\"Union{Missing, Float64}\">Float64?</th><th title=\"Union{Missing, Float64}\">Float64?</th></tr></thead><tbody><p>7 rows × 8 columns (omitted printing of 1 columns)</p><tr><th>1</th><td>5_35866218_232320</td><td>5</td><td>35866218</td><td>a</td><td>g</td><td>-0.2941</td><td>0.0247</td></tr><tr><th>2</th><td>5_35455201_229867</td><td>5</td><td>35455201</td><td>a</td><td>g</td><td>0.1286</td><td>0.0327</td></tr><tr><th>3</th><td>5_35999069_233108</td><td>5</td><td>35999069</td><td>t</td><td>g</td><td>-0.5618</td><td>0.1438</td></tr><tr><th>4</th><td>5_35562333_230448</td><td>5</td><td>35562333</td><td>t</td><td>c</td><td>-0.3956</td><td>0.114</td></tr><tr><th>5</th><td>5_35622908_230828</td><td>5</td><td>35622908</td><td>t</td><td>c</td><td>-0.1714</td><td>0.0512</td></tr><tr><th>6</th><td>5_36199172_234066</td><td>5</td><td>36199172</td><td>a</td><td>g</td><td>-0.177</td><td>0.056</td></tr><tr><th>7</th><td>5_35462826_229920</td><td>5</td><td>35462826</td><td>t</td><td>g</td><td>0.522</td><td>0.1769</td></tr></tbody></table>"
      ],
      "text/latex": [
       "\\begin{tabular}{r|cccccccc}\n",
       "\t& id\\_ & chr & pos & a\\_effect\\_out & a\\_other\\_out & β\\_out & se\\_out & \\\\\n",
       "\t\\hline\n",
       "\t& identity & identity & identity & identity & identity & identity & identity & \\\\\n",
       "\t\\hline\n",
       "\t& String? & Int8? & Int32? & String? & String? & Float64? & Float64? & \\\\\n",
       "\t\\hline\n",
       "\t1 & 5\\_35866218\\_232320 & 5 & 35866218 & a & g & -0.2941 & 0.0247 & $\\dots$ \\\\\n",
       "\t2 & 5\\_35455201\\_229867 & 5 & 35455201 & a & g & 0.1286 & 0.0327 & $\\dots$ \\\\\n",
       "\t3 & 5\\_35999069\\_233108 & 5 & 35999069 & t & g & -0.5618 & 0.1438 & $\\dots$ \\\\\n",
       "\t4 & 5\\_35562333\\_230448 & 5 & 35562333 & t & c & -0.3956 & 0.114 & $\\dots$ \\\\\n",
       "\t5 & 5\\_35622908\\_230828 & 5 & 35622908 & t & c & -0.1714 & 0.0512 & $\\dots$ \\\\\n",
       "\t6 & 5\\_36199172\\_234066 & 5 & 36199172 & a & g & -0.177 & 0.056 & $\\dots$ \\\\\n",
       "\t7 & 5\\_35462826\\_229920 & 5 & 35462826 & t & g & 0.522 & 0.1769 & $\\dots$ \\\\\n",
       "\\end{tabular}\n"
      ],
      "text/plain": [
       "\u001b[1m7×8 Dataset\u001b[0m\n",
       "\u001b[1m Row \u001b[0m│\u001b[1m id_               \u001b[0m\u001b[1m chr      \u001b[0m\u001b[1m pos      \u001b[0m\u001b[1m a_effect_out \u001b[0m\u001b[1m a_other_out \u001b[0m\u001b[1m β_out\u001b[0m ⋯\n",
       "     │\u001b[90m identity          \u001b[0m\u001b[90m identity \u001b[0m\u001b[90m identity \u001b[0m\u001b[90m identity     \u001b[0m\u001b[90m identity    \u001b[0m\u001b[90m ident\u001b[0m ⋯\n",
       "     │\u001b[90m String?           \u001b[0m\u001b[90m Int8?    \u001b[0m\u001b[90m Int32?   \u001b[0m\u001b[90m String?      \u001b[0m\u001b[90m String?     \u001b[0m\u001b[90m Float\u001b[0m ⋯\n",
       "─────┼──────────────────────────────────────────────────────────────────────────\n",
       "   1 │ 5_35866218_232320         5  35866218  a             g             -0.2 ⋯\n",
       "   2 │ 5_35455201_229867         5  35455201  a             g              0.1\n",
       "   3 │ 5_35999069_233108         5  35999069  t             g             -0.5\n",
       "   4 │ 5_35562333_230448         5  35562333  t             c             -0.3\n",
       "   5 │ 5_35622908_230828         5  35622908  t             c             -0.1 ⋯\n",
       "   6 │ 5_36199172_234066         5  36199172  a             g             -0.1\n",
       "   7 │ 5_35462826_229920         5  35462826  t             g              0.5\n",
       "\u001b[36m                                                               3 columns omitted\u001b[0m"
      ]
     },
     "execution_count": 46,
     "metadata": {},
     "output_type": "execute_result"
    }
   ],
   "source": [
    "qtl_data[kept_v_b, :]"
   ]
  },
  {
   "cell_type": "code",
   "execution_count": 35,
   "metadata": {},
   "outputs": [
    {
     "data": {
      "text/plain": [
       "([1.0 0.09282100194408917 … 0.010228097133089581 0.015886371598955014; 0.09282100194408917 1.0 … 0.011172882027492809 0.00018006640010854316; … ; 0.010228097133089581 0.011172882027492809 … 1.0 0.0008856918125756873; 0.015886371598955014 0.00018006640010854316 … 0.0008856918125756873 1.0], Bool[1, 1, 1, 1, 1, 1, 1, 1, 1, 1  …  1, 1, 1, 1, 1, 1, 1, 1, 1, 1])"
      ]
     },
     "execution_count": 35,
     "metadata": {},
     "output_type": "execute_result"
    }
   ],
   "source": [
    "R2_mat, found = getLDmat(GenotypesArr[5], chr_pos[kept_v_b])"
   ]
  },
  {
   "cell_type": "code",
   "execution_count": 36,
   "metadata": {},
   "outputs": [
    {
     "data": {
      "text/plain": [
       "21×21 Matrix{Float64}:\n",
       "   1.0            0.092821       0.0997207    …    0.0102281      0.0158864\n",
       "   0.092821       1.0            0.00474854        0.0111729      0.000180066\n",
       "   0.0997207      0.00474854     1.0               0.000760215    0.019035\n",
       "   0.0899054      0.0474889      0.0137945         0.0015931      0.00131132\n",
       "   0.0724797      0.0196626      0.0198181         0.00283715     0.000257418\n",
       "   0.069828       0.00985312     0.0974703    …    3.15738e-6     0.00750283\n",
       "   0.0295071      0.0130831      0.0290402         0.00136529     0.00162989\n",
       "   0.0536659      0.00564676     0.0294596         0.000380563    0.000271872\n",
       "   0.0807459      0.047652       0.00233034        0.00203686     0.000356443\n",
       "   0.0694356      0.0777763      0.0102663         0.00436363     0.00128687\n",
       "   0.0695331      0.0340061      0.0204296    …    0.0030449      2.93375e-5\n",
       "   0.000416501    0.0174203      0.0629342         0.00349991     0.00103215\n",
       "   0.00867779     0.0240329      0.00813876        0.000773418    0.000228087\n",
       "   0.021434       0.00601829     0.0253713         2.35574e-5     1.22651e-5\n",
       "   0.00240663     0.00394273     0.0192025         0.0425335      0.000327822\n",
       "   0.0880323      0.0348794      0.0145774    …    0.000319152    0.000579962\n",
       " NaN            NaN            NaN               NaN            NaN\n",
       "   0.0570203      0.0050999      0.0545468         0.000457579    0.00193883\n",
       "   0.0160209      0.0170311      0.00159508        0.000701814    0.000655033\n",
       "   0.0102281      0.0111729      0.000760215       1.0            0.000885692\n",
       "   0.0158864      0.000180066    0.019035     …    0.000885692    1.0"
      ]
     },
     "execution_count": 36,
     "metadata": {},
     "output_type": "execute_result"
    }
   ],
   "source": [
    "R2_mat"
   ]
  },
  {
   "cell_type": "code",
   "execution_count": 40,
   "metadata": {},
   "outputs": [
    {
     "data": {
      "text/plain": [
       "994-element Vector{String}:\n",
       " \"5:35866218\"\n",
       " \"5:35883757\"\n",
       " \"5:35883251\"\n",
       " \"5:35883176\"\n",
       " \"5:35883804\"\n",
       " \"5:35812414\"\n",
       " \"5:35827665\"\n",
       " \"5:35814105\"\n",
       " \"5:35811768\"\n",
       " \"5:35827646\"\n",
       " \"5:35811973\"\n",
       " \"5:35810268\"\n",
       " \"5:35807455\"\n",
       " ⋮\n",
       " \"5:35850278\"\n",
       " \"5:35876251\"\n",
       " \"5:35474284\"\n",
       " \"5:35497748\"\n",
       " \"5:35478774\"\n",
       " \"5:35696508\"\n",
       " \"5:35712138\"\n",
       " \"5:35529733\"\n",
       " \"5:35480468\"\n",
       " \"5:35656344\"\n",
       " \"5:35712310\"\n",
       " \"5:35713629\""
      ]
     },
     "execution_count": 40,
     "metadata": {},
     "output_type": "execute_result"
    }
   ],
   "source": [
    "v = string.(qtl_data.chr) .*\":\".* string.(qtl_data.pos) "
   ]
  },
  {
   "cell_type": "code",
   "execution_count": 41,
   "metadata": {},
   "outputs": [],
   "source": [
    "using DelimitedFiles\n",
    "\n",
    "writedlm(\"/mnt/r6_data2/Samuel/ivs.txt\", v)"
   ]
  },
  {
   "cell_type": "code",
   "execution_count": 43,
   "metadata": {},
   "outputs": [
    {
     "data": {
      "text/plain": [
       "21-element Vector{Tuple{Any, Any}}:\n",
       " (5, 35866218)\n",
       " (5, 35971187)\n",
       " (5, 35621200)\n",
       " (5, 35945644)\n",
       " (5, 35963507)\n",
       " (5, 35776239)\n",
       " (5, 35761376)\n",
       " (5, 35753924)\n",
       " (5, 35838799)\n",
       " (5, 35833202)\n",
       " (5, 35995504)\n",
       " (5, 35455201)\n",
       " (5, 35999069)\n",
       " (5, 35573621)\n",
       " (5, 35562333)\n",
       " (5, 36051838)\n",
       " (5, 36199172)\n",
       " (5, 35770132)\n",
       " (5, 36090471)\n",
       " (5, 36072024)\n",
       " (5, 35743409)"
      ]
     },
     "execution_count": 43,
     "metadata": {},
     "output_type": "execute_result"
    }
   ],
   "source": [
    "chr_pos[kept_v_b]"
   ]
  }
 ],
 "metadata": {
  "kernelspec": {
   "display_name": "Julia 12 Threads 1.8.5",
   "language": "julia",
   "name": "julia-12-threads-1.8"
  },
  "language_info": {
   "file_extension": ".jl",
   "mimetype": "application/julia",
   "name": "julia",
   "version": "1.8.5"
  },
  "orig_nbformat": 4
 },
 "nbformat": 4,
 "nbformat_minor": 2
}
