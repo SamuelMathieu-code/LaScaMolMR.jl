{
 "cells": [
  {
   "attachments": {},
   "cell_type": "markdown",
   "metadata": {},
   "source": [
    "## Reading large QTl files based off QTLStudy structure"
   ]
  },
  {
   "cell_type": "code",
   "execution_count": 1,
   "metadata": {},
   "outputs": [
    {
     "data": {
      "text/plain": [
       "mrStudyCis"
      ]
     },
     "execution_count": 1,
     "metadata": {},
     "output_type": "execute_result"
    }
   ],
   "source": [
    "using DLMReader\n",
    "using Chain\n",
    "using InMemoryDatasets\n",
    "import Base.Threads.@threads\n",
    "using StatsBase\n",
    "\n",
    "export QTLStudy, GWAS, QTLStudy_from_pattern, GenVarInfo\n",
    "include(\"../src/inputs.jl\")\n",
    "include(\"../src/mrStudyCis.jl\")"
   ]
  },
  {
   "cell_type": "code",
   "execution_count": 2,
   "metadata": {},
   "outputs": [
    {
     "name": "stderr",
     "output_type": "stream",
     "text": [
      "\u001b[33m\u001b[1m┌ \u001b[22m\u001b[39m\u001b[33m\u001b[1mWarning: \u001b[22m\u001b[39mThere are problems with parsing the input file at line 723 (observation 723) : \n",
      "\u001b[33m\u001b[1m│ \u001b[22m\u001b[39mColumn 2 : chr::Int64 : Read from buffer (\"Y\")\n",
      "\u001b[33m\u001b[1m│ \u001b[22m\u001b[39m the values are set as missing.\n",
      "\u001b[33m\u001b[1m│ \u001b[22m\u001b[39mMORE DETAILS: \n",
      "\u001b[33m\u001b[1m│ \u001b[22m\u001b[39mtrait::String = CDY1.7097.8, chr::Int64 = missing, tss::Int64 = 25622162\n",
      "\u001b[33m\u001b[1m│ \u001b[22m\u001b[39mCDY1.7097.8_Y_25622162\n",
      "\u001b[33m\u001b[1m└ \u001b[22m\u001b[39m\u001b[90m@ DLMReader ~/.julia/packages/DLMReader/N5BLJ/src/util.jl:952\u001b[39m\n",
      "\u001b[33m\u001b[1m┌ \u001b[22m\u001b[39m\u001b[33m\u001b[1mWarning: \u001b[22m\u001b[39mThere are problems with parsing the input file at line 1295 (observation 1295) : \n",
      "\u001b[33m\u001b[1m│ \u001b[22m\u001b[39mColumn 2 : chr::Int64 : Read from buffer (\"Y\")\n",
      "\u001b[33m\u001b[1m│ \u001b[22m\u001b[39m the values are set as missing.\n",
      "\u001b[33m\u001b[1m│ \u001b[22m\u001b[39mMORE DETAILS: \n",
      "\u001b[33m\u001b[1m│ \u001b[22m\u001b[39mtrait::String = EIF1AY.19224.5, chr::Int64 = missing, tss::Int64 = 20575776\n",
      "\u001b[33m\u001b[1m│ \u001b[22m\u001b[39mEIF1AY.19224.5_Y_20575776\n",
      "\u001b[33m\u001b[1m└ \u001b[22m\u001b[39m\u001b[90m@ DLMReader ~/.julia/packages/DLMReader/N5BLJ/src/util.jl:952\u001b[39m\n"
     ]
    },
    {
     "data": {
      "text/plain": [
       "4483-element Vector{String}:\n",
       " \"/home/matpa01/CrickData_matpa01\" ⋯ 34 bytes ⋯ \"/A1BG.16561.9_chromosome_19.tsv\"\n",
       " \"/home/matpa01/CrickData_matpa01\" ⋯ 36 bytes ⋯ \"A1CF.12423.38_chromosome_10.tsv\"\n",
       " \"/home/matpa01/CrickData_matpa01\" ⋯ 32 bytes ⋯ \"2/A2M.3708.62_chromosome_12.tsv\"\n",
       " \"/home/matpa01/CrickData_matpa01\" ⋯ 38 bytes ⋯ \"2ML1.15482.12_chromosome_12.tsv\"\n",
       " \"/home/matpa01/CrickData_matpa01\" ⋯ 38 bytes ⋯ \"4GALT.8759.29_chromosome_22.tsv\"\n",
       " \"/home/matpa01/CrickData_matpa01\" ⋯ 37 bytes ⋯ \"A4GNT.10835.25_chromosome_3.tsv\"\n",
       " \"/home/matpa01/CrickData_matpa01\" ⋯ 38 bytes ⋯ \"AGAB.11926.23_chromosome_15.tsv\"\n",
       " \"/home/matpa01/CrickData_matpa01\" ⋯ 44 bytes ⋯ \"HPPT.17320.19_chromosome_11.tsv\"\n",
       " \"/home/matpa01/CrickData_matpa01\" ⋯ 36 bytes ⋯ \"ABCC6.8935.22_chromosome_16.tsv\"\n",
       " \"/home/matpa01/CrickData_matpa01\" ⋯ 41 bytes ⋯ \"HD10.17370.186_chromosome_3.tsv\"\n",
       " \"/home/matpa01/CrickData_matpa01\" ⋯ 36 bytes ⋯ \"ABHD12.7825.7_chromosome_20.tsv\"\n",
       " \"/home/matpa01/CrickData_matpa01\" ⋯ 41 bytes ⋯ \"HD14B.19325.21_chromosome_3.tsv\"\n",
       " \"/home/matpa01/CrickData_matpa01\" ⋯ 33 bytes ⋯ \"3/ABL1.3341.33_chromosome_9.tsv\"\n",
       " ⋮\n",
       " \"/home/matpa01/CrickData_matpa01\" ⋯ 38 bytes ⋯ \"NF566.12795.2_chromosome_19.tsv\"\n",
       " \"/home/matpa01/CrickData_matpa01\" ⋯ 40 bytes ⋯ \"F774.12760.34_chromosome_15.tsv\"\n",
       " \"/home/matpa01/CrickData_matpa01\" ⋯ 38 bytes ⋯ \"NF843.8321.27_chromosome_16.tsv\"\n",
       " \"/home/matpa01/CrickData_matpa01\" ⋯ 38 bytes ⋯ \"NRF3.10390.21_chromosome_22.tsv\"\n",
       " \"/home/matpa01/CrickData_matpa01\" ⋯ 40 bytes ⋯ \"RF3.14122.132_chromosome_22.tsv\"\n",
       " \"/home/matpa01/CrickData_matpa01\" ⋯ 31 bytes ⋯ \"25/ZP4.7766.25_chromosome_1.tsv\"\n",
       " \"/home/matpa01/CrickData_matpa01\" ⋯ 35 bytes ⋯ \"/ZPBP.8635.283_chromosome_7.tsv\"\n",
       " \"/home/matpa01/CrickData_matpa01\" ⋯ 38 bytes ⋯ \"PBP2.10710.23_chromosome_17.tsv\"\n",
       " \"/home/matpa01/CrickData_matpa01\" ⋯ 35 bytes ⋯ \"/ZPLD1.5590.11_chromosome_3.tsv\"\n",
       " \"/home/matpa01/CrickData_matpa01\" ⋯ 42 bytes ⋯ \"LCH.18302.204_chromosome_15.tsv\"\n",
       " \"/home/matpa01/CrickData_matpa01\" ⋯ 36 bytes ⋯ \"ZWINT.18286.3_chromosome_10.tsv\"\n",
       " \"/home/matpa01/CrickData_matpa01\" ⋯ 33 bytes ⋯ \"0/ZYX.13632.10_chromosome_7.tsv\""
      ]
     },
     "metadata": {},
     "output_type": "display_data"
    },
    {
     "data": {
      "text/plain": [
       "4483-element Vector{Any}:\n",
       " \"A1BG.16561.9\"\n",
       " \"A1CF.12423.38\"\n",
       " \"A2M.3708.62\"\n",
       " \"A2ML1.15482.12\"\n",
       " \"A4GALT.8759.29\"\n",
       " \"A4GNT.10835.25\"\n",
       " \"AAGAB.11926.23\"\n",
       " \"AASDHPPT.17320.19\"\n",
       " \"ABCC6.8935.22\"\n",
       " \"ABHD10.17370.186\"\n",
       " \"ABHD12.7825.7\"\n",
       " \"ABHD14B.19325.21\"\n",
       " \"ABL1.3341.33\"\n",
       " ⋮\n",
       " \"ZNF566.12795.2\"\n",
       " \"ZNF774.12760.34\"\n",
       " \"ZNF843.8321.27\"\n",
       " \"ZNRF3.10390.21\"\n",
       " \"ZNRF3.14122.132\"\n",
       " \"ZP4.7766.25\"\n",
       " \"ZPBP.8635.283\"\n",
       " \"ZPBP2.10710.23\"\n",
       " \"ZPLD1.5590.11\"\n",
       " \"ZWILCH.18302.204\"\n",
       " \"ZWINT.18286.3\"\n",
       " \"ZYX.13632.10\""
      ]
     },
     "metadata": {},
     "output_type": "display_data"
    }
   ],
   "source": [
    "GWAS_file_path = \"/mnt/r6_data/GWAS_MRsuite_hg38/input_MRsuite_BMI_Yengo_hg38\"\n",
    "QTL_prots_path = \"/home/matpa01/CrickData_matpa01/Decode_mapping_suite\"\n",
    "QTL_prots_tss_file = \"/mnt/r6_data/Patrick/Input_Decode/decode_list_hg38\"\n",
    "\n",
    "tss_df = filereader(QTL_prots_tss_file, delimiter = '_', header=[:trait, :chr, :tss], eolwarn = false)\n",
    "\n",
    "dropmissing!(tss_df)\n",
    "\n",
    "Decode_pat = [TRAIT_NAME, \"/\", TRAIT_NAME, \"_chromosome_\", CHR, \".tsv\"]\n",
    "Decode_columns = Dict(1 => \"id\", 2 => CHR, 3 => POS, 4 => A_EFFECT, 5 => A_OTHER, 6 => BETA, 7 => SE, 8 => PVAL)\n",
    "sep = '\\t'\n",
    "\n",
    "Decode = QTLStudy_from_pattern(QTL_prots_path,Decode_pat, tss_df.trait, tss_df.chr, tss_df.tss, Decode_columns, sep, true)\n",
    "\n",
    "display(Decode.path_v)\n",
    "display(Decode.traits_for_each_path)"
   ]
  },
  {
   "attachments": {},
   "cell_type": "markdown",
   "metadata": {},
   "source": [
    "Read each file : keep only relevant cols and smoosh it all together"
   ]
  },
  {
   "cell_type": "code",
   "execution_count": 28,
   "metadata": {},
   "outputs": [
    {
     "data": {
      "text/plain": [
       "GWAS(\"/home/matpa01/CrickData_matpa01/Decode_mapping_suite/A1BG.16561.9/A1BG.16561.9_chromosome_19.tsv\", Dict{Int64, GenVarInfo}(5 => A_OTHER, 4 => A_EFFECT, 6 => BETA, 7 => SE, 2 => CHR, 8 => PVAL, 3 => POS), '\\t', \"A1BG.16561.9\")"
      ]
     },
     "execution_count": 28,
     "metadata": {},
     "output_type": "execute_result"
    }
   ],
   "source": [
    "Decode[1]"
   ]
  },
  {
   "cell_type": "code",
   "execution_count": 34,
   "metadata": {},
   "outputs": [
    {
     "data": {
      "text/plain": [
       "-1"
      ]
     },
     "execution_count": 34,
     "metadata": {},
     "output_type": "execute_result"
    }
   ],
   "source": [
    "verify_and_simplify_columns(Decode)"
   ]
  },
  {
   "cell_type": "code",
   "execution_count": 35,
   "metadata": {},
   "outputs": [
    {
     "data": {
      "text/plain": [
       "Dict{Int64, GenVarInfo} with 7 entries:\n",
       "  5 => A_OTHER\n",
       "  4 => A_EFFECT\n",
       "  6 => BETA\n",
       "  7 => SE\n",
       "  2 => CHR\n",
       "  8 => PVAL\n",
       "  3 => POS"
      ]
     },
     "execution_count": 35,
     "metadata": {},
     "output_type": "execute_result"
    }
   ],
   "source": [
    "Decode.columns"
   ]
  },
  {
   "cell_type": "code",
   "execution_count": 36,
   "metadata": {},
   "outputs": [
    {
     "name": "stdout",
     "output_type": "stream",
     "text": [
      "n_cols_file = 8\n"
     ]
    },
    {
     "data": {
      "text/plain": [
       "(Dict{Int64, DataType}(5 => String, 4 => String, 6 => Float64, 7 => Float64, 2 => Int8, 8 => Float64, 3 => Int32, 1 => String), [:x, :chr, :pos, :a_effect, :a_other, :β, :se, :pval])"
      ]
     },
     "execution_count": 36,
     "metadata": {},
     "output_type": "execute_result"
    }
   ],
   "source": [
    "types, header = make_types_and_headers(Decode)"
   ]
  },
  {
   "cell_type": "code",
   "execution_count": 37,
   "metadata": {},
   "outputs": [
    {
     "data": {
      "text/plain": [
       "Dict{Int64, DataType} with 8 entries:\n",
       "  5 => String\n",
       "  4 => String\n",
       "  6 => Float64\n",
       "  7 => Float64\n",
       "  2 => Int8\n",
       "  8 => Float64\n",
       "  3 => Int32\n",
       "  1 => String"
      ]
     },
     "execution_count": 37,
     "metadata": {},
     "output_type": "execute_result"
    }
   ],
   "source": [
    "types"
   ]
  },
  {
   "cell_type": "code",
   "execution_count": 38,
   "metadata": {},
   "outputs": [
    {
     "data": {
      "text/plain": [
       "8-element Vector{Symbol}:\n",
       " :x\n",
       " :chr\n",
       " :pos\n",
       " :a_effect\n",
       " :a_other\n",
       " :β\n",
       " :se\n",
       " :pval"
      ]
     },
     "execution_count": 38,
     "metadata": {},
     "output_type": "execute_result"
    }
   ],
   "source": [
    "header"
   ]
  },
  {
   "cell_type": "code",
   "execution_count": 3,
   "metadata": {},
   "outputs": [],
   "source": [
    "df = mrStudyCis(Decode, Decode[1])"
   ]
  }
 ],
 "metadata": {
  "kernelspec": {
   "display_name": "Julia 160 Threads 1.8.5",
   "language": "julia",
   "name": "julia-160-threads-1.8"
  },
  "language_info": {
   "file_extension": ".jl",
   "mimetype": "application/julia",
   "name": "julia",
   "version": "1.8.5"
  },
  "orig_nbformat": 4
 },
 "nbformat": 4,
 "nbformat_minor": 2
}
