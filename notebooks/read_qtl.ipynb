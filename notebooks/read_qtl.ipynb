{
 "cells": [
  {
   "attachments": {},
   "cell_type": "markdown",
   "metadata": {},
   "source": [
    "## Reading large QTl files based off QTLStudy structure"
   ]
  },
  {
   "cell_type": "code",
   "execution_count": 7,
   "metadata": {},
   "outputs": [],
   "source": [
    "using DLMReader\n",
    "using Chain\n",
    "using InMemoryDatasets\n",
    "import Base.Threads.@threads\n",
    "using StatsBase\n",
    "\n",
    "export QTLStudy, GWAS, QTLStudy_from_pattern, GenVarInfo\n",
    "include(\"../src/inputs.jl\")"
   ]
  },
  {
   "cell_type": "code",
   "execution_count": 3,
   "metadata": {},
   "outputs": [
    {
     "name": "stderr",
     "output_type": "stream",
     "text": [
      "\u001b[33m\u001b[1m┌ \u001b[22m\u001b[39m\u001b[33m\u001b[1mWarning: \u001b[22m\u001b[39mThere are problems with parsing the input file at line 723 (observation 723) : \n",
      "\u001b[33m\u001b[1m│ \u001b[22m\u001b[39mColumn 2 : chr::Int64 : Read from buffer (\"Y\")\n",
      "\u001b[33m\u001b[1m│ \u001b[22m\u001b[39m the values are set as missing.\n",
      "\u001b[33m\u001b[1m│ \u001b[22m\u001b[39mMORE DETAILS: \n",
      "\u001b[33m\u001b[1m│ \u001b[22m\u001b[39mtrait::String = CDY1.7097.8, chr::Int64 = missing, tss::Int64 = 25622162\n",
      "\u001b[33m\u001b[1m│ \u001b[22m\u001b[39mCDY1.7097.8_Y_25622162\n",
      "\u001b[33m\u001b[1m└ \u001b[22m\u001b[39m\u001b[90m@ DLMReader ~/.julia/packages/DLMReader/N5BLJ/src/util.jl:952\u001b[39m\n",
      "\u001b[33m\u001b[1m┌ \u001b[22m\u001b[39m\u001b[33m\u001b[1mWarning: \u001b[22m\u001b[39mThere are problems with parsing the input file at line 1295 (observation 1295) : \n",
      "\u001b[33m\u001b[1m│ \u001b[22m\u001b[39mColumn 2 : chr::Int64 : Read from buffer (\"Y\")\n",
      "\u001b[33m\u001b[1m│ \u001b[22m\u001b[39m the values are set as missing.\n",
      "\u001b[33m\u001b[1m│ \u001b[22m\u001b[39mMORE DETAILS: \n",
      "\u001b[33m\u001b[1m│ \u001b[22m\u001b[39mtrait::String = EIF1AY.19224.5, chr::Int64 = missing, tss::Int64 = 20575776\n",
      "\u001b[33m\u001b[1m│ \u001b[22m\u001b[39mEIF1AY.19224.5_Y_20575776\n",
      "\u001b[33m\u001b[1m└ \u001b[22m\u001b[39m\u001b[90m@ DLMReader ~/.julia/packages/DLMReader/N5BLJ/src/util.jl:952\u001b[39m\n"
     ]
    },
    {
     "data": {
      "text/plain": [
       "4483-element Vector{String}:\n",
       " \"/home/matpa01/CrickData_matpa01\" ⋯ 34 bytes ⋯ \"/A1BG.16561.9_chromosome_19.tsv\"\n",
       " \"/home/matpa01/CrickData_matpa01\" ⋯ 36 bytes ⋯ \"A1CF.12423.38_chromosome_10.tsv\"\n",
       " \"/home/matpa01/CrickData_matpa01\" ⋯ 32 bytes ⋯ \"2/A2M.3708.62_chromosome_12.tsv\"\n",
       " \"/home/matpa01/CrickData_matpa01\" ⋯ 38 bytes ⋯ \"2ML1.15482.12_chromosome_12.tsv\"\n",
       " \"/home/matpa01/CrickData_matpa01\" ⋯ 38 bytes ⋯ \"4GALT.8759.29_chromosome_22.tsv\"\n",
       " \"/home/matpa01/CrickData_matpa01\" ⋯ 37 bytes ⋯ \"A4GNT.10835.25_chromosome_3.tsv\"\n",
       " \"/home/matpa01/CrickData_matpa01\" ⋯ 38 bytes ⋯ \"AGAB.11926.23_chromosome_15.tsv\"\n",
       " \"/home/matpa01/CrickData_matpa01\" ⋯ 44 bytes ⋯ \"HPPT.17320.19_chromosome_11.tsv\"\n",
       " \"/home/matpa01/CrickData_matpa01\" ⋯ 36 bytes ⋯ \"ABCC6.8935.22_chromosome_16.tsv\"\n",
       " \"/home/matpa01/CrickData_matpa01\" ⋯ 41 bytes ⋯ \"HD10.17370.186_chromosome_3.tsv\"\n",
       " \"/home/matpa01/CrickData_matpa01\" ⋯ 36 bytes ⋯ \"ABHD12.7825.7_chromosome_20.tsv\"\n",
       " \"/home/matpa01/CrickData_matpa01\" ⋯ 41 bytes ⋯ \"HD14B.19325.21_chromosome_3.tsv\"\n",
       " \"/home/matpa01/CrickData_matpa01\" ⋯ 33 bytes ⋯ \"3/ABL1.3341.33_chromosome_9.tsv\"\n",
       " ⋮\n",
       " \"/home/matpa01/CrickData_matpa01\" ⋯ 38 bytes ⋯ \"NF566.12795.2_chromosome_19.tsv\"\n",
       " \"/home/matpa01/CrickData_matpa01\" ⋯ 40 bytes ⋯ \"F774.12760.34_chromosome_15.tsv\"\n",
       " \"/home/matpa01/CrickData_matpa01\" ⋯ 38 bytes ⋯ \"NF843.8321.27_chromosome_16.tsv\"\n",
       " \"/home/matpa01/CrickData_matpa01\" ⋯ 38 bytes ⋯ \"NRF3.10390.21_chromosome_22.tsv\"\n",
       " \"/home/matpa01/CrickData_matpa01\" ⋯ 40 bytes ⋯ \"RF3.14122.132_chromosome_22.tsv\"\n",
       " \"/home/matpa01/CrickData_matpa01\" ⋯ 31 bytes ⋯ \"25/ZP4.7766.25_chromosome_1.tsv\"\n",
       " \"/home/matpa01/CrickData_matpa01\" ⋯ 35 bytes ⋯ \"/ZPBP.8635.283_chromosome_7.tsv\"\n",
       " \"/home/matpa01/CrickData_matpa01\" ⋯ 38 bytes ⋯ \"PBP2.10710.23_chromosome_17.tsv\"\n",
       " \"/home/matpa01/CrickData_matpa01\" ⋯ 35 bytes ⋯ \"/ZPLD1.5590.11_chromosome_3.tsv\"\n",
       " \"/home/matpa01/CrickData_matpa01\" ⋯ 42 bytes ⋯ \"LCH.18302.204_chromosome_15.tsv\"\n",
       " \"/home/matpa01/CrickData_matpa01\" ⋯ 36 bytes ⋯ \"ZWINT.18286.3_chromosome_10.tsv\"\n",
       " \"/home/matpa01/CrickData_matpa01\" ⋯ 33 bytes ⋯ \"0/ZYX.13632.10_chromosome_7.tsv\""
      ]
     },
     "metadata": {},
     "output_type": "display_data"
    },
    {
     "data": {
      "text/plain": [
       "4483-element Vector{Any}:\n",
       " \"A1BG.16561.9\"\n",
       " \"A1CF.12423.38\"\n",
       " \"A2M.3708.62\"\n",
       " \"A2ML1.15482.12\"\n",
       " \"A4GALT.8759.29\"\n",
       " \"A4GNT.10835.25\"\n",
       " \"AAGAB.11926.23\"\n",
       " \"AASDHPPT.17320.19\"\n",
       " \"ABCC6.8935.22\"\n",
       " \"ABHD10.17370.186\"\n",
       " \"ABHD12.7825.7\"\n",
       " \"ABHD14B.19325.21\"\n",
       " \"ABL1.3341.33\"\n",
       " ⋮\n",
       " \"ZNF566.12795.2\"\n",
       " \"ZNF774.12760.34\"\n",
       " \"ZNF843.8321.27\"\n",
       " \"ZNRF3.10390.21\"\n",
       " \"ZNRF3.14122.132\"\n",
       " \"ZP4.7766.25\"\n",
       " \"ZPBP.8635.283\"\n",
       " \"ZPBP2.10710.23\"\n",
       " \"ZPLD1.5590.11\"\n",
       " \"ZWILCH.18302.204\"\n",
       " \"ZWINT.18286.3\"\n",
       " \"ZYX.13632.10\""
      ]
     },
     "metadata": {},
     "output_type": "display_data"
    }
   ],
   "source": [
    "GWAS_file_path = \"/mnt/r6_data/GWAS_MRsuite_hg38/input_MRsuite_BMI_Yengo_hg38\"\n",
    "QTL_prots_path = \"/home/matpa01/CrickData_matpa01/Decode_mapping_suite\"\n",
    "QTL_prots_tss_file = \"/mnt/r6_data/Patrick/Input_Decode/decode_list_hg38\"\n",
    "\n",
    "tss_df = filereader(QTL_prots_tss_file, delimiter = '_', header=[:trait, :chr, :tss], eolwarn = false)\n",
    "\n",
    "dropmissing!(tss_df)\n",
    "\n",
    "Decode_pat = [TRAIT_NAME, \"/\", TRAIT_NAME, \"_chromosome_\", CHR, \".tsv\"]\n",
    "Decode_columns = Dict(1 => \"id\", 2 => CHR, 3 => POS, 4 => A_EFFECT, 5 => A_OTHER, 6 => BETA, 7 => SE, 8 => PVAL)\n",
    "sep = '\\t'\n",
    "\n",
    "Decode = QTLStudy_from_pattern(QTL_prots_path,Decode_pat, tss_df.trait, tss_df.chr, tss_df.tss, Decode_columns, sep, true)\n",
    "\n",
    "display(Decode.path_v)\n",
    "display(Decode.traits_for_each_path)"
   ]
  },
  {
   "attachments": {},
   "cell_type": "markdown",
   "metadata": {},
   "source": [
    "Read each file : keep only relevant cols and smoosh it all together"
   ]
  },
  {
   "cell_type": "code",
   "execution_count": 9,
   "metadata": {},
   "outputs": [
    {
     "data": {
      "text/plain": [
       "4475-element Vector{GWAS}:\n",
       " GWAS(\"/home/matpa01/CrickData_matpa01/Decode_mapping_suite/AASDHPPT.17320.19/AASDHPPT.17320.19_chromosome_11.tsv\", Dict{Int64, Any}(5 => A_OTHER, 4 => A_EFFECT, 6 => BETA, 7 => SE, 2 => CHR, 8 => PVAL, 3 => POS, 1 => \"id\"), '\\t', \"AASDHPPT.17320.19\")\n",
       " GWAS(\"/home/matpa01/CrickData_matpa01/Decode_mapping_suite/ABCC6.8935.22/ABCC6.8935.22_chromosome_16.tsv\", Dict{Int64, Any}(5 => A_OTHER, 4 => A_EFFECT, 6 => BETA, 7 => SE, 2 => CHR, 8 => PVAL, 3 => POS, 1 => \"id\"), '\\t', \"ABCC6.8935.22\")\n",
       " GWAS(\"/home/matpa01/CrickData_matpa01/Decode_mapping_suite/ABHD10.17370.186/ABHD10.17370.186_chromosome_3.tsv\", Dict{Int64, Any}(5 => A_OTHER, 4 => A_EFFECT, 6 => BETA, 7 => SE, 2 => CHR, 8 => PVAL, 3 => POS, 1 => \"id\"), '\\t', \"ABHD10.17370.186\")\n",
       " GWAS(\"/home/matpa01/CrickData_matpa01/Decode_mapping_suite/ABHD12.7825.7/ABHD12.7825.7_chromosome_20.tsv\", Dict{Int64, Any}(5 => A_OTHER, 4 => A_EFFECT, 6 => BETA, 7 => SE, 2 => CHR, 8 => PVAL, 3 => POS, 1 => \"id\"), '\\t', \"ABHD12.7825.7\")\n",
       " GWAS(\"/home/matpa01/CrickData_matpa01/Decode_mapping_suite/ABHD14B.19325.21/ABHD14B.19325.21_chromosome_3.tsv\", Dict{Int64, Any}(5 => A_OTHER, 4 => A_EFFECT, 6 => BETA, 7 => SE, 2 => CHR, 8 => PVAL, 3 => POS, 1 => \"id\"), '\\t', \"ABHD14B.19325.21\")\n",
       " GWAS(\"/home/matpa01/CrickData_matpa01/Decode_mapping_suite/ABL1.3341.33/ABL1.3341.33_chromosome_9.tsv\", Dict{Int64, Any}(5 => A_OTHER, 4 => A_EFFECT, 6 => BETA, 7 => SE, 2 => CHR, 8 => PVAL, 3 => POS, 1 => \"id\"), '\\t', \"ABL1.3341.33\")\n",
       " GWAS(\"/home/matpa01/CrickData_matpa01/Decode_mapping_suite/ABL2.3342.76/ABL2.3342.76_chromosome_1.tsv\", Dict{Int64, Any}(5 => A_OTHER, 4 => A_EFFECT, 6 => BETA, 7 => SE, 2 => CHR, 8 => PVAL, 3 => POS, 1 => \"id\"), '\\t', \"ABL2.3342.76\")\n",
       " GWAS(\"/home/matpa01/CrickData_matpa01/Decode_mapping_suite/ABL2.5261.13/ABL2.5261.13_chromosome_1.tsv\", Dict{Int64, Any}(5 => A_OTHER, 4 => A_EFFECT, 6 => BETA, 7 => SE, 2 => CHR, 8 => PVAL, 3 => POS, 1 => \"id\"), '\\t', \"ABL2.5261.13\")\n",
       " GWAS(\"/home/matpa01/CrickData_matpa01/Decode_mapping_suite/ABLIM3.13578.98/ABLIM3.13578.98_chromosome_5.tsv\", Dict{Int64, Any}(5 => A_OTHER, 4 => A_EFFECT, 6 => BETA, 7 => SE, 2 => CHR, 8 => PVAL, 3 => POS, 1 => \"id\"), '\\t', \"ABLIM3.13578.98\")\n",
       " GWAS(\"/home/matpa01/CrickData_matpa01/Decode_mapping_suite/ABO.9253.52/ABO.9253.52_chromosome_9.tsv\", Dict{Int64, Any}(5 => A_OTHER, 4 => A_EFFECT, 6 => BETA, 7 => SE, 2 => CHR, 8 => PVAL, 3 => POS, 1 => \"id\"), '\\t', \"ABO.9253.52\")\n",
       " GWAS(\"/home/matpa01/CrickData_matpa01/Decode_mapping_suite/ACAA1.17782.23/ACAA1.17782.23_chromosome_3.tsv\", Dict{Int64, Any}(5 => A_OTHER, 4 => A_EFFECT, 6 => BETA, 7 => SE, 2 => CHR, 8 => PVAL, 3 => POS, 1 => \"id\"), '\\t', \"ACAA1.17782.23\")\n",
       " GWAS(\"/home/matpa01/CrickData_matpa01/Decode_mapping_suite/ACAD8.11406.82/ACAD8.11406.82_chromosome_11.tsv\", Dict{Int64, Any}(5 => A_OTHER, 4 => A_EFFECT, 6 => BETA, 7 => SE, 2 => CHR, 8 => PVAL, 3 => POS, 1 => \"id\"), '\\t', \"ACAD8.11406.82\")\n",
       " GWAS(\"/home/matpa01/CrickData_matpa01/Decode_mapping_suite/ACADL.17857.6/ACADL.17857.6_chromosome_2.tsv\", Dict{Int64, Any}(5 => A_OTHER, 4 => A_EFFECT, 6 => BETA, 7 => SE, 2 => CHR, 8 => PVAL, 3 => POS, 1 => \"id\"), '\\t', \"ACADL.17857.6\")\n",
       " ⋮\n",
       " GWAS(\"/home/matpa01/CrickData_matpa01/Decode_mapping_suite/ZNF560.12543.76/ZNF560.12543.76_chromosome_19.tsv\", Dict{Int64, Any}(5 => A_OTHER, 4 => A_EFFECT, 6 => BETA, 7 => SE, 2 => CHR, 8 => PVAL, 3 => POS, 1 => \"id\"), '\\t', \"ZNF560.12543.76\")\n",
       " GWAS(\"/home/matpa01/CrickData_matpa01/Decode_mapping_suite/ZNF566.12795.2/ZNF566.12795.2_chromosome_19.tsv\", Dict{Int64, Any}(5 => A_OTHER, 4 => A_EFFECT, 6 => BETA, 7 => SE, 2 => CHR, 8 => PVAL, 3 => POS, 1 => \"id\"), '\\t', \"ZNF566.12795.2\")\n",
       " GWAS(\"/home/matpa01/CrickData_matpa01/Decode_mapping_suite/ZNF774.12760.34/ZNF774.12760.34_chromosome_15.tsv\", Dict{Int64, Any}(5 => A_OTHER, 4 => A_EFFECT, 6 => BETA, 7 => SE, 2 => CHR, 8 => PVAL, 3 => POS, 1 => \"id\"), '\\t', \"ZNF774.12760.34\")\n",
       " GWAS(\"/home/matpa01/CrickData_matpa01/Decode_mapping_suite/ZNF843.8321.27/ZNF843.8321.27_chromosome_16.tsv\", Dict{Int64, Any}(5 => A_OTHER, 4 => A_EFFECT, 6 => BETA, 7 => SE, 2 => CHR, 8 => PVAL, 3 => POS, 1 => \"id\"), '\\t', \"ZNF843.8321.27\")\n",
       " GWAS(\"/home/matpa01/CrickData_matpa01/Decode_mapping_suite/ZNRF3.10390.21/ZNRF3.10390.21_chromosome_22.tsv\", Dict{Int64, Any}(5 => A_OTHER, 4 => A_EFFECT, 6 => BETA, 7 => SE, 2 => CHR, 8 => PVAL, 3 => POS, 1 => \"id\"), '\\t', \"ZNRF3.10390.21\")\n",
       " GWAS(\"/home/matpa01/CrickData_matpa01/Decode_mapping_suite/ZNRF3.14122.132/ZNRF3.14122.132_chromosome_22.tsv\", Dict{Int64, Any}(5 => A_OTHER, 4 => A_EFFECT, 6 => BETA, 7 => SE, 2 => CHR, 8 => PVAL, 3 => POS, 1 => \"id\"), '\\t', \"ZNRF3.14122.132\")\n",
       " GWAS(\"/home/matpa01/CrickData_matpa01/Decode_mapping_suite/ZP4.7766.25/ZP4.7766.25_chromosome_1.tsv\", Dict{Int64, Any}(5 => A_OTHER, 4 => A_EFFECT, 6 => BETA, 7 => SE, 2 => CHR, 8 => PVAL, 3 => POS, 1 => \"id\"), '\\t', \"ZP4.7766.25\")\n",
       " GWAS(\"/home/matpa01/CrickData_matpa01/Decode_mapping_suite/ZPBP.8635.283/ZPBP.8635.283_chromosome_7.tsv\", Dict{Int64, Any}(5 => A_OTHER, 4 => A_EFFECT, 6 => BETA, 7 => SE, 2 => CHR, 8 => PVAL, 3 => POS, 1 => \"id\"), '\\t', \"ZPBP.8635.283\")\n",
       " GWAS(\"/home/matpa01/CrickData_matpa01/Decode_mapping_suite/ZPBP2.10710.23/ZPBP2.10710.23_chromosome_17.tsv\", Dict{Int64, Any}(5 => A_OTHER, 4 => A_EFFECT, 6 => BETA, 7 => SE, 2 => CHR, 8 => PVAL, 3 => POS, 1 => \"id\"), '\\t', \"ZPBP2.10710.23\")\n",
       " GWAS(\"/home/matpa01/CrickData_matpa01/Decode_mapping_suite/ZPLD1.5590.11/ZPLD1.5590.11_chromosome_3.tsv\", Dict{Int64, Any}(5 => A_OTHER, 4 => A_EFFECT, 6 => BETA, 7 => SE, 2 => CHR, 8 => PVAL, 3 => POS, 1 => \"id\"), '\\t', \"ZPLD1.5590.11\")\n",
       " GWAS(\"/home/matpa01/CrickData_matpa01/Decode_mapping_suite/ZWILCH.18302.204/ZWILCH.18302.204_chromosome_15.tsv\", Dict{Int64, Any}(5 => A_OTHER, 4 => A_EFFECT, 6 => BETA, 7 => SE, 2 => CHR, 8 => PVAL, 3 => POS, 1 => \"id\"), '\\t', \"ZWILCH.18302.204\")\n",
       " GWAS(\"/home/matpa01/CrickData_matpa01/Decode_mapping_suite/ZWINT.18286.3/ZWINT.18286.3_chromosome_10.tsv\", Dict{Int64, Any}(5 => A_OTHER, 4 => A_EFFECT, 6 => BETA, 7 => SE, 2 => CHR, 8 => PVAL, 3 => POS, 1 => \"id\"), '\\t', \"ZWINT.18286.3\")"
      ]
     },
     "execution_count": 9,
     "metadata": {},
     "output_type": "execute_result"
    }
   ],
   "source": [
    "Decode[8:end-1]"
   ]
  },
  {
   "cell_type": "code",
   "execution_count": 13,
   "metadata": {},
   "outputs": [
    {
     "data": {
      "text/plain": [
       "getindex (generic function with 354 methods)"
      ]
     },
     "execution_count": 13,
     "metadata": {},
     "output_type": "execute_result"
    }
   ],
   "source": [
    "Base.getindex"
   ]
  },
  {
   "cell_type": "code",
   "execution_count": null,
   "metadata": {},
   "outputs": [],
   "source": []
  }
 ],
 "metadata": {
  "kernelspec": {
   "display_name": "Julia 160 Threads 1.8.5",
   "language": "julia",
   "name": "julia-160-threads-1.8"
  },
  "language_info": {
   "file_extension": ".jl",
   "mimetype": "application/julia",
   "name": "julia",
   "version": "1.8.5"
  },
  "orig_nbformat": 4
 },
 "nbformat": 4,
 "nbformat_minor": 2
}
