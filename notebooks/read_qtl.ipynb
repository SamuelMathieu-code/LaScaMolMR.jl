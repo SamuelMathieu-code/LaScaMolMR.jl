{
 "cells": [
  {
   "attachments": {},
   "cell_type": "markdown",
   "metadata": {},
   "source": [
    "## Reading large QTl files based off QTLStudy structure"
   ]
  },
  {
   "cell_type": "code",
   "execution_count": 1,
   "metadata": {},
   "outputs": [
    {
     "data": {
      "text/plain": [
       "mrStudyCis"
      ]
     },
     "execution_count": 1,
     "metadata": {},
     "output_type": "execute_result"
    }
   ],
   "source": [
    "using DLMReader\n",
    "using Chain\n",
    "using InMemoryDatasets\n",
    "import Base.Threads.@threads\n",
    "using StatsBase\n",
    "\n",
    "export QTLStudy, GWAS, QTLStudy_from_pattern, GenVarInfo\n",
    "include(\"../src/inputs.jl\")\n",
    "include(\"../src/mrStudyCis.jl\")"
   ]
  },
  {
   "cell_type": "code",
   "execution_count": 2,
   "metadata": {},
   "outputs": [
    {
     "name": "stderr",
     "output_type": "stream",
     "text": [
      "\u001b[33m\u001b[1m┌ \u001b[22m\u001b[39m\u001b[33m\u001b[1mWarning: \u001b[22m\u001b[39mThere are problems with parsing the input file at line 723 (observation 723) : \n",
      "\u001b[33m\u001b[1m│ \u001b[22m\u001b[39mColumn 2 : chr::Int64 : Read from buffer (\"Y\")\n",
      "\u001b[33m\u001b[1m│ \u001b[22m\u001b[39m the values are set as missing.\n",
      "\u001b[33m\u001b[1m│ \u001b[22m\u001b[39mMORE DETAILS: \n",
      "\u001b[33m\u001b[1m│ \u001b[22m\u001b[39mtrait::String = CDY1.7097.8, chr::Int64 = missing, tss::Int64 = 25622162\n",
      "\u001b[33m\u001b[1m│ \u001b[22m\u001b[39mCDY1.7097.8_Y_25622162\n",
      "\u001b[33m\u001b[1m└ \u001b[22m\u001b[39m\u001b[90m@ DLMReader ~/.julia/packages/DLMReader/N5BLJ/src/util.jl:952\u001b[39m\n",
      "\u001b[33m\u001b[1m┌ \u001b[22m\u001b[39m\u001b[33m\u001b[1mWarning: \u001b[22m\u001b[39mThere are problems with parsing the input file at line 1295 (observation 1295) : \n",
      "\u001b[33m\u001b[1m│ \u001b[22m\u001b[39mColumn 2 : chr::Int64 : Read from buffer (\"Y\")\n",
      "\u001b[33m\u001b[1m│ \u001b[22m\u001b[39m the values are set as missing.\n",
      "\u001b[33m\u001b[1m│ \u001b[22m\u001b[39mMORE DETAILS: \n",
      "\u001b[33m\u001b[1m│ \u001b[22m\u001b[39mtrait::String = EIF1AY.19224.5, chr::Int64 = missing, tss::Int64 = 20575776\n",
      "\u001b[33m\u001b[1m│ \u001b[22m\u001b[39mEIF1AY.19224.5_Y_20575776\n",
      "\u001b[33m\u001b[1m└ \u001b[22m\u001b[39m\u001b[90m@ DLMReader ~/.julia/packages/DLMReader/N5BLJ/src/util.jl:952\u001b[39m\n"
     ]
    },
    {
     "data": {
      "text/plain": [
       "4483-element Vector{String}:\n",
       " \"/home/samat33/CrickData_samat33\" ⋯ 34 bytes ⋯ \"/A1BG.16561.9_chromosome_19.tsv\"\n",
       " \"/home/samat33/CrickData_samat33\" ⋯ 36 bytes ⋯ \"A1CF.12423.38_chromosome_10.tsv\"\n",
       " \"/home/samat33/CrickData_samat33\" ⋯ 32 bytes ⋯ \"2/A2M.3708.62_chromosome_12.tsv\"\n",
       " \"/home/samat33/CrickData_samat33\" ⋯ 38 bytes ⋯ \"2ML1.15482.12_chromosome_12.tsv\"\n",
       " \"/home/samat33/CrickData_samat33\" ⋯ 38 bytes ⋯ \"4GALT.8759.29_chromosome_22.tsv\"\n",
       " \"/home/samat33/CrickData_samat33\" ⋯ 37 bytes ⋯ \"A4GNT.10835.25_chromosome_3.tsv\"\n",
       " \"/home/samat33/CrickData_samat33\" ⋯ 38 bytes ⋯ \"AGAB.11926.23_chromosome_15.tsv\"\n",
       " \"/home/samat33/CrickData_samat33\" ⋯ 44 bytes ⋯ \"HPPT.17320.19_chromosome_11.tsv\"\n",
       " \"/home/samat33/CrickData_samat33\" ⋯ 36 bytes ⋯ \"ABCC6.8935.22_chromosome_16.tsv\"\n",
       " \"/home/samat33/CrickData_samat33\" ⋯ 41 bytes ⋯ \"HD10.17370.186_chromosome_3.tsv\"\n",
       " \"/home/samat33/CrickData_samat33\" ⋯ 36 bytes ⋯ \"ABHD12.7825.7_chromosome_20.tsv\"\n",
       " \"/home/samat33/CrickData_samat33\" ⋯ 41 bytes ⋯ \"HD14B.19325.21_chromosome_3.tsv\"\n",
       " \"/home/samat33/CrickData_samat33\" ⋯ 33 bytes ⋯ \"3/ABL1.3341.33_chromosome_9.tsv\"\n",
       " ⋮\n",
       " \"/home/samat33/CrickData_samat33\" ⋯ 38 bytes ⋯ \"NF566.12795.2_chromosome_19.tsv\"\n",
       " \"/home/samat33/CrickData_samat33\" ⋯ 40 bytes ⋯ \"F774.12760.34_chromosome_15.tsv\"\n",
       " \"/home/samat33/CrickData_samat33\" ⋯ 38 bytes ⋯ \"NF843.8321.27_chromosome_16.tsv\"\n",
       " \"/home/samat33/CrickData_samat33\" ⋯ 38 bytes ⋯ \"NRF3.10390.21_chromosome_22.tsv\"\n",
       " \"/home/samat33/CrickData_samat33\" ⋯ 40 bytes ⋯ \"RF3.14122.132_chromosome_22.tsv\"\n",
       " \"/home/samat33/CrickData_samat33\" ⋯ 31 bytes ⋯ \"25/ZP4.7766.25_chromosome_1.tsv\"\n",
       " \"/home/samat33/CrickData_samat33\" ⋯ 35 bytes ⋯ \"/ZPBP.8635.283_chromosome_7.tsv\"\n",
       " \"/home/samat33/CrickData_samat33\" ⋯ 38 bytes ⋯ \"PBP2.10710.23_chromosome_17.tsv\"\n",
       " \"/home/samat33/CrickData_samat33\" ⋯ 35 bytes ⋯ \"/ZPLD1.5590.11_chromosome_3.tsv\"\n",
       " \"/home/samat33/CrickData_samat33\" ⋯ 42 bytes ⋯ \"LCH.18302.204_chromosome_15.tsv\"\n",
       " \"/home/samat33/CrickData_samat33\" ⋯ 36 bytes ⋯ \"ZWINT.18286.3_chromosome_10.tsv\"\n",
       " \"/home/samat33/CrickData_samat33\" ⋯ 33 bytes ⋯ \"0/ZYX.13632.10_chromosome_7.tsv\""
      ]
     },
     "metadata": {},
     "output_type": "display_data"
    },
    {
     "data": {
      "text/plain": [
       "4483-element Vector{Any}:\n",
       " \"A1BG.16561.9\"\n",
       " \"A1CF.12423.38\"\n",
       " \"A2M.3708.62\"\n",
       " \"A2ML1.15482.12\"\n",
       " \"A4GALT.8759.29\"\n",
       " \"A4GNT.10835.25\"\n",
       " \"AAGAB.11926.23\"\n",
       " \"AASDHPPT.17320.19\"\n",
       " \"ABCC6.8935.22\"\n",
       " \"ABHD10.17370.186\"\n",
       " \"ABHD12.7825.7\"\n",
       " \"ABHD14B.19325.21\"\n",
       " \"ABL1.3341.33\"\n",
       " ⋮\n",
       " \"ZNF566.12795.2\"\n",
       " \"ZNF774.12760.34\"\n",
       " \"ZNF843.8321.27\"\n",
       " \"ZNRF3.10390.21\"\n",
       " \"ZNRF3.14122.132\"\n",
       " \"ZP4.7766.25\"\n",
       " \"ZPBP.8635.283\"\n",
       " \"ZPBP2.10710.23\"\n",
       " \"ZPLD1.5590.11\"\n",
       " \"ZWILCH.18302.204\"\n",
       " \"ZWINT.18286.3\"\n",
       " \"ZYX.13632.10\""
      ]
     },
     "metadata": {},
     "output_type": "display_data"
    }
   ],
   "source": [
    "GWAS_file_path = \"/mnt/r6_data/GWAS_MRsuite_hg38/input_MRsuite_BMI_Yengo_hg38\"\n",
    "QTL_prots_path = \"/home/samat33/CrickData_samat33/Decode_mapping_suite\"\n",
    "QTL_prots_tss_file = \"/mnt/r6_data/Patrick/Input_Decode/decode_list_hg38\"\n",
    "\n",
    "tss_df = filereader(QTL_prots_tss_file, delimiter = '_', header=[:trait, :chr, :tss], eolwarn = false)\n",
    "\n",
    "dropmissing!(tss_df)\n",
    "\n",
    "Decode_pat = [TRAIT_NAME, \"/\", TRAIT_NAME, \"_chromosome_\", CHR, \".tsv\"]\n",
    "Decode_columns = Dict(1 => \"id\", 2 => CHR, 3 => POS, 4 => A_EFFECT, 5 => A_OTHER, 6 => BETA, 7 => SE, 8 => PVAL)\n",
    "sep = '\\t'\n",
    "\n",
    "Decode = QTLStudy_from_pattern(QTL_prots_path,Decode_pat, tss_df.trait, tss_df.chr, tss_df.tss, Decode_columns, sep, true)\n",
    "\n",
    "display(Decode.path_v)\n",
    "display(Decode.traits_for_each_path)"
   ]
  },
  {
   "attachments": {},
   "cell_type": "markdown",
   "metadata": {},
   "source": [
    "Read each file : keep only relevant cols and smoosh it all together"
   ]
  },
  {
   "cell_type": "code",
   "execution_count": 3,
   "metadata": {},
   "outputs": [
    {
     "data": {
      "text/plain": [
       "GWAS(\"/home/samat33/CrickData_samat33/Decode_mapping_suite/A1BG.16561.9/A1BG.16561.9_chromosome_19.tsv\", Dict{Int64, Any}(5 => A_OTHER, 4 => A_EFFECT, 6 => BETA, 7 => SE, 2 => CHR, 8 => PVAL, 3 => POS, 1 => \"id\"), '\\t', \"A1BG.16561.9\")"
      ]
     },
     "execution_count": 3,
     "metadata": {},
     "output_type": "execute_result"
    }
   ],
   "source": [
    "Decode[1]"
   ]
  },
  {
   "cell_type": "code",
   "execution_count": 3,
   "metadata": {},
   "outputs": [
    {
     "data": {
      "text/plain": [
       "-1"
      ]
     },
     "execution_count": 3,
     "metadata": {},
     "output_type": "execute_result"
    }
   ],
   "source": [
    "verify_and_simplify_columns(Decode)"
   ]
  },
  {
   "cell_type": "code",
   "execution_count": 4,
   "metadata": {},
   "outputs": [
    {
     "data": {
      "text/plain": [
       "(Dict{Int64, DataType}(5 => String, 4 => String, 6 => Float64, 7 => Float64, 2 => Int8, 8 => Float64, 3 => Int32, 1 => String), [:x, :chr, :pos, :a_effect, :a_other, :β, :se, :pval])"
      ]
     },
     "execution_count": 4,
     "metadata": {},
     "output_type": "execute_result"
    }
   ],
   "source": [
    "types, header = make_types_and_headers(Decode)"
   ]
  },
  {
   "attachments": {},
   "cell_type": "markdown",
   "metadata": {},
   "source": [
    "Next : test speed lecture pour quelques fichiers seulement manuelement"
   ]
  },
  {
   "cell_type": "code",
   "execution_count": 12,
   "metadata": {},
   "outputs": [
    {
     "data": {
      "text/html": [
       "<table class=\"data-set\"><thead><tr><th></th><th>a_other</th><th>a_effect</th><th>β</th><th>se</th><th>chr</th><th>pval</th><th>pos</th></tr><tr><th></th><th>identity</th><th>identity</th><th>identity</th><th>identity</th><th>identity</th><th>identity</th><th>identity</th></tr><tr><th></th><th title=\"Union{Missing, String}\">String?</th><th title=\"Union{Missing, String}\">String?</th><th title=\"Union{Missing, Float64}\">Float64?</th><th title=\"Union{Missing, Float64}\">Float64?</th><th title=\"Union{Missing, Int8}\">Int8?</th><th title=\"Union{Missing, Float64}\">Float64?</th><th title=\"Union{Missing, Int32}\">Int32?</th></tr></thead><tbody><p>485,779 rows × 7 columns</p><tr><th>1</th><td>G</td><td>A</td><td>0.0147</td><td>0.091362</td><td>19</td><td>0.872174</td><td>60980</td></tr><tr><th>2</th><td>G</td><td>A</td><td>0.2382</td><td>0.167335</td><td>19</td><td>0.154594</td><td>61397</td></tr><tr><th>3</th><td>G</td><td>A</td><td>-0.7483</td><td>0.474036</td><td>19</td><td>0.114434</td><td>61738</td></tr><tr><th>4</th><td>T</td><td>G</td><td>0.0601</td><td>0.058977</td><td>19</td><td>0.308183</td><td>62617</td></tr><tr><th>5</th><td>C</td><td>T</td><td>0.0877</td><td>0.051866</td><td>19</td><td>0.090859</td><td>62831</td></tr><tr><th>6</th><td>G</td><td>A</td><td>-0.0527</td><td>0.240393</td><td>19</td><td>0.826475</td><td>62904</td></tr><tr><th>7</th><td>A</td><td>G</td><td>-0.1166</td><td>0.081051</td><td>19</td><td>0.150265</td><td>62973</td></tr><tr><th>8</th><td>G</td><td>A</td><td>-0.009</td><td>0.083019</td><td>19</td><td>0.913671</td><td>63404</td></tr><tr><th>9</th><td>G</td><td>A</td><td>0.0091</td><td>0.04621</td><td>19</td><td>0.843883</td><td>63516</td></tr><tr><th>10</th><td>C</td><td>A</td><td>0.0091</td><td>0.04621</td><td>19</td><td>0.843883</td><td>63517</td></tr><tr><th>11</th><td>G</td><td>A</td><td>-0.0081</td><td>0.30937</td><td>19</td><td>0.979112</td><td>63699</td></tr><tr><th>12</th><td>T</td><td>C</td><td>-0.4518</td><td>0.305887</td><td>19</td><td>0.139671</td><td>63825</td></tr><tr><th>13</th><td>T</td><td>C</td><td>0.1872</td><td>0.113326</td><td>19</td><td>0.09856</td><td>64514</td></tr><tr><th>14</th><td>C</td><td>T</td><td>0.0027</td><td>0.061558</td><td>19</td><td>0.965015</td><td>64705</td></tr><tr><th>15</th><td>A</td><td>G</td><td>-0.0183</td><td>0.386061</td><td>19</td><td>0.962193</td><td>65205</td></tr><tr><th>16</th><td>G</td><td>A</td><td>0.2962</td><td>0.310338</td><td>19</td><td>0.33986</td><td>65452</td></tr><tr><th>17</th><td>G</td><td>A</td><td>-0.1381</td><td>0.151544</td><td>19</td><td>0.362145</td><td>65502</td></tr><tr><th>18</th><td>C</td><td>T</td><td>0.0108</td><td>0.051805</td><td>19</td><td>0.834859</td><td>65739</td></tr><tr><th>19</th><td>G</td><td>A</td><td>0.1592</td><td>0.113621</td><td>19</td><td>0.161168</td><td>66547</td></tr><tr><th>20</th><td>G</td><td>A</td><td>0.1053</td><td>0.307322</td><td>19</td><td>0.731871</td><td>66902</td></tr><tr><th>21</th><td>G</td><td>T</td><td>0.1053</td><td>0.307322</td><td>19</td><td>0.731871</td><td>66903</td></tr><tr><th>22</th><td>G</td><td>A</td><td>0.3582</td><td>0.136406</td><td>19</td><td>0.00864</td><td>67583</td></tr><tr><th>23</th><td>C</td><td>A</td><td>-0.0418</td><td>0.336513</td><td>19</td><td>0.901145</td><td>68704</td></tr><tr><th>24</th><td>T</td><td>A</td><td>-0.3627</td><td>0.164466</td><td>19</td><td>0.027432</td><td>68763</td></tr><tr><th>25</th><td>G</td><td>A</td><td>0.0198</td><td>0.062744</td><td>19</td><td>0.752331</td><td>69898</td></tr><tr><th>26</th><td>G</td><td>A</td><td>0.2811</td><td>0.206515</td><td>19</td><td>0.173463</td><td>69956</td></tr><tr><th>27</th><td>A</td><td>G</td><td>-0.0071</td><td>0.078396</td><td>19</td><td>0.927838</td><td>70156</td></tr><tr><th>28</th><td>C</td><td>G</td><td>0.0873</td><td>0.12798</td><td>19</td><td>0.495152</td><td>70337</td></tr><tr><th>29</th><td>G</td><td>A</td><td>-0.0358</td><td>0.054111</td><td>19</td><td>0.508224</td><td>70424</td></tr><tr><th>30</th><td>C</td><td>T</td><td>0.487</td><td>0.277637</td><td>19</td><td>0.079415</td><td>71040</td></tr><tr><th>&vellip;</th><td>&vellip;</td><td>&vellip;</td><td>&vellip;</td><td>&vellip;</td><td>&vellip;</td><td>&vellip;</td><td>&vellip;</td></tr></tbody></table>"
      ],
      "text/latex": [
       "\\begin{tabular}{r|ccccccc}\n",
       "\t& a\\_other & a\\_effect & β & se & chr & pval & pos\\\\\n",
       "\t\\hline\n",
       "\t& identity & identity & identity & identity & identity & identity & identity\\\\\n",
       "\t\\hline\n",
       "\t& String? & String? & Float64? & Float64? & Int8? & Float64? & Int32?\\\\\n",
       "\t\\hline\n",
       "\t1 & G & A & 0.0147 & 0.091362 & 19 & 0.872174 & 60980 \\\\\n",
       "\t2 & G & A & 0.2382 & 0.167335 & 19 & 0.154594 & 61397 \\\\\n",
       "\t3 & G & A & -0.7483 & 0.474036 & 19 & 0.114434 & 61738 \\\\\n",
       "\t4 & T & G & 0.0601 & 0.058977 & 19 & 0.308183 & 62617 \\\\\n",
       "\t5 & C & T & 0.0877 & 0.051866 & 19 & 0.090859 & 62831 \\\\\n",
       "\t6 & G & A & -0.0527 & 0.240393 & 19 & 0.826475 & 62904 \\\\\n",
       "\t7 & A & G & -0.1166 & 0.081051 & 19 & 0.150265 & 62973 \\\\\n",
       "\t8 & G & A & -0.009 & 0.083019 & 19 & 0.913671 & 63404 \\\\\n",
       "\t9 & G & A & 0.0091 & 0.04621 & 19 & 0.843883 & 63516 \\\\\n",
       "\t10 & C & A & 0.0091 & 0.04621 & 19 & 0.843883 & 63517 \\\\\n",
       "\t11 & G & A & -0.0081 & 0.30937 & 19 & 0.979112 & 63699 \\\\\n",
       "\t12 & T & C & -0.4518 & 0.305887 & 19 & 0.139671 & 63825 \\\\\n",
       "\t13 & T & C & 0.1872 & 0.113326 & 19 & 0.09856 & 64514 \\\\\n",
       "\t14 & C & T & 0.0027 & 0.061558 & 19 & 0.965015 & 64705 \\\\\n",
       "\t15 & A & G & -0.0183 & 0.386061 & 19 & 0.962193 & 65205 \\\\\n",
       "\t16 & G & A & 0.2962 & 0.310338 & 19 & 0.33986 & 65452 \\\\\n",
       "\t17 & G & A & -0.1381 & 0.151544 & 19 & 0.362145 & 65502 \\\\\n",
       "\t18 & C & T & 0.0108 & 0.051805 & 19 & 0.834859 & 65739 \\\\\n",
       "\t19 & G & A & 0.1592 & 0.113621 & 19 & 0.161168 & 66547 \\\\\n",
       "\t20 & G & A & 0.1053 & 0.307322 & 19 & 0.731871 & 66902 \\\\\n",
       "\t21 & G & T & 0.1053 & 0.307322 & 19 & 0.731871 & 66903 \\\\\n",
       "\t22 & G & A & 0.3582 & 0.136406 & 19 & 0.00864 & 67583 \\\\\n",
       "\t23 & C & A & -0.0418 & 0.336513 & 19 & 0.901145 & 68704 \\\\\n",
       "\t24 & T & A & -0.3627 & 0.164466 & 19 & 0.027432 & 68763 \\\\\n",
       "\t25 & G & A & 0.0198 & 0.062744 & 19 & 0.752331 & 69898 \\\\\n",
       "\t26 & G & A & 0.2811 & 0.206515 & 19 & 0.173463 & 69956 \\\\\n",
       "\t27 & A & G & -0.0071 & 0.078396 & 19 & 0.927838 & 70156 \\\\\n",
       "\t28 & C & G & 0.0873 & 0.12798 & 19 & 0.495152 & 70337 \\\\\n",
       "\t29 & G & A & -0.0358 & 0.054111 & 19 & 0.508224 & 70424 \\\\\n",
       "\t30 & C & T & 0.487 & 0.277637 & 19 & 0.079415 & 71040 \\\\\n",
       "\t$\\dots$ & $\\dots$ & $\\dots$ & $\\dots$ & $\\dots$ & $\\dots$ & $\\dots$ & $\\dots$ \\\\\n",
       "\\end{tabular}\n"
      ],
      "text/plain": [
       "\u001b[1m485779×7 Dataset\u001b[0m\n",
       "\u001b[1m    Row \u001b[0m│\u001b[1m a_other  \u001b[0m\u001b[1m a_effect \u001b[0m\u001b[1m β        \u001b[0m\u001b[1m se       \u001b[0m\u001b[1m chr      \u001b[0m\u001b[1m pval     \u001b[0m\u001b[1m pos     \u001b[0m ⋯\n",
       "        │\u001b[90m identity \u001b[0m\u001b[90m identity \u001b[0m\u001b[90m identity \u001b[0m\u001b[90m identity \u001b[0m\u001b[90m identity \u001b[0m\u001b[90m identity \u001b[0m\u001b[90m identity\u001b[0m ⋯\n",
       "        │\u001b[90m String?  \u001b[0m\u001b[90m String?  \u001b[0m\u001b[90m Float64? \u001b[0m\u001b[90m Float64? \u001b[0m\u001b[90m Int8?    \u001b[0m\u001b[90m Float64? \u001b[0m\u001b[90m Int32?  \u001b[0m ⋯\n",
       "────────┼───────────────────────────────────────────────────────────────────────\n",
       "      1 │ G         A           0.0147  0.091362        19  0.872174     60980 ⋯\n",
       "      2 │ G         A           0.2382  0.167335        19  0.154594     61397\n",
       "      3 │ G         A          -0.7483  0.474036        19  0.114434     61738\n",
       "      4 │ T         G           0.0601  0.058977        19  0.308183     62617\n",
       "      5 │ C         T           0.0877  0.051866        19  0.090859     62831 ⋯\n",
       "      6 │ G         A          -0.0527  0.240393        19  0.826475     62904\n",
       "      7 │ A         G          -0.1166  0.081051        19  0.150265     62973\n",
       "      8 │ G         A          -0.009   0.083019        19  0.913671     63404\n",
       "      9 │ G         A           0.0091  0.04621         19  0.843883     63516 ⋯\n",
       "     10 │ C         A           0.0091  0.04621         19  0.843883     63517\n",
       "   ⋮    │    ⋮         ⋮         ⋮         ⋮         ⋮         ⋮         ⋮     ⋱\n",
       " 485770 │ C         T           0.0103  0.00935         19  0.270653  58607249\n",
       " 485771 │ C         G           0.0716  0.065269        19  0.272643  58607297\n",
       " 485772 │ C         T           0.076   0.102548        19  0.458625  58607391 ⋯\n",
       " 485773 │ G         A           0.1677  0.059789        19  0.005034  58607392\n",
       " 485774 │ G         G          -0.0087  0.008156        19  0.286085  58607412\n",
       " 485775 │ G         C           0.0087  0.008156        19  0.286115  58607412\n",
       " 485776 │ C         G           0.0094  0.008121        19  0.247056  58607416 ⋯\n",
       " 485777 │ G         T           0.0741  0.343959        19  0.82943   58607445\n",
       " 485778 │ G         T           0.2383  0.255079        19  0.35019   58607451\n",
       " 485779 │ G         C           0.043   0.058755        19  0.464258  58607495\n",
       "\u001b[36m                                                            485759 rows omitted\u001b[0m"
      ]
     },
     "execution_count": 12,
     "metadata": {},
     "output_type": "execute_result"
    }
   ],
   "source": [
    "file = Decode[1]\n",
    "d = filereader(file.path, delimiter = file.separator, header = header, types = types, skipto=2, makeunique=true, eolwarn=false, threads=false)[:,collect(keys(file.columns))]"
   ]
  },
  {
   "cell_type": "code",
   "execution_count": 5,
   "metadata": {},
   "outputs": [
    {
     "data": {
      "text/plain": [
       "Dict{Any, Tuple{Any, Any}} with 4483 entries:\n",
       "  \"TAGLN.15640.54\"  => (11, 117199370)\n",
       "  \"NDUFS4.10584.7\"  => (5, 53560633)\n",
       "  \"ANGPT2.2602.2\"   => (8, 6563409)\n",
       "  \"SMC3.14324.52\"   => (10, 110567684)\n",
       "  \"SYT11.7089.42\"   => (1, 155859567)\n",
       "  \"ABCC6.8935.22\"   => (16, 16223522)\n",
       "  \"RAB35.13514.121\" => (12, 120117502)\n",
       "  \"ITLN1.18830.1\"   => (1, 160885180)\n",
       "  \"ITCH.12551.3\"    => (20, 34363241)\n",
       "  \"NID2.16060.99\"   => (14, 52069059)\n",
       "  \"TCN2.5584.21\"    => (22, 30607003)\n",
       "  \"AKR1B1.16606.85\" => (7, 134459284)\n",
       "  \"FGG.4989.7\"      => (4, 154612967)\n",
       "  \"EIF4B.14675.20\"  => (12, 53006282)\n",
       "  \"GP5.7185.29\"     => (3, 194399266)\n",
       "  \"CD5.5596.75\"     => (11, 61102489)\n",
       "  \"LCT.9017.58\"     => (2, 135837184)\n",
       "  \"RBL2.13565.2\"    => (16, 53433977)\n",
       "  \"EDN1.6495.14\"    => (6, 12290361)\n",
       "  \"PPBP.16765.52\"   => (4, 73988190)\n",
       "  \"TMCO5A.6907.17\"  => (15, 37921939)\n",
       "  \"DIRAS1.17793.4\"  => (19, 2721372)\n",
       "  \"EPHB3.9220.7\"    => (3, 184561785)\n",
       "  \"GUSB.15562.24\"   => (7, 65982215)\n",
       "  \"MGA.11587.5\"     => (15, 41621134)\n",
       "  ⋮                 => ⋮"
      ]
     },
     "execution_count": 5,
     "metadata": {},
     "output_type": "execute_result"
    }
   ],
   "source": [
    "window = 500000\n",
    "p_tresh = 5.0e-3\n",
    "in_window(s::SubArray) = (s[1] == ref_dict[s[3]][1] && abs(s[2]-ref_dict[s[3]][2])≤window && s[4]<p_tresh)\n",
    "ref_dict = Dict(zip(Decode.trait_v, zip(Decode.chr_v, Decode.tss_v)))"
   ]
  },
  {
   "cell_type": "code",
   "execution_count": 6,
   "metadata": {},
   "outputs": [],
   "source": [
    "data_vect = Vector{Dataset}(undef, 1200);"
   ]
  },
  {
   "cell_type": "code",
   "execution_count": 7,
   "metadata": {},
   "outputs": [],
   "source": [
    "using Printf\n",
    "using BenchmarkTools\n",
    "using Folds\n",
    "using BangBang"
   ]
  },
  {
   "cell_type": "code",
   "execution_count": 8,
   "metadata": {},
   "outputs": [
    {
     "name": "stdout",
     "output_type": "stream",
     "text": [
      "  200433.295479 seconds (12.12 G allocations: 449.200 GiB, 25.61% gc time, 2.71% compilation time: 1% of which was recompilation)\n"
     ]
    }
   ],
   "source": [
    "\n",
    "@time @threads for i in 1:1200\n",
    "    @printf \"\\r%5i\" i\n",
    "    file = Decode[i]\n",
    "    d = filereader(file.path, delimiter = file.separator, header = header, types = types, skipto=2, makeunique=true, eolwarn=false, threads = false)[:,collect(keys(file.columns))]\n",
    "    d.trait = repeat([file.trait_name], nrow(d))\n",
    "    filter!(d, [:chr, :pos, :trait, :pval], type = in_window, threads = false)\n",
    "    data_vect[i] = d\n",
    "end"
   ]
  },
  {
   "attachments": {},
   "cell_type": "markdown",
   "metadata": {},
   "source": [
    "**Mem taken 109 Gb. look workspace for temporary allocations + other optimisation**"
   ]
  },
  {
   "cell_type": "code",
   "execution_count": 9,
   "metadata": {},
   "outputs": [
    {
     "data": {
      "text/html": [
       "<table class=\"data-set\"><thead><tr><th></th><th>a_other</th><th>a_effect</th><th>β</th><th>se</th><th>chr</th><th>pval</th><th>pos</th><th>trait</th></tr><tr><th></th><th>identity</th><th>identity</th><th>identity</th><th>identity</th><th>identity</th><th>identity</th><th>identity</th><th>identity</th></tr><tr><th></th><th title=\"Union{Missing, String}\">String?</th><th title=\"Union{Missing, String}\">String?</th><th title=\"Union{Missing, Float64}\">Float64?</th><th title=\"Union{Missing, Float64}\">Float64?</th><th title=\"Union{Missing, Int8}\">Int8?</th><th title=\"Union{Missing, Float64}\">Float64?</th><th title=\"Union{Missing, Int32}\">Int32?</th><th title=\"Union{Missing, String}\">String?</th></tr></thead><tbody><p>819,304 rows × 8 columns</p><tr><th>1</th><td>G</td><td>A</td><td>-0.0382</td><td>0.009274</td><td>19</td><td>3.801e-5</td><td>57853825</td><td>A1BG.16561.9</td></tr><tr><th>2</th><td>A</td><td>G</td><td>0.2982</td><td>0.104226</td><td>19</td><td>0.004222</td><td>57855116</td><td>A1BG.16561.9</td></tr><tr><th>3</th><td>G</td><td>A</td><td>0.1683</td><td>0.059636</td><td>19</td><td>0.004771</td><td>57856457</td><td>A1BG.16561.9</td></tr><tr><th>4</th><td>G</td><td>A</td><td>-0.0406</td><td>0.009287</td><td>19</td><td>1.232e-5</td><td>57858374</td><td>A1BG.16561.9</td></tr><tr><th>5</th><td>T</td><td>C</td><td>0.2696</td><td>0.085608</td><td>19</td><td>0.001637</td><td>57858571</td><td>A1BG.16561.9</td></tr><tr><th>6</th><td>G</td><td>A</td><td>-0.1667</td><td>0.024098</td><td>19</td><td>4.594e-12</td><td>57858894</td><td>A1BG.16561.9</td></tr><tr><th>7</th><td>C</td><td>A</td><td>-0.0395</td><td>0.009252</td><td>19</td><td>1.961e-5</td><td>57859289</td><td>A1BG.16561.9</td></tr><tr><th>8</th><td>T</td><td>G</td><td>-0.0385</td><td>0.00926</td><td>19</td><td>3.214e-5</td><td>57859359</td><td>A1BG.16561.9</td></tr><tr><th>9</th><td>G</td><td>A</td><td>0.1677</td><td>0.059616</td><td>19</td><td>0.004908</td><td>57860088</td><td>A1BG.16561.9</td></tr><tr><th>10</th><td>C</td><td>G</td><td>-0.0988</td><td>0.012288</td><td>19</td><td>8.955e-16</td><td>57861242</td><td>A1BG.16561.9</td></tr><tr><th>11</th><td>A</td><td>C</td><td>-0.0356</td><td>0.009226</td><td>19</td><td>0.000114</td><td>57861683</td><td>A1BG.16561.9</td></tr><tr><th>12</th><td>C</td><td>G</td><td>-0.0341</td><td>0.00864</td><td>19</td><td>7.92e-5</td><td>57862267</td><td>A1BG.16561.9</td></tr><tr><th>13</th><td>C</td><td>T</td><td>-0.0358</td><td>0.009228</td><td>19</td><td>0.0001046</td><td>57862762</td><td>A1BG.16561.9</td></tr><tr><th>14</th><td>T</td><td>C</td><td>-0.5284</td><td>0.182701</td><td>19</td><td>0.003826</td><td>57862948</td><td>A1BG.16561.9</td></tr><tr><th>15</th><td>A</td><td>G</td><td>0.0924</td><td>0.032073</td><td>19</td><td>0.003965</td><td>57863386</td><td>A1BG.16561.9</td></tr><tr><th>16</th><td>C</td><td>T</td><td>0.0924</td><td>0.032073</td><td>19</td><td>0.003965</td><td>57863391</td><td>A1BG.16561.9</td></tr><tr><th>17</th><td>C</td><td>T</td><td>-0.6916</td><td>0.105859</td><td>19</td><td>6.436e-11</td><td>57863495</td><td>A1BG.16561.9</td></tr><tr><th>18</th><td>T</td><td>C</td><td>0.0292</td><td>0.008301</td><td>19</td><td>0.0004355</td><td>57863585</td><td>A1BG.16561.9</td></tr><tr><th>19</th><td>C</td><td>G</td><td>-0.0361</td><td>0.009373</td><td>19</td><td>0.0001174</td><td>57864342</td><td>A1BG.16561.9</td></tr><tr><th>20</th><td>G</td><td>A</td><td>-0.7052</td><td>0.043786</td><td>19</td><td>2.328e-58</td><td>57864577</td><td>A1BG.16561.9</td></tr><tr><th>21</th><td>C</td><td>T</td><td>-0.0345</td><td>0.00879</td><td>19</td><td>8.677e-5</td><td>57864640</td><td>A1BG.16561.9</td></tr><tr><th>22</th><td>A</td><td>C</td><td>-0.0359</td><td>0.009348</td><td>19</td><td>0.0001228</td><td>57865116</td><td>A1BG.16561.9</td></tr><tr><th>23</th><td>A</td><td>G</td><td>-0.0345</td><td>0.008793</td><td>19</td><td>8.721e-5</td><td>57865620</td><td>A1BG.16561.9</td></tr><tr><th>24</th><td>T</td><td>C</td><td>-0.5777</td><td>0.092422</td><td>19</td><td>4.086e-10</td><td>57865733</td><td>A1BG.16561.9</td></tr><tr><th>25</th><td>T</td><td>T</td><td>0.7254</td><td>0.1086</td><td>19</td><td>2.397e-11</td><td>57865944</td><td>A1BG.16561.9</td></tr><tr><th>26</th><td>T</td><td>C</td><td>-0.106</td><td>0.012454</td><td>19</td><td>1.719e-17</td><td>57866502</td><td>A1BG.16561.9</td></tr><tr><th>27</th><td>C</td><td>T</td><td>-0.7049</td><td>0.228095</td><td>19</td><td>0.001999</td><td>57866664</td><td>A1BG.16561.9</td></tr><tr><th>28</th><td>A</td><td>G</td><td>0.0352</td><td>0.008276</td><td>19</td><td>2.107e-5</td><td>57867148</td><td>A1BG.16561.9</td></tr><tr><th>29</th><td>A</td><td>C</td><td>-0.8187</td><td>0.194952</td><td>19</td><td>2.675e-5</td><td>57867257</td><td>A1BG.16561.9</td></tr><tr><th>30</th><td>G</td><td>A</td><td>-0.0362</td><td>0.009374</td><td>19</td><td>0.0001126</td><td>57867322</td><td>A1BG.16561.9</td></tr><tr><th>&vellip;</th><td>&vellip;</td><td>&vellip;</td><td>&vellip;</td><td>&vellip;</td><td>&vellip;</td><td>&vellip;</td><td>&vellip;</td><td>&vellip;</td></tr></tbody></table>"
      ],
      "text/latex": [
       "\\begin{tabular}{r|cccccccc}\n",
       "\t& a\\_other & a\\_effect & β & se & chr & pval & pos & trait\\\\\n",
       "\t\\hline\n",
       "\t& identity & identity & identity & identity & identity & identity & identity & identity\\\\\n",
       "\t\\hline\n",
       "\t& String? & String? & Float64? & Float64? & Int8? & Float64? & Int32? & String?\\\\\n",
       "\t\\hline\n",
       "\t1 & G & A & -0.0382 & 0.009274 & 19 & 3.801e-5 & 57853825 & A1BG.16561.9 \\\\\n",
       "\t2 & A & G & 0.2982 & 0.104226 & 19 & 0.004222 & 57855116 & A1BG.16561.9 \\\\\n",
       "\t3 & G & A & 0.1683 & 0.059636 & 19 & 0.004771 & 57856457 & A1BG.16561.9 \\\\\n",
       "\t4 & G & A & -0.0406 & 0.009287 & 19 & 1.232e-5 & 57858374 & A1BG.16561.9 \\\\\n",
       "\t5 & T & C & 0.2696 & 0.085608 & 19 & 0.001637 & 57858571 & A1BG.16561.9 \\\\\n",
       "\t6 & G & A & -0.1667 & 0.024098 & 19 & 4.594e-12 & 57858894 & A1BG.16561.9 \\\\\n",
       "\t7 & C & A & -0.0395 & 0.009252 & 19 & 1.961e-5 & 57859289 & A1BG.16561.9 \\\\\n",
       "\t8 & T & G & -0.0385 & 0.00926 & 19 & 3.214e-5 & 57859359 & A1BG.16561.9 \\\\\n",
       "\t9 & G & A & 0.1677 & 0.059616 & 19 & 0.004908 & 57860088 & A1BG.16561.9 \\\\\n",
       "\t10 & C & G & -0.0988 & 0.012288 & 19 & 8.955e-16 & 57861242 & A1BG.16561.9 \\\\\n",
       "\t11 & A & C & -0.0356 & 0.009226 & 19 & 0.000114 & 57861683 & A1BG.16561.9 \\\\\n",
       "\t12 & C & G & -0.0341 & 0.00864 & 19 & 7.92e-5 & 57862267 & A1BG.16561.9 \\\\\n",
       "\t13 & C & T & -0.0358 & 0.009228 & 19 & 0.0001046 & 57862762 & A1BG.16561.9 \\\\\n",
       "\t14 & T & C & -0.5284 & 0.182701 & 19 & 0.003826 & 57862948 & A1BG.16561.9 \\\\\n",
       "\t15 & A & G & 0.0924 & 0.032073 & 19 & 0.003965 & 57863386 & A1BG.16561.9 \\\\\n",
       "\t16 & C & T & 0.0924 & 0.032073 & 19 & 0.003965 & 57863391 & A1BG.16561.9 \\\\\n",
       "\t17 & C & T & -0.6916 & 0.105859 & 19 & 6.436e-11 & 57863495 & A1BG.16561.9 \\\\\n",
       "\t18 & T & C & 0.0292 & 0.008301 & 19 & 0.0004355 & 57863585 & A1BG.16561.9 \\\\\n",
       "\t19 & C & G & -0.0361 & 0.009373 & 19 & 0.0001174 & 57864342 & A1BG.16561.9 \\\\\n",
       "\t20 & G & A & -0.7052 & 0.043786 & 19 & 2.328e-58 & 57864577 & A1BG.16561.9 \\\\\n",
       "\t21 & C & T & -0.0345 & 0.00879 & 19 & 8.677e-5 & 57864640 & A1BG.16561.9 \\\\\n",
       "\t22 & A & C & -0.0359 & 0.009348 & 19 & 0.0001228 & 57865116 & A1BG.16561.9 \\\\\n",
       "\t23 & A & G & -0.0345 & 0.008793 & 19 & 8.721e-5 & 57865620 & A1BG.16561.9 \\\\\n",
       "\t24 & T & C & -0.5777 & 0.092422 & 19 & 4.086e-10 & 57865733 & A1BG.16561.9 \\\\\n",
       "\t25 & T & T & 0.7254 & 0.1086 & 19 & 2.397e-11 & 57865944 & A1BG.16561.9 \\\\\n",
       "\t26 & T & C & -0.106 & 0.012454 & 19 & 1.719e-17 & 57866502 & A1BG.16561.9 \\\\\n",
       "\t27 & C & T & -0.7049 & 0.228095 & 19 & 0.001999 & 57866664 & A1BG.16561.9 \\\\\n",
       "\t28 & A & G & 0.0352 & 0.008276 & 19 & 2.107e-5 & 57867148 & A1BG.16561.9 \\\\\n",
       "\t29 & A & C & -0.8187 & 0.194952 & 19 & 2.675e-5 & 57867257 & A1BG.16561.9 \\\\\n",
       "\t30 & G & A & -0.0362 & 0.009374 & 19 & 0.0001126 & 57867322 & A1BG.16561.9 \\\\\n",
       "\t$\\dots$ & $\\dots$ & $\\dots$ & $\\dots$ & $\\dots$ & $\\dots$ & $\\dots$ & $\\dots$ & $\\dots$ \\\\\n",
       "\\end{tabular}\n"
      ],
      "text/plain": [
       "\u001b[1m819304×8 Dataset\u001b[0m\n",
       "\u001b[1m    Row \u001b[0m│\u001b[1m a_other  \u001b[0m\u001b[1m a_effect \u001b[0m\u001b[1m β        \u001b[0m\u001b[1m se       \u001b[0m\u001b[1m chr      \u001b[0m\u001b[1m pval      \u001b[0m\u001b[1m pos    \u001b[0m ⋯\n",
       "        │\u001b[90m identity \u001b[0m\u001b[90m identity \u001b[0m\u001b[90m identity \u001b[0m\u001b[90m identity \u001b[0m\u001b[90m identity \u001b[0m\u001b[90m identity  \u001b[0m\u001b[90m identit\u001b[0m ⋯\n",
       "        │\u001b[90m String?  \u001b[0m\u001b[90m String?  \u001b[0m\u001b[90m Float64? \u001b[0m\u001b[90m Float64? \u001b[0m\u001b[90m Int8?    \u001b[0m\u001b[90m Float64?  \u001b[0m\u001b[90m Int32? \u001b[0m ⋯\n",
       "────────┼───────────────────────────────────────────────────────────────────────\n",
       "      1 │ G         A          -0.0382  0.009274        19  3.801e-5   5785382 ⋯\n",
       "      2 │ A         G           0.2982  0.104226        19  0.004222   5785511\n",
       "      3 │ G         A           0.1683  0.059636        19  0.004771   5785645\n",
       "      4 │ G         A          -0.0406  0.009287        19  1.232e-5   5785837\n",
       "      5 │ T         C           0.2696  0.085608        19  0.001637   5785857 ⋯\n",
       "      6 │ G         A          -0.1667  0.024098        19  4.594e-12  5785889\n",
       "      7 │ C         A          -0.0395  0.009252        19  1.961e-5   5785928\n",
       "      8 │ T         G          -0.0385  0.00926         19  3.214e-5   5785935\n",
       "      9 │ G         A           0.1677  0.059616        19  0.004908   5786008 ⋯\n",
       "     10 │ C         G          -0.0988  0.012288        19  8.955e-16  5786124\n",
       "   ⋮    │    ⋮         ⋮         ⋮         ⋮         ⋮          ⋮         ⋮    ⋱\n",
       " 819295 │ T         G           0.0272  0.008956        13  0.002389   9896854\n",
       " 819296 │ T         A           0.0232  0.007965        13  0.003582   9896925\n",
       " 819297 │ G         G          -0.0228  0.007943        13  0.004101   9896946 ⋯\n",
       " 819298 │ T         C           0.022   0.007527        13  0.003467   9897157\n",
       " 819299 │ C         T          -0.0842  0.028777        13  0.003434   9918030\n",
       " 819300 │ C         T          -0.0879  0.030877        13  0.004416   9923708\n",
       " 819301 │ T         G           0.325   0.115529        13  0.004906   9931924 ⋯\n",
       " 819302 │ C         T          -0.0882  0.030883        13  0.004291   9941503\n",
       " 819303 │ T         A           0.4451  0.117775        13  0.0001573  9941580\n",
       " 819304 │ C         A           1.1276  0.333015        13  0.0007091  9953395\n",
       "\u001b[36m                                               2 columns and 819284 rows omitted\u001b[0m"
      ]
     },
     "execution_count": 9,
     "metadata": {},
     "output_type": "execute_result"
    }
   ],
   "source": [
    "df_final = Folds.reduce(vcat, data_vect, init = Dataset())"
   ]
  },
  {
   "attachments": {},
   "cell_type": "markdown",
   "metadata": {},
   "source": [
    "**Idéee solution** : \n",
    "```\n",
    "si nb_files $\\geq$ nb_threads : @threads for_loop\n",
    "else : for_loop with threads = true in filereader and filter\n",
    "```"
   ]
  },
  {
   "attachments": {},
   "cell_type": "markdown",
   "metadata": {},
   "source": []
  }
 ],
 "metadata": {
  "kernelspec": {
   "display_name": "Julia 12 Threads 1.8.5",
   "language": "julia",
   "name": "julia-12-threads-1.8"
  },
  "language_info": {
   "file_extension": ".jl",
   "mimetype": "application/julia",
   "name": "julia",
   "version": "1.8.5"
  },
  "orig_nbformat": 4
 },
 "nbformat": 4,
 "nbformat_minor": 2
}
