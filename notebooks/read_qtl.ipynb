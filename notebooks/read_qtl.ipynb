{
 "cells": [
  {
   "attachments": {},
   "cell_type": "markdown",
   "metadata": {},
   "source": [
    "## Reading large QTl files based off QTLStudy structure"
   ]
  },
  {
   "cell_type": "code",
   "execution_count": null,
   "metadata": {},
   "outputs": [],
   "source": [
    "using DLMReader\n",
    "using Chain\n",
    "using InMemoryDatasets\n",
    "import Base.Threads.@threads\n",
    "using StatsBase\n",
    "\n",
    "export QTLStudy, GWAS, QTLStudy_from_pattern, GenVarInfo\n",
    "include(\"../src/inputs.jl\")\n",
    "include(\"../src/mrStudyCis.jl\")"
   ]
  },
  {
   "cell_type": "code",
   "execution_count": null,
   "metadata": {},
   "outputs": [],
   "source": [
    "GWAS_file_path = \"/mnt/r6_data/GWAS_MRsuite_hg38/input_MRsuite_BMI_Yengo_hg38\"\n",
    "QTL_prots_path = \"/home/samat33/CrickData_samat33/Decode_mapping_suite\"\n",
    "QTL_prots_tss_file = \"/mnt/r6_data/Patrick/Input_Decode/decode_list_hg38\"\n",
    "\n",
    "tss_df = filereader(QTL_prots_tss_file, delimiter = '_', header=[:trait, :chr, :tss], eolwarn = false)\n",
    "\n",
    "dropmissing!(tss_df)\n",
    "\n",
    "Decode_pat = [TRAIT_NAME, \"/\", TRAIT_NAME, \"_chromosome_\", CHR, \".tsv\"]\n",
    "Decode_columns = Dict(1 => \"id\", 2 => CHR, 3 => POS, 4 => A_EFFECT, 5 => A_OTHER, 6 => BETA, 7 => SE, 8 => PVAL)\n",
    "sep = '\\t'\n",
    "\n",
    "Decode = QTLStudy_from_pattern(QTL_prots_path,Decode_pat, tss_df.trait, tss_df.chr, tss_df.tss, Decode_columns, sep, true)\n",
    "\n",
    "display(Decode.path_v)\n",
    "display(Decode.traits_for_each_path)"
   ]
  },
  {
   "attachments": {},
   "cell_type": "markdown",
   "metadata": {},
   "source": [
    "Read each file : keep only relevant cols and smoosh it all together"
   ]
  },
  {
   "cell_type": "code",
   "execution_count": null,
   "metadata": {},
   "outputs": [],
   "source": [
    "Decode[1]"
   ]
  },
  {
   "cell_type": "code",
   "execution_count": null,
   "metadata": {},
   "outputs": [],
   "source": [
    "verify_and_simplify_columns(Decode)"
   ]
  },
  {
   "cell_type": "code",
   "execution_count": null,
   "metadata": {},
   "outputs": [],
   "source": [
    "types, header = make_types_and_headers(Decode)"
   ]
  },
  {
   "attachments": {},
   "cell_type": "markdown",
   "metadata": {},
   "source": [
    "Next : test speed lecture pour quelques fichiers seulement manuelement"
   ]
  },
  {
   "cell_type": "code",
   "execution_count": null,
   "metadata": {},
   "outputs": [],
   "source": [
    "file = Decode[1]\n",
    "d = filereader(file.path, delimiter = file.separator, header = header, types = types, skipto=2, makeunique=true, eolwarn=false, threads=false)[:,collect(keys(file.columns))]"
   ]
  },
  {
   "cell_type": "code",
   "execution_count": null,
   "metadata": {},
   "outputs": [],
   "source": [
    "window = 500000\n",
    "p_tresh = 5.0e-3\n",
    "in_window(s::SubArray) = (s[1] == ref_dict[s[3]][1] && abs(s[2]-ref_dict[s[3]][2])≤window && s[4]<p_tresh)\n",
    "ref_dict = Dict(zip(Decode.trait_v, zip(Decode.chr_v, Decode.tss_v)))"
   ]
  },
  {
   "cell_type": "code",
   "execution_count": null,
   "metadata": {},
   "outputs": [],
   "source": [
    "data_vect = Vector{Dataset}(undef, length(Decode));"
   ]
  },
  {
   "cell_type": "code",
   "execution_count": null,
   "metadata": {},
   "outputs": [],
   "source": [
    "using Printf\n",
    "using BenchmarkTools\n",
    "using Folds\n",
    "using BangBang"
   ]
  },
  {
   "cell_type": "code",
   "execution_count": null,
   "metadata": {},
   "outputs": [],
   "source": [
    "\n",
    "@time @threads for i in 1:lastindex(Decode)\n",
    "    @printf \"\\r%5i\" i\n",
    "    file = Decode[i]\n",
    "    d = filereader(file.path, delimiter = file.separator, header = header, types = types, skipto=2, makeunique=true, eolwarn=false, threads = false)[:,collect(keys(file.columns))]\n",
    "    d.trait = repeat([file.trait_name], nrow(d))\n",
    "    filter!(d, [:chr, :pos, :trait, :pval], type = in_window, threads = false)\n",
    "    data_vect[i] = d\n",
    "end"
   ]
  },
  {
   "attachments": {},
   "cell_type": "markdown",
   "metadata": {},
   "source": [
    "**Mem taken $\\sim$ 315 Gb. look workspace for temporary allocations + other optimisation**"
   ]
  },
  {
   "cell_type": "code",
   "execution_count": null,
   "metadata": {},
   "outputs": [],
   "source": [
    "df_final = Folds.reduce(vcat, data_vect, init = Dataset())\n",
    "data_vect = 0\n",
    "GC.gc()"
   ]
  },
  {
   "cell_type": "code",
   "execution_count": null,
   "metadata": {},
   "outputs": [],
   "source": [
    "groupby!(df_final, [:chr, :pos])"
   ]
  },
  {
   "cell_type": "code",
   "execution_count": null,
   "metadata": {},
   "outputs": [],
   "source": [
    "df_final"
   ]
  },
  {
   "cell_type": "code",
   "execution_count": null,
   "metadata": {},
   "outputs": [],
   "source": [
    "filewriter(\"/mnt/r6_data2/Decode_cis_filtered/Decode_cis_filteres.csv\", df_final)"
   ]
  },
  {
   "attachments": {},
   "cell_type": "markdown",
   "metadata": {},
   "source": [
    "takes 151 Mb. Read this file alone to compare!!!"
   ]
  },
  {
   "attachments": {},
   "cell_type": "markdown",
   "metadata": {},
   "source": [
    "**Solution multithread** : \n",
    "```\n",
    "si nb_files > nb_threads : @threads for_loop\n",
    "else : for_loop with threads = true in filereader and filter\n",
    "```"
   ]
  },
  {
   "cell_type": "code",
   "execution_count": null,
   "metadata": {},
   "outputs": [],
   "source": [
    "dada_retreived = filereader(\"/mnt/r6_data2/Decode_cis_filtered/Decode_cis_filteres.csv\")"
   ]
  },
  {
   "cell_type": "code",
   "execution_count": null,
   "metadata": {},
   "outputs": [],
   "source": [
    "groupby!(dada_retreived, [:chr, :pos])"
   ]
  }
 ],
 "metadata": {
  "kernelspec": {
   "display_name": "Julia 12 Threads 1.8.5",
   "language": "julia",
   "name": "julia-12-threads-1.8"
  },
  "language_info": {
   "file_extension": ".jl",
   "mimetype": "application/julia",
   "name": "julia",
   "version": "1.8.5"
  },
  "orig_nbformat": 4
 },
 "nbformat": 4,
 "nbformat_minor": 2
}
